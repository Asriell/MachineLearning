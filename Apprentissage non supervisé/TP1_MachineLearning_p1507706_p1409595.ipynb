{
 "cells": [
  {
   "cell_type": "markdown",
   "metadata": {},
   "source": [
    "# TP1 Machine Learning"
   ]
  },
  {
   "cell_type": "markdown",
   "metadata": {},
   "source": [
    "## BURDIN Kevin p1507706 FIRMIN-PIGNOT Jeff p1409595 "
   ]
  },
  {
   "cell_type": "markdown",
   "metadata": {},
   "source": [
    "> Exercice 1 Réduction de dimensions et visualisation des données"
   ]
  },
  {
   "cell_type": "code",
   "execution_count": 1,
   "metadata": {
    "scrolled": true
   },
   "outputs": [],
   "source": [
    "import numpy as np\n",
    "np.set_printoptions(threshold=10000,suppress=True)\n",
    "import pandas as pd\n",
    "import warnings\n",
    "import matplotlib.pyplot as plt\n",
    "warnings.filterwarnings('ignore')"
   ]
  },
  {
   "cell_type": "code",
   "execution_count": 2,
   "metadata": {},
   "outputs": [],
   "source": [
    "data = pd.read_csv('./villes.csv', sep=';')\n",
    "X = data.iloc[:, 1:13].values\n",
    "labels = data.iloc[:, 0].values"
   ]
  },
  {
   "cell_type": "code",
   "execution_count": 3,
   "metadata": {},
   "outputs": [
    {
     "name": "stdout",
     "output_type": "stream",
     "text": [
      "data :     ville  janv  fev  mars  avril   mai  juin  juil  aout  sept   oct   nov  \\\n",
      "0   ajac   7.7  8.7  10.5   12.6  15.9  19.8  22.0  22.2  20.3  16.3  11.8   \n",
      "1   ange   4.2  4.9   7.9   10.4  13.6  17.0  18.7  18.4  16.1  11.7   7.6   \n",
      "2   ango   4.6  5.4   8.9   11.3  14.5  17.2  19.5  19.4  16.9  12.5   8.1   \n",
      "3   besa   1.1  2.2   6.4    9.7  13.6  16.9  18.7  18.3  15.5  10.4   5.7   \n",
      "4   biar   7.6  8.0  10.8   12.0  14.7  17.8  19.7  19.9  18.5  14.8  10.9   \n",
      "5   bord   5.6  6.6  10.3   12.8  15.8  19.3  20.9  21.0  18.6  13.8   9.1   \n",
      "6   bres   6.1  5.8   7.8    9.2  11.6  14.4  15.6  16.0  14.7  12.0   9.0   \n",
      "7   cler   2.6  3.7   7.5   10.3  13.8  17.3  19.4  19.1  16.2  11.2   6.6   \n",
      "8   dijo   1.3  2.6   6.9   10.4  14.3  17.7  19.6  19.0  15.9  10.5   5.7   \n",
      "9   embr   0.5  1.6   5.7    9.0  13.0  16.4  18.9  18.3  15.3  10.1   4.6   \n",
      "10  gren   1.5  3.2   7.7   10.6  14.5  17.8  20.1  19.5  16.7  11.4   6.5   \n",
      "11  lill   2.4  2.9   6.0    8.9  12.4  15.3  17.1  17.1  14.7  10.4   6.1   \n",
      "12  limo   3.1  3.9   7.4    9.9  13.3  16.8  18.4  17.8  15.3  10.7   6.7   \n",
      "13  lyon   2.1  3.3   7.7   10.9  14.9  18.5  20.7  20.1  16.9  11.4   6.7   \n",
      "14  mars   5.5  6.6  10.0   13.0  16.8  20.8  23.3  22.8  19.9  15.0  10.2   \n",
      "15  mont   5.6  6.7   9.9   12.8  16.2  20.1  22.7  22.3  19.3  14.6  10.0   \n",
      "16  nanc   0.8  1.6   5.5    9.2  13.3  16.5  18.3  17.7  14.7   9.4   5.2   \n",
      "17  nant   5.0  5.3   8.4   10.8  13.9  17.2  18.8  18.6  16.4  12.2   8.2   \n",
      "18  nice   7.5  8.5  10.8   13.3  16.7  20.1  22.7  22.5  20.3  16.0  11.5   \n",
      "19  nime   5.7  6.8  10.1   13.0  16.6  20.8  23.6  22.9  19.7  14.6   9.8   \n",
      "20  orle   2.7  3.6   6.9    9.8  13.4  16.6  18.4  18.2  15.6  10.9   6.6   \n",
      "21  pari   3.4  4.1   7.6   10.7  14.3  17.5  19.1  18.7  16.0  11.4   7.1   \n",
      "22  perp   7.5  8.4  11.3   13.9  17.1  21.1  23.8  23.3  20.5  15.9  11.5   \n",
      "23  reim   1.9  2.8   6.2    9.4  13.3  16.4  18.3  17.9  15.1  10.3   6.1   \n",
      "24  renn   4.8  5.3   7.9   10.1  13.1  16.2  17.9  17.8  15.7  11.6   7.8   \n",
      "25  roue   3.4  3.9   6.8    9.5  12.9  15.7  17.6  17.2  15.0  11.0   6.8   \n",
      "26  stqu   2.0  2.9   6.3    9.2  12.7  15.6  17.4  17.4  15.0  10.5   6.1   \n",
      "27  stra   0.4  1.5   5.6    9.8  14.0  17.2  19.0  18.3  15.1   9.5   4.9   \n",
      "28  toul   8.6  9.1  11.2   13.4  16.6  20.2  22.6  22.4  20.5  16.5  12.6   \n",
      "29  tlse   4.7  5.6   9.2   11.6  14.9  18.7  20.9  20.9  18.3  13.3   8.6   \n",
      "30  tour   3.5  4.4   7.7   10.6  13.9  17.4  19.1  18.7  16.2  11.7   7.2   \n",
      "31  vich   2.4  3.4   7.1    9.9  13.6  17.1  19.3  18.8  16.0  11.0   6.6   \n",
      "\n",
      "    dec  \n",
      "0   8.7  \n",
      "1   4.9  \n",
      "2   5.3  \n",
      "3   2.0  \n",
      "4   8.2  \n",
      "5   6.2  \n",
      "6   7.0  \n",
      "7   3.6  \n",
      "8   2.1  \n",
      "9   0.5  \n",
      "10  2.3  \n",
      "11  3.5  \n",
      "12  3.8  \n",
      "13  3.1  \n",
      "14  6.9  \n",
      "15  6.5  \n",
      "16  1.8  \n",
      "17  5.5  \n",
      "18  8.2  \n",
      "19  6.5  \n",
      "20  3.6  \n",
      "21  4.3  \n",
      "22  8.6  \n",
      "23  3.0  \n",
      "24  5.4  \n",
      "25  4.3  \n",
      "26  3.1  \n",
      "27  1.3  \n",
      "28  9.7  \n",
      "29  5.5  \n",
      "30  4.3  \n",
      "31  3.4  \n",
      "X :  [[ 7.7  8.7 10.5 12.6 15.9 19.8 22.  22.2 20.3 16.3 11.8  8.7]\n",
      " [ 4.2  4.9  7.9 10.4 13.6 17.  18.7 18.4 16.1 11.7  7.6  4.9]\n",
      " [ 4.6  5.4  8.9 11.3 14.5 17.2 19.5 19.4 16.9 12.5  8.1  5.3]\n",
      " [ 1.1  2.2  6.4  9.7 13.6 16.9 18.7 18.3 15.5 10.4  5.7  2. ]\n",
      " [ 7.6  8.  10.8 12.  14.7 17.8 19.7 19.9 18.5 14.8 10.9  8.2]\n",
      " [ 5.6  6.6 10.3 12.8 15.8 19.3 20.9 21.  18.6 13.8  9.1  6.2]\n",
      " [ 6.1  5.8  7.8  9.2 11.6 14.4 15.6 16.  14.7 12.   9.   7. ]\n",
      " [ 2.6  3.7  7.5 10.3 13.8 17.3 19.4 19.1 16.2 11.2  6.6  3.6]\n",
      " [ 1.3  2.6  6.9 10.4 14.3 17.7 19.6 19.  15.9 10.5  5.7  2.1]\n",
      " [ 0.5  1.6  5.7  9.  13.  16.4 18.9 18.3 15.3 10.1  4.6  0.5]\n",
      " [ 1.5  3.2  7.7 10.6 14.5 17.8 20.1 19.5 16.7 11.4  6.5  2.3]\n",
      " [ 2.4  2.9  6.   8.9 12.4 15.3 17.1 17.1 14.7 10.4  6.1  3.5]\n",
      " [ 3.1  3.9  7.4  9.9 13.3 16.8 18.4 17.8 15.3 10.7  6.7  3.8]\n",
      " [ 2.1  3.3  7.7 10.9 14.9 18.5 20.7 20.1 16.9 11.4  6.7  3.1]\n",
      " [ 5.5  6.6 10.  13.  16.8 20.8 23.3 22.8 19.9 15.  10.2  6.9]\n",
      " [ 5.6  6.7  9.9 12.8 16.2 20.1 22.7 22.3 19.3 14.6 10.   6.5]\n",
      " [ 0.8  1.6  5.5  9.2 13.3 16.5 18.3 17.7 14.7  9.4  5.2  1.8]\n",
      " [ 5.   5.3  8.4 10.8 13.9 17.2 18.8 18.6 16.4 12.2  8.2  5.5]\n",
      " [ 7.5  8.5 10.8 13.3 16.7 20.1 22.7 22.5 20.3 16.  11.5  8.2]\n",
      " [ 5.7  6.8 10.1 13.  16.6 20.8 23.6 22.9 19.7 14.6  9.8  6.5]\n",
      " [ 2.7  3.6  6.9  9.8 13.4 16.6 18.4 18.2 15.6 10.9  6.6  3.6]\n",
      " [ 3.4  4.1  7.6 10.7 14.3 17.5 19.1 18.7 16.  11.4  7.1  4.3]\n",
      " [ 7.5  8.4 11.3 13.9 17.1 21.1 23.8 23.3 20.5 15.9 11.5  8.6]\n",
      " [ 1.9  2.8  6.2  9.4 13.3 16.4 18.3 17.9 15.1 10.3  6.1  3. ]\n",
      " [ 4.8  5.3  7.9 10.1 13.1 16.2 17.9 17.8 15.7 11.6  7.8  5.4]\n",
      " [ 3.4  3.9  6.8  9.5 12.9 15.7 17.6 17.2 15.  11.   6.8  4.3]\n",
      " [ 2.   2.9  6.3  9.2 12.7 15.6 17.4 17.4 15.  10.5  6.1  3.1]\n",
      " [ 0.4  1.5  5.6  9.8 14.  17.2 19.  18.3 15.1  9.5  4.9  1.3]\n",
      " [ 8.6  9.1 11.2 13.4 16.6 20.2 22.6 22.4 20.5 16.5 12.6  9.7]\n",
      " [ 4.7  5.6  9.2 11.6 14.9 18.7 20.9 20.9 18.3 13.3  8.6  5.5]\n",
      " [ 3.5  4.4  7.7 10.6 13.9 17.4 19.1 18.7 16.2 11.7  7.2  4.3]\n",
      " [ 2.4  3.4  7.1  9.9 13.6 17.1 19.3 18.8 16.  11.   6.6  3.4]]\n"
     ]
    }
   ],
   "source": [
    "print(\"data : \",data)\n",
    "print(\"X : \",X)"
   ]
  },
  {
   "cell_type": "code",
   "execution_count": 4,
   "metadata": {},
   "outputs": [
    {
     "name": "stdout",
     "output_type": "stream",
     "text": [
      "[[ 1.63835106  1.78748032  1.35686597  1.16748094  1.09413658  1.2081338\n",
      "   1.11734499  1.39767179  1.73963204  1.93208186  1.82836605  1.68024825]\n",
      " [ 0.116831    0.05000944 -0.1285452  -0.32148026 -0.52942092 -0.42704427\n",
      "  -0.5237069  -0.53585369 -0.41130215 -0.27258829 -0.12654562  0.04961627]\n",
      " [ 0.29071901  0.27862403  0.44276679  0.28764023  0.10588418 -0.31024584\n",
      "  -0.12587614 -0.0270312  -0.0016004   0.1108326   0.10618196  0.22126174]\n",
      " [-1.23080105 -1.18450934 -0.98551318 -0.79524064 -0.52942092 -0.48544349\n",
      "  -0.5237069  -0.58673594 -0.71857846 -0.89564725 -1.01091043 -1.1948134 ]\n",
      " [ 1.59487906  1.4674199   1.52825957  0.76140061  0.2470631   0.04014946\n",
      "  -0.02641845  0.22738005  0.8178031   1.21316768  1.40945641  1.46569141]\n",
      " [ 0.72543903  0.82729905  1.24260358  1.30284105  1.02354712  0.91613772\n",
      "   0.57032769  0.7870848   0.86901582  0.73389156  0.57163712  0.60746405]\n",
      " [ 0.94279904  0.4615157  -0.1856764  -1.13364091 -1.94121006 -1.94542391\n",
      "  -2.06530111 -1.75702768 -1.12828021 -0.12880546  0.5250916   0.950755  ]\n",
      " [-0.57872102 -0.49866557 -0.35706999 -0.38916031 -0.38824201 -0.25184662\n",
      "  -0.17560499 -0.17967794 -0.36008943 -0.51222635 -0.59200078 -0.50823151]\n",
      " [-1.14385704 -1.00161767 -0.69985719 -0.32148026 -0.03529473 -0.01824976\n",
      "  -0.07614729 -0.23056019 -0.51372758 -0.84771964 -1.01091043 -1.15190203]\n",
      " [-1.49163306 -1.45884685 -1.38543157 -1.26900102 -0.95295766 -0.77743958\n",
      "  -0.42424921 -0.58673594 -0.8210039  -1.03943009 -1.5229111  -1.83848392]\n",
      " [-1.05691304 -0.72728016 -0.2428076  -0.18612015  0.10588418  0.04014946\n",
      "   0.17249693  0.02385105 -0.10402583 -0.41637113 -0.6385463  -1.0660793 ]\n",
      " [-0.66566503 -0.86444892 -1.21403798 -1.33668107 -1.3764944  -1.41983096\n",
      "  -1.31936843 -1.19732293 -1.12828021 -0.89564725 -0.82472836 -0.55114288]\n",
      " [-0.36136101 -0.40721974 -0.41420119 -0.65988053 -0.74118929 -0.54384271\n",
      "  -0.67289344 -0.84114719 -0.8210039  -0.75186441 -0.54545527 -0.42240878]\n",
      " [-0.79608103 -0.68155724 -0.2428076   0.01692001  0.38824201  0.44894398\n",
      "   0.47087     0.32914455 -0.0016004  -0.41637113 -0.54545527 -0.72278835]\n",
      " [ 0.68196703  0.82729905  1.07120998  1.43820115  1.72944169  1.79212597\n",
      "   1.76381998  1.70296529  1.53478116  1.3090229   1.0836378   0.90784363]\n",
      " [ 0.72543903  0.87302196  1.01407878  1.30284105  1.30590495  1.38333145\n",
      "   1.46544691  1.44855404  1.22750485  1.11731246  0.99054676  0.73619816]\n",
      " [-1.36121705 -1.45884685 -1.49969397 -1.13364091 -0.74118929 -0.71904036\n",
      "  -0.72262228 -0.89202944 -1.12828021 -1.37492337 -1.24363801 -1.28063614]\n",
      " [ 0.46460702  0.23290111  0.1571108  -0.05076004 -0.31765255 -0.31024584\n",
      "  -0.47397806 -0.43408919 -0.25766399 -0.03295023  0.15272747  0.30708448]\n",
      " [ 1.55140706  1.69603449  1.52825957  1.64124132  1.65885223  1.38333145\n",
      "   1.46544691  1.55031854  1.73963204  1.78829903  1.68872951  1.46569141]\n",
      " [ 0.76891103  0.91874488  1.12834118  1.43820115  1.58826277  1.79212597\n",
      "   1.91300652  1.75384754  1.43235573  1.11731246  0.89745573  0.73619816]\n",
      " [-0.53524902 -0.54438849 -0.69985719 -0.72756058 -0.67059984 -0.66064114\n",
      "  -0.67289344 -0.63761819 -0.66736574 -0.65600919 -0.59200078 -0.50823151]\n",
      " [-0.23094501 -0.3157739  -0.29993879 -0.1184401  -0.03529473 -0.13504819\n",
      "  -0.32479152 -0.38320694 -0.46251487 -0.41637113 -0.3592732  -0.20785194]\n",
      " [ 1.55140706  1.65031157  1.81391557  2.04732164  1.94121006  1.96732362\n",
      "   2.01246421  1.95737653  1.84205748  1.74037141  1.68872951  1.63733688]\n",
      " [-0.88302503 -0.91017183 -1.09977558 -0.9982808  -0.74118929 -0.77743958\n",
      "  -0.72262228 -0.79026494 -0.92342933 -0.94357486 -0.82472836 -0.76569972]\n",
      " [ 0.37766301  0.23290111 -0.1285452  -0.52452042 -0.88236821 -0.89423801\n",
      "  -0.92153767 -0.84114719 -0.61615302 -0.32051591 -0.03345459  0.26417311]\n",
      " [-0.23094501 -0.40721974 -0.75698839 -0.93060075 -1.02354712 -1.18623409\n",
      "  -1.0707242  -1.14644068 -0.97464205 -0.60808158 -0.49890975 -0.20785194]\n",
      " [-0.83955303 -0.86444892 -1.04264438 -1.13364091 -1.16472603 -1.24463331\n",
      "  -1.17018189 -1.04467618 -0.97464205 -0.84771964 -0.82472836 -0.72278835]\n",
      " [-1.53510506 -1.50456977 -1.44256277 -0.72756058 -0.2470631  -0.31024584\n",
      "  -0.37452037 -0.58673594 -0.92342933 -1.32699576 -1.38327456 -1.49519298]\n",
      " [ 2.02959908  1.97037199  1.75678437  1.70892137  1.58826277  1.44173067\n",
      "   1.41571807  1.49943629  1.84205748  2.02793709  2.20073018  2.10936193]\n",
      " [ 0.33419101  0.37006987  0.61416039  0.49068039  0.38824201  0.56574241\n",
      "   0.57032769  0.73620255  0.71537766  0.4942535   0.33890954  0.30708448]\n",
      " [-0.18747301 -0.17860515 -0.2428076  -0.18612015 -0.31765255 -0.19344741\n",
      "  -0.32479152 -0.38320694 -0.36008943 -0.27258829 -0.31272769 -0.20785194]\n",
      " [-0.66566503 -0.63583433 -0.58559479 -0.65988053 -0.52942092 -0.36864506\n",
      "  -0.22533383 -0.33232469 -0.46251487 -0.60808158 -0.59200078 -0.59405425]]\n"
     ]
    }
   ],
   "source": [
    "from sklearn.preprocessing import StandardScaler\n",
    "autoscale = StandardScaler()\n",
    "X = autoscale.fit_transform(X)\n",
    "print(X)"
   ]
  },
  {
   "cell_type": "code",
   "execution_count": 5,
   "metadata": {},
   "outputs": [],
   "source": [
    "from sklearn.decomposition import PCA\n",
    "_nbComponents = 12\n",
    "pca = PCA(n_components=_nbComponents)\n",
    "X_pca = pca.fit_transform(X)"
   ]
  },
  {
   "cell_type": "code",
   "execution_count": 6,
   "metadata": {},
   "outputs": [
    {
     "data": {
      "text/plain": [
       "0.9898879529268558"
      ]
     },
     "execution_count": 6,
     "metadata": {},
     "output_type": "execute_result"
    }
   ],
   "source": [
    "sum(pca.explained_variance_ratio_[:2])"
   ]
  },
  {
   "cell_type": "markdown",
   "metadata": {},
   "source": [
    "--> On prend 2 axes. Cela donne 98% des données."
   ]
  },
  {
   "cell_type": "code",
   "execution_count": 7,
   "metadata": {},
   "outputs": [
    {
     "data": {
      "text/plain": [
       "array([[ 0.27151028,  0.28846164,  0.3010811 ,  0.30354174,  0.28353089,\n",
       "         0.27841907,  0.27290295,  0.28757774,  0.30472022,  0.3038548 ,\n",
       "         0.29242808,  0.2729549 ],\n",
       "       [ 0.39933494,  0.29907184,  0.12943051, -0.11530598, -0.32314291,\n",
       "        -0.35846763, -0.38879639, -0.3010133 , -0.11231622,  0.12249226,\n",
       "         0.26269461,  0.38693688],\n",
       "       [ 0.04409365,  0.03948181,  0.53570204,  0.5113345 ,  0.23821244,\n",
       "         0.05381216, -0.22933643, -0.25421533, -0.27486626, -0.3536259 ,\n",
       "        -0.25411937, -0.07756511],\n",
       "       [-0.1558089 ,  0.07307363,  0.54015114, -0.07666717, -0.3189685 ,\n",
       "        -0.30424435, -0.06181967,  0.16879935,  0.35726159,  0.2857622 ,\n",
       "        -0.15061539, -0.46275418],\n",
       "       [ 0.2584192 ,  0.15926626,  0.1946403 , -0.18824458, -0.55146666,\n",
       "         0.31127222,  0.43376098,  0.16314861, -0.21810887, -0.32453688,\n",
       "        -0.24260357,  0.08371863],\n",
       "       [ 0.43776933,  0.37595552, -0.38220213,  0.1890633 ,  0.17724002,\n",
       "        -0.37334457,  0.16713764,  0.08435234, -0.04199298,  0.09589578,\n",
       "        -0.4472927 , -0.26136447],\n",
       "       [-0.15261312, -0.27903424,  0.16042867,  0.08908556,  0.07905529,\n",
       "        -0.64954049,  0.33342165,  0.33970514, -0.16361469, -0.1640994 ,\n",
       "         0.028229  ,  0.39491533],\n",
       "       [-0.01028354, -0.11269172, -0.15959003,  0.21759522, -0.20645254,\n",
       "         0.13306705, -0.50676147,  0.43406456,  0.27833385, -0.0325829 ,\n",
       "        -0.43165199,  0.3794399 ],\n",
       "       [ 0.27442329, -0.55879505, -0.0577885 ,  0.41281599, -0.31225341,\n",
       "         0.07461705,  0.08076899, -0.04555364, -0.28967752,  0.47114429,\n",
       "         0.06307291, -0.13094479],\n",
       "       [-0.60763063,  0.46883187, -0.10150465,  0.25242373, -0.19109892,\n",
       "         0.04941761,  0.07372181, -0.02139433, -0.37508031,  0.34937943,\n",
       "        -0.07929465,  0.15188277],\n",
       "       [ 0.01339817, -0.17462938,  0.20219948, -0.35683559,  0.24691002,\n",
       "         0.07094949,  0.15117812, -0.35749146,  0.03054986,  0.40302251,\n",
       "        -0.54858438,  0.34662687],\n",
       "       [ 0.11862328,  0.02507744,  0.1554381 , -0.37322221,  0.27805641,\n",
       "         0.09794656, -0.31475444,  0.51545512, -0.55878203,  0.19229164,\n",
       "         0.0309434 , -0.14142013]])"
      ]
     },
     "execution_count": 7,
     "metadata": {},
     "output_type": "execute_result"
    }
   ],
   "source": [
    "pca.components_"
   ]
  },
  {
   "cell_type": "markdown",
   "metadata": {},
   "source": [
    "Regardons y1 et y2 les axes que nous considérons comme pertinents : On remarque que, pour y1, les valeurs sont plus ou moins équivalentes pour les 12 variables. Pour y2, on a une forte différence entre certaines valeurs. On remarque que ces dernières sont directement corrélées avec la saison : l'été, qui contient les valeurs négatives. On peut donc assimiler y1 à l'axe des abscisses, qui correspondrait à la température moyenne des villes pendant l'année. L'axe des ordonnées correspondrait, quant à lui à l'ampitude des températures pendant l'année pour chaque ville. "
   ]
  },
  {
   "cell_type": "code",
   "execution_count": 8,
   "metadata": {},
   "outputs": [
    {
     "data": {
      "image/png": "[encoded data removed]",
      "text/plain": [
       "<Figure size 432x288 with 1 Axes>"
      ]
     },
     "metadata": {},
     "output_type": "display_data"
    }
   ],
   "source": [
    "import matplotlib\n",
    "plt.scatter(X_pca[:, 0], X_pca[:, 1])\n",
    "for label, x, y in zip(labels, X_pca[:, 0], X_pca[:, 1]):\n",
    "    plt.annotate(label, xy=(x, y), xytext=(-0.2, 0.2), textcoords='offset points')\n",
    "plt.show()"
   ]
  },
  {
   "cell_type": "markdown",
   "metadata": {},
   "source": [
    "### avec crimes.csv"
   ]
  },
  {
   "cell_type": "code",
   "execution_count": 9,
   "metadata": {},
   "outputs": [],
   "source": [
    "data = pd.read_csv('./crimes.csv', sep=';')\n",
    "X = data.iloc[:, 1:13].values\n",
    "labels = data.iloc[:, 0].values"
   ]
  },
  {
   "cell_type": "code",
   "execution_count": 10,
   "metadata": {},
   "outputs": [
    {
     "name": "stdout",
     "output_type": "stream",
     "text": [
      "data :                Etat   Meutre  Rapt    Vol  Attaque    Viol  Larcin  Auto_Theft\n",
      "0           Alabama    14.2  25.2   96.8    278.3  1135.5  1881.9       280.7\n",
      "1            Alaska    10.8  51.6   96.8    284.0  1331.7  3369.8       753.3\n",
      "2           Arizona     9.5  34.2  138.2    312.3  2346.1  4467.4       439.5\n",
      "3          Arkansas     8.8  27.6   83.2    203.4   972.6  1862.1       183.4\n",
      "4        California    11.5  49.4  287.0    358.0  2139.4  3499.8       663.5\n",
      "5          Colorado     6.3  42.0  170.7    292.9  1935.2  3903.2       477.1\n",
      "6       Connecticut     4.2  16.8  129.5    131.8  1346.0  2620.7       593.2\n",
      "7          Delaware     6.0  24.9  157.0    194.2  1682.6  3678.4       467.0\n",
      "8           Florida    10.2  39.6  187.9    449.1  1859.9  3840.5       351.4\n",
      "9           Georgia    11.7  31.1  140.5    256.5  1351.1  2170.2       297.9\n",
      "10           Hawaii     7.2  25.5  128.0     64.1  1911.5  3920.4       489.4\n",
      "11            Idaho     5.5  19.4   39.6    172.5  1050.8  2599.6       237.6\n",
      "12         Illinois     9.9  21.8  211.3    209.0  1085.0  2828.5       528.6\n",
      "13          Indiana     7.4  26.5  123.2    153.5  1086.2  2498.7       377.4\n",
      "14             Iowa     2.3  10.6   41.2     89.8   812.5  2685.1       219.9\n",
      "15           Kansas     6.6  22.0  100.7    180.5  1270.4  2739.3       244.3\n",
      "16         Kentucky    10.1  19.1   81.1    123.3   872.2  1662.1       245.4\n",
      "17        Louisiana    15.5  30.9  142.9    335.5  1165.5  2469.9       337.7\n",
      "18            Maine     2.4  13.5   38.7    170.0  1253.1  2350.7       246.9\n",
      "19         Maryland     8.0  34.8  292.1    358.9  1400.0  3177.7       428.5\n",
      "20    Massachusetts     3.1  20.8  169.1    231.6  1532.2  2311.3      1140.1\n",
      "21         Michigan     9.3  38.9  261.9    274.6  1522.7  3159.0       545.5\n",
      "22        Minnesota     2.7  19.5   85.9     85.8  1134.7  2559.3       343.1\n",
      "23      Mississippi    14.3  19.6   65.7    189.1   915.6  1239.9       144.4\n",
      "24         Missouri     9.6  28.3  189.0    233.5  1318.3  2424.2       378.4\n",
      "25          Montana     5.4  16.7   39.2    156.8   804.9  2773.2       309.2\n",
      "26         Nebraska     3.9  18.1   64.7    112.7   760.0  2316.1       249.1\n",
      "27           Nevada    15.8  49.1  323.1    355.0  2453.1  4212.6       559.2\n",
      "28    New-Hampshire     3.2  10.7   23.2     76.0  1041.7  2343.9       293.4\n",
      "29       New-Jersey     5.6  21.0  180.4    185.1  1435.8  2774.5       511.5\n",
      "30       New-Mexico     8.8  39.1  109.6    343.4  1418.7  3008.6       259.5\n",
      "31         New-York    10.7  29.4  472.6    319.1  1728.0  2782.0       745.8\n",
      "32  North-Carolina     10.6  17.0   61.3    318.3  1154.1  2037.8       192.1\n",
      "33     North-Dakota     0.9   9.0   13.3     43.8   446.1  1843.0       144.7\n",
      "34             Ohio     7.8  27.3  190.5    181.1  1216.0  2696.8       400.4\n",
      "35         Oklahoma     8.6  29.2   73.8    205.0  1288.2  2228.1       326.8\n",
      "36           Oregon     4.9  39.9  124.1    286.9  1636.4  3506.1       388.9\n",
      "37     Pennsylvania     5.6  19.0  130.3    128.0   877.5  1624.1       333.2\n",
      "38     Rhode-Island     3.6  10.5   86.5    201.0  1489.5  2844.1       791.4\n",
      "39  South-Carolina     11.9  33.0  105.9    485.3  1613.6  2342.4       245.1\n",
      "40     South-Dakota     2.0  13.5   17.9    155.7   570.5  1704.4       147.5\n",
      "41        Tennessee    10.1  29.7  145.8    203.9  1259.7  1776.5       314.0\n",
      "42            Texas    13.3  33.8  152.4    208.2  1603.1  2988.7       397.6\n",
      "43             Utah     3.5  20.3   68.8    147.3  1171.6  3004.6       334.5\n",
      "44          Vermont     1.4  15.9   30.8    101.2  1348.2  2201.0       265.2\n",
      "45         Virginia     9.0  23.3   92.1    165.7   986.2  2521.2       226.7\n",
      "46       Washington     4.3  39.6  106.2    224.8  1605.6  3386.9       360.3\n",
      "47    West-Virginia     6.0  13.2   42.2     90.9   597.4  1341.7       163.3\n",
      "48        Wisconsin     2.8  12.9   52.2     63.7   846.9  2614.2       220.7\n",
      "49          Wyoming     5.4  21.9   39.7    173.9   811.6  2772.2       282.0\n",
      "X :  [[  14.2   25.2   96.8  278.3 1135.5 1881.9  280.7]\n",
      " [  10.8   51.6   96.8  284.  1331.7 3369.8  753.3]\n",
      " [   9.5   34.2  138.2  312.3 2346.1 4467.4  439.5]\n",
      " [   8.8   27.6   83.2  203.4  972.6 1862.1  183.4]\n",
      " [  11.5   49.4  287.   358.  2139.4 3499.8  663.5]\n",
      " [   6.3   42.   170.7  292.9 1935.2 3903.2  477.1]\n",
      " [   4.2   16.8  129.5  131.8 1346.  2620.7  593.2]\n",
      " [   6.    24.9  157.   194.2 1682.6 3678.4  467. ]\n",
      " [  10.2   39.6  187.9  449.1 1859.9 3840.5  351.4]\n",
      " [  11.7   31.1  140.5  256.5 1351.1 2170.2  297.9]\n",
      " [   7.2   25.5  128.    64.1 1911.5 3920.4  489.4]\n",
      " [   5.5   19.4   39.6  172.5 1050.8 2599.6  237.6]\n",
      " [   9.9   21.8  211.3  209.  1085.  2828.5  528.6]\n",
      " [   7.4   26.5  123.2  153.5 1086.2 2498.7  377.4]\n",
      " [   2.3   10.6   41.2   89.8  812.5 2685.1  219.9]\n",
      " [   6.6   22.   100.7  180.5 1270.4 2739.3  244.3]\n",
      " [  10.1   19.1   81.1  123.3  872.2 1662.1  245.4]\n",
      " [  15.5   30.9  142.9  335.5 1165.5 2469.9  337.7]\n",
      " [   2.4   13.5   38.7  170.  1253.1 2350.7  246.9]\n",
      " [   8.    34.8  292.1  358.9 1400.  3177.7  428.5]\n",
      " [   3.1   20.8  169.1  231.6 1532.2 2311.3 1140.1]\n",
      " [   9.3   38.9  261.9  274.6 1522.7 3159.   545.5]\n",
      " [   2.7   19.5   85.9   85.8 1134.7 2559.3  343.1]\n",
      " [  14.3   19.6   65.7  189.1  915.6 1239.9  144.4]\n",
      " [   9.6   28.3  189.   233.5 1318.3 2424.2  378.4]\n",
      " [   5.4   16.7   39.2  156.8  804.9 2773.2  309.2]\n",
      " [   3.9   18.1   64.7  112.7  760.  2316.1  249.1]\n",
      " [  15.8   49.1  323.1  355.  2453.1 4212.6  559.2]\n",
      " [   3.2   10.7   23.2   76.  1041.7 2343.9  293.4]\n",
      " [   5.6   21.   180.4  185.1 1435.8 2774.5  511.5]\n",
      " [   8.8   39.1  109.6  343.4 1418.7 3008.6  259.5]\n",
      " [  10.7   29.4  472.6  319.1 1728.  2782.   745.8]\n",
      " [  10.6   17.    61.3  318.3 1154.1 2037.8  192.1]\n",
      " [   0.9    9.    13.3   43.8  446.1 1843.   144.7]\n",
      " [   7.8   27.3  190.5  181.1 1216.  2696.8  400.4]\n",
      " [   8.6   29.2   73.8  205.  1288.2 2228.1  326.8]\n",
      " [   4.9   39.9  124.1  286.9 1636.4 3506.1  388.9]\n",
      " [   5.6   19.   130.3  128.   877.5 1624.1  333.2]\n",
      " [   3.6   10.5   86.5  201.  1489.5 2844.1  791.4]\n",
      " [  11.9   33.   105.9  485.3 1613.6 2342.4  245.1]\n",
      " [   2.    13.5   17.9  155.7  570.5 1704.4  147.5]\n",
      " [  10.1   29.7  145.8  203.9 1259.7 1776.5  314. ]\n",
      " [  13.3   33.8  152.4  208.2 1603.1 2988.7  397.6]\n",
      " [   3.5   20.3   68.8  147.3 1171.6 3004.6  334.5]\n",
      " [   1.4   15.9   30.8  101.2 1348.2 2201.   265.2]\n",
      " [   9.    23.3   92.1  165.7  986.2 2521.2  226.7]\n",
      " [   4.3   39.6  106.2  224.8 1605.6 3386.9  360.3]\n",
      " [   6.    13.2   42.2   90.9  597.4 1341.7  163.3]\n",
      " [   2.8   12.9   52.2   63.7  846.9 2614.2  220.7]\n",
      " [   5.4   21.9   39.7  173.9  811.6 2772.2  282. ]]\n"
     ]
    }
   ],
   "source": [
    "print(\"data : \",data)\n",
    "print(\"X : \",X)"
   ]
  },
  {
   "cell_type": "code",
   "execution_count": 11,
   "metadata": {},
   "outputs": [
    {
     "name": "stdout",
     "output_type": "stream",
     "text": [
      "[[ 1.76493364 -0.05013383 -0.31204901  0.67509389 -0.3653366  -1.0984884\n",
      "  -0.50574898]\n",
      " [ 0.87671955  2.4283926  -0.31204901  0.73252725  0.09295757  0.97202812\n",
      "   1.96277156]\n",
      " [ 0.53710828  0.79481836  0.16130688  1.01767884  2.46244585  2.499415\n",
      "   0.32370735]\n",
      " [ 0.35424068  0.17518675 -0.46754757 -0.07960062 -0.74584689 -1.12604148\n",
      "  -1.0139738 ]\n",
      " [ 1.05958716  2.22184873  1.86264402  1.47815333  1.97962524  1.15293218\n",
      "   1.49372132]\n",
      " [-0.29885792  1.52711026  0.5329027   0.8222039   1.50264426  1.71429138\n",
      "   0.52010255]\n",
      " [-0.84746074 -0.83875587  0.06183354 -0.80104424  0.12636025 -0.07039673\n",
      "   1.12652497]\n",
      " [-0.37722975 -0.0782989   0.37626077 -0.17230008  0.91260804  1.40146652\n",
      "   0.46734745]\n",
      " [ 0.71997589  1.30178968  0.72956264  2.39607949  1.3267546   1.62703997\n",
      "  -0.13646333]\n",
      " [ 1.11183505  0.50377927  0.18760443  0.45543647  0.1382731  -0.69729887\n",
      "  -0.41590863]\n",
      " [-0.06374242 -0.02196876  0.04468297 -1.48319134  1.44728457  1.73822638\n",
      "   0.58434885]\n",
      " [-0.50784947 -0.59465858 -0.96605765 -0.39094989 -0.56318327 -0.09975885\n",
      "  -0.73087221]\n",
      " [ 0.64160406 -0.36933799  0.99711162 -0.02317486 -0.48329713  0.21877145\n",
      "   0.7891013 ]\n",
      " [-0.01149454  0.07191482 -0.01019888 -0.58239443 -0.4804941  -0.24016823\n",
      "  -0.00065813]\n",
      " [-1.34381567 -1.42083405 -0.9477637  -1.22423742 -1.1198168   0.01922036\n",
      "  -0.8233242 ]\n",
      " [-0.22048609 -0.35056128 -0.26745752 -0.31034167 -0.05023016  0.09464344\n",
      "  -0.69587625]\n",
      " [ 0.69385195 -0.62282365 -0.49155838 -0.88669048 -0.98036644 -1.40435542\n",
      "  -0.69013065]\n",
      " [ 2.10454491  0.48500256  0.21504536  1.25144269 -0.29526104 -0.28024543\n",
      "  -0.20802222]\n",
      " [-1.31769172 -1.14857168 -0.97634799 -0.41613996 -0.0906404  -0.44612054\n",
      "  -0.68229574]\n",
      " [ 0.14524913  0.85114851  1.92095598  1.48722175  0.25249626  0.70470758\n",
      "   0.2662513 ]\n",
      " [-1.13482412 -0.46322157  0.51460875  0.20454337  0.5612959  -0.50094838\n",
      "   3.98313496]\n",
      " [ 0.4848604   1.23607117  1.57565772  0.63781258  0.5391053   0.67868523\n",
      "   0.87737467]\n",
      " [-1.23931989 -0.58527022 -0.43667653 -1.26454153 -0.36720528 -0.1558391\n",
      "  -0.17981652]\n",
      " [ 1.79105759 -0.57588186 -0.66763762 -0.22368782 -0.87899046 -1.99187614\n",
      "  -1.21768159]\n",
      " [ 0.56323223  0.24090526  0.74213973  0.22368782  0.06165715 -0.34384017\n",
      "   0.00456514]\n",
      " [-0.53397341 -0.84814423 -0.97063113 -0.54914353 -1.13756928  0.14181765\n",
      "  -0.3568856 ]\n",
      " [-0.92583257 -0.71670722 -0.67907134 -0.99349637 -1.24244903 -0.49426885\n",
      "  -0.67080453]\n",
      " [ 2.18291674  2.19368365  2.27540122  1.44792524  2.71238202  2.14484304\n",
      "   0.94893356]\n",
      " [-1.10870017 -1.41144569 -1.15357061 -1.36328661 -0.58443952 -0.45558321\n",
      "  -0.43941337]\n",
      " [-0.48172552 -0.44444485  0.64380976 -0.26399194  0.33611976  0.14362669\n",
      "   0.69978327]\n",
      " [ 0.35424068  1.25484789 -0.16569743  1.33104332  0.29617669  0.46939315\n",
      "  -0.61648245]\n",
      " [ 0.85059561  0.34417719  3.98474196  1.08619583  1.01865572  0.15406346\n",
      "   1.92359698]\n",
      " [ 0.82447167 -0.81997916 -0.71794598  1.07813501 -0.32188975 -0.88154269\n",
      "  -0.9685313 ]\n",
      " [-1.70955088 -1.57104777 -1.26676441 -1.68773471 -1.97567298 -1.15262046\n",
      "  -1.21611461]\n",
      " [ 0.09300124  0.14702168  0.7592903  -0.30429605 -0.17730051  0.03550173\n",
      "   0.11947723]\n",
      " [ 0.30199279  0.32540048 -0.57502451 -0.06347898 -0.008652   -0.61672698\n",
      "  -0.26495593]\n",
      " [-0.66459313  1.32995475  0.00009147  0.76174773  0.80469168  1.16169907\n",
      "   0.05940955]\n",
      " [-0.48172552 -0.63221201  0.07098052 -0.83933314 -0.96798642 -1.45723507\n",
      "  -0.23152696]\n",
      " [-1.0042044  -1.43022241 -0.4298163  -0.10378309  0.46155502  0.24047994\n",
      "   2.1617784 ]\n",
      " [ 1.16408294  0.68215807 -0.20800219  2.76083171  0.75143425 -0.45767057\n",
      "  -0.69169763]\n",
      " [-1.4221875  -1.14857168 -1.21416931 -0.56022716 -1.68509299 -1.34549202\n",
      "  -1.20148943]\n",
      " [ 0.69385195  0.37234227  0.24820314 -0.07456261 -0.07522378 -1.24515985\n",
      "  -0.33181387]\n",
      " [ 1.52981815  0.75726493  0.32366567 -0.03123569  0.7269078   0.44170091\n",
      "   0.10485206]\n",
      " [-1.03032834 -0.51016336 -0.6321931  -0.6448658  -0.28101234  0.46382687\n",
      "  -0.2247367 ]\n",
      " [-1.57893116 -0.92325109 -1.06667436 -1.1093707   0.13149913 -0.65443852\n",
      "  -0.58670977]\n",
      " [ 0.40648857 -0.22851263 -0.36578749 -0.45946688 -0.71407931 -0.20885791\n",
      "  -0.78780592]\n",
      " [-0.82133679  1.30178968 -0.20457207  0.13602638  0.73274743  0.99582396\n",
      "  -0.08997616]\n",
      " [-0.37722975 -1.17673675 -0.93632998 -1.21315379 -1.62225857 -1.85021434\n",
      "  -1.11896166]\n",
      " [-1.21319595 -1.20490182 -0.82199281 -1.48722175 -1.03946349 -0.07944193\n",
      "  -0.81914558]\n",
      " [-0.53397341 -0.35994963 -0.96491427 -0.37684345 -1.12191907  0.14042608\n",
      "  -0.49895872]]\n"
     ]
    }
   ],
   "source": [
    "from sklearn.preprocessing import StandardScaler\n",
    "autoscale = StandardScaler()\n",
    "X = autoscale.fit_transform(X)\n",
    "print(X)"
   ]
  },
  {
   "cell_type": "code",
   "execution_count": 12,
   "metadata": {},
   "outputs": [],
   "source": [
    "from sklearn.decomposition import PCA\n",
    "_nbComponents = 7\n",
    "pca = PCA(n_components=_nbComponents)\n",
    "X_pca = pca.fit_transform(X)"
   ]
  },
  {
   "cell_type": "code",
   "execution_count": 13,
   "metadata": {},
   "outputs": [
    {
     "data": {
      "text/plain": [
       "0.913704287620304"
      ]
     },
     "execution_count": 13,
     "metadata": {},
     "output_type": "execute_result"
    }
   ],
   "source": [
    "sum(pca.explained_variance_ratio_[:4])"
   ]
  },
  {
   "cell_type": "markdown",
   "metadata": {},
   "source": [
    "Il faut 4 axes pour représenter les données à plus de 90%, mais on va tout de même les représenter en 2 dimensions."
   ]
  },
  {
   "cell_type": "code",
   "execution_count": 14,
   "metadata": {
    "scrolled": false
   },
   "outputs": [
    {
     "data": {
      "text/plain": [
       "array([[ 0.30027916,  0.43175936,  0.39687549,  0.3966517 ,  0.44015721,\n",
       "         0.35735953,  0.29517681],\n",
       "       [-0.62917444, -0.16943512,  0.04224698, -0.34352815,  0.20334059,\n",
       "         0.40231912,  0.50242093],\n",
       "       [ 0.1782453 , -0.24419758,  0.49586087, -0.06950972, -0.20989509,\n",
       "        -0.53923144,  0.56838373],\n",
       "       [-0.23211411,  0.06221567, -0.55798926,  0.62980445, -0.05755491,\n",
       "        -0.23488987,  0.41923832],\n",
       "       [ 0.53812286,  0.18847069, -0.51997683, -0.50665138,  0.10103335,\n",
       "         0.03009857,  0.36975317],\n",
       "       [-0.25911677,  0.77327066,  0.11438481, -0.17236294, -0.53598716,\n",
       "        -0.03940645,  0.05729763],\n",
       "       [-0.26759277,  0.29648548,  0.00390268, -0.19174459,  0.64811708,\n",
       "        -0.60169004, -0.14704626]])"
      ]
     },
     "execution_count": 14,
     "metadata": {},
     "output_type": "execute_result"
    }
   ],
   "source": [
    "pca.components_"
   ]
  },
  {
   "cell_type": "markdown",
   "metadata": {},
   "source": [
    "Pour avoir plus de 90% des données, nous devrions analyser les 4 premières lignes de pca.components_. Cependant, nous allons représenter en 2 dimensions, donc nous n'analyserons que les deux premiers. On remarque que y1 possède des coefficients assez proches. On peut donc voir y1 comme le nombre total de crimes par Etat américain. y2 possède des valeurs négatives, et on remarque que y2 pondère positivement les crimes moins graves, tels que les vols, plutot que les crime plus grave, qui sont pondérés négativement. On peut donc voir y2 comme un indice de gravité des incidents : plus y2 sera élevé, plus la proportion de petits délits sera importante. "
   ]
  },
  {
   "cell_type": "code",
   "execution_count": 15,
   "metadata": {},
   "outputs": [
    {
     "data": {
      "image/png": "[encoded data removed]",
      "text/plain": [
       "<Figure size 432x288 with 1 Axes>"
      ]
     },
     "metadata": {},
     "output_type": "display_data"
    }
   ],
   "source": [
    "import matplotlib\n",
    "plt.scatter(X_pca[:, 0], X_pca[:, 1])\n",
    "for label, x, y in zip(labels, X_pca[:, 0], X_pca[:, 1]):\n",
    "    plt.annotate(label, xy=(x, y), xytext=(-0.2, 0.2), textcoords='offset points')\n",
    "plt.show()"
   ]
  },
  {
   "cell_type": "markdown",
   "metadata": {},
   "source": [
    "### avec 50_Startup.csv"
   ]
  },
  {
   "cell_type": "code",
   "execution_count": 16,
   "metadata": {},
   "outputs": [],
   "source": [
    "data = pd.read_csv('./50_Startups.csv', sep=';')\n",
    "X = data.iloc[:, 1:13].values\n",
    "labels = data.iloc[:, 0].values"
   ]
  },
  {
   "cell_type": "code",
   "execution_count": 17,
   "metadata": {
    "scrolled": false
   },
   "outputs": [
    {
     "name": "stdout",
     "output_type": "stream",
     "text": [
      "data :      Id  Depenses R&D  Depenses Administration  Depenses Marketing Spend  \\\n",
      "0    1     165349.20                136897.80                 471784.10   \n",
      "1    2     162597.70                151377.59                 443898.53   \n",
      "2    3     153441.51                101145.55                 407934.54   \n",
      "3    4     144372.41                118671.85                 383199.62   \n",
      "4    5     142107.34                 91391.77                 366168.42   \n",
      "5    6     131876.90                 99814.71                 362861.36   \n",
      "6    7     134615.46                147198.87                 127716.82   \n",
      "7    8     130298.13                145530.06                 323876.68   \n",
      "8    9     120542.52                148718.95                 311613.29   \n",
      "9   10     123334.88                108679.17                 304981.62   \n",
      "10  11     101913.08                110594.11                 229160.95   \n",
      "11  12     100671.96                 91790.61                 249744.55   \n",
      "12  13      93863.75                127320.38                 249839.44   \n",
      "13  14      91992.39                135495.07                 252664.93   \n",
      "14  15     119943.24                156547.42                 256512.92   \n",
      "15  16     114523.61                122616.84                 261776.23   \n",
      "16  17      78013.11                121597.55                 264346.06   \n",
      "17  18      94657.16                145077.58                 282574.31   \n",
      "18  19      91749.16                114175.79                 294919.57   \n",
      "19  20      86419.70                153514.11                      0.00   \n",
      "20  21      76253.86                113867.30                 298664.47   \n",
      "21  22      78389.47                153773.43                 299737.29   \n",
      "22  23      73994.56                122782.75                 303319.26   \n",
      "23  24      67532.53                105751.03                 304768.73   \n",
      "24  25      77044.01                 99281.34                 140574.81   \n",
      "25  26      64664.71                139553.16                 137962.62   \n",
      "26  27      75328.87                144135.98                 134050.07   \n",
      "27  28      72107.60                127864.55                 353183.81   \n",
      "28  29      66051.52                182645.56                 118148.20   \n",
      "29  30      65605.48                153032.06                 107138.38   \n",
      "30  31      61994.48                115641.28                  91131.24   \n",
      "31  32      61136.38                152701.92                  88218.23   \n",
      "32  33      63408.86                129219.61                  46085.25   \n",
      "33  34      55493.95                103057.49                 214634.81   \n",
      "34  35      46426.07                157693.92                 210797.67   \n",
      "35  36      46014.02                 85047.44                 205517.64   \n",
      "36  37      28663.76                127056.21                 201126.82   \n",
      "37  38      44069.95                 51283.14                 197029.42   \n",
      "38  39      20229.59                 65947.93                 185265.10   \n",
      "39  40      38558.51                 82982.09                 174999.30   \n",
      "40  41      28754.33                118546.05                 172795.67   \n",
      "41  42      27892.92                 84710.77                 164470.71   \n",
      "42  43      23640.93                 96189.63                 148001.11   \n",
      "43  44      15505.73                127382.30                  35534.17   \n",
      "44  45      22177.74                154806.14                  28334.72   \n",
      "45  46       1000.23                124153.04                   1903.93   \n",
      "46  47       1315.46                115816.21                 297114.46   \n",
      "47  48          0.00                135426.92                      0.00   \n",
      "48  49        542.05                 51743.15                      0.00   \n",
      "49  50          0.00                116983.80                  45173.06   \n",
      "\n",
      "     Benefice  \n",
      "0   192261.83  \n",
      "1   191792.06  \n",
      "2   191050.39  \n",
      "3   182901.99  \n",
      "4   166187.94  \n",
      "5   156991.12  \n",
      "6   156122.51  \n",
      "7   155752.60  \n",
      "8   152211.77  \n",
      "9   149759.96  \n",
      "10  146121.95  \n",
      "11  144259.40  \n",
      "12  141585.52  \n",
      "13  134307.35  \n",
      "14  132602.65  \n",
      "15  129917.04  \n",
      "16  126992.93  \n",
      "17  125370.37  \n",
      "18  124266.90  \n",
      "19  122776.86  \n",
      "20  118474.03  \n",
      "21  111313.02  \n",
      "22  110352.25  \n",
      "23  108733.99  \n",
      "24  108552.04  \n",
      "25  107404.34  \n",
      "26  105733.54  \n",
      "27  105008.31  \n",
      "28  103282.38  \n",
      "29  101004.64  \n",
      "30   99937.59  \n",
      "31   97483.56  \n",
      "32   97427.84  \n",
      "33   96778.92  \n",
      "34   96712.80  \n",
      "35   96479.51  \n",
      "36   90708.19  \n",
      "37   89949.14  \n",
      "38   81229.06  \n",
      "39   81005.76  \n",
      "40   78239.91  \n",
      "41   77798.83  \n",
      "42   71498.49  \n",
      "43   69758.98  \n",
      "44   65200.33  \n",
      "45   64926.08  \n",
      "46   49490.75  \n",
      "47   42559.73  \n",
      "48   35673.41  \n",
      "49   14681.40  \n",
      "X :  [[165349.2  136897.8  471784.1  192261.83]\n",
      " [162597.7  151377.59 443898.53 191792.06]\n",
      " [153441.51 101145.55 407934.54 191050.39]\n",
      " [144372.41 118671.85 383199.62 182901.99]\n",
      " [142107.34  91391.77 366168.42 166187.94]\n",
      " [131876.9   99814.71 362861.36 156991.12]\n",
      " [134615.46 147198.87 127716.82 156122.51]\n",
      " [130298.13 145530.06 323876.68 155752.6 ]\n",
      " [120542.52 148718.95 311613.29 152211.77]\n",
      " [123334.88 108679.17 304981.62 149759.96]\n",
      " [101913.08 110594.11 229160.95 146121.95]\n",
      " [100671.96  91790.61 249744.55 144259.4 ]\n",
      " [ 93863.75 127320.38 249839.44 141585.52]\n",
      " [ 91992.39 135495.07 252664.93 134307.35]\n",
      " [119943.24 156547.42 256512.92 132602.65]\n",
      " [114523.61 122616.84 261776.23 129917.04]\n",
      " [ 78013.11 121597.55 264346.06 126992.93]\n",
      " [ 94657.16 145077.58 282574.31 125370.37]\n",
      " [ 91749.16 114175.79 294919.57 124266.9 ]\n",
      " [ 86419.7  153514.11      0.   122776.86]\n",
      " [ 76253.86 113867.3  298664.47 118474.03]\n",
      " [ 78389.47 153773.43 299737.29 111313.02]\n",
      " [ 73994.56 122782.75 303319.26 110352.25]\n",
      " [ 67532.53 105751.03 304768.73 108733.99]\n",
      " [ 77044.01  99281.34 140574.81 108552.04]\n",
      " [ 64664.71 139553.16 137962.62 107404.34]\n",
      " [ 75328.87 144135.98 134050.07 105733.54]\n",
      " [ 72107.6  127864.55 353183.81 105008.31]\n",
      " [ 66051.52 182645.56 118148.2  103282.38]\n",
      " [ 65605.48 153032.06 107138.38 101004.64]\n",
      " [ 61994.48 115641.28  91131.24  99937.59]\n",
      " [ 61136.38 152701.92  88218.23  97483.56]\n",
      " [ 63408.86 129219.61  46085.25  97427.84]\n",
      " [ 55493.95 103057.49 214634.81  96778.92]\n",
      " [ 46426.07 157693.92 210797.67  96712.8 ]\n",
      " [ 46014.02  85047.44 205517.64  96479.51]\n",
      " [ 28663.76 127056.21 201126.82  90708.19]\n",
      " [ 44069.95  51283.14 197029.42  89949.14]\n",
      " [ 20229.59  65947.93 185265.1   81229.06]\n",
      " [ 38558.51  82982.09 174999.3   81005.76]\n",
      " [ 28754.33 118546.05 172795.67  78239.91]\n",
      " [ 27892.92  84710.77 164470.71  77798.83]\n",
      " [ 23640.93  96189.63 148001.11  71498.49]\n",
      " [ 15505.73 127382.3   35534.17  69758.98]\n",
      " [ 22177.74 154806.14  28334.72  65200.33]\n",
      " [  1000.23 124153.04   1903.93  64926.08]\n",
      " [  1315.46 115816.21 297114.46  49490.75]\n",
      " [     0.   135426.92      0.    42559.73]\n",
      " [   542.05  51743.15      0.    35673.41]\n",
      " [     0.   116983.8   45173.06  14681.4 ]]\n"
     ]
    }
   ],
   "source": [
    "print(\"data : \",data)\n",
    "print(\"X : \",X)"
   ]
  },
  {
   "cell_type": "code",
   "execution_count": 18,
   "metadata": {},
   "outputs": [
    {
     "name": "stdout",
     "output_type": "stream",
     "text": [
      "[[ 2.01641149  0.56075291  2.15394309  2.01120333]\n",
      " [ 1.95586034  1.08280658  1.9236004   1.99942997]\n",
      " [ 1.75436374 -0.72825703  1.62652767  1.98084225]\n",
      " [ 1.55478369 -0.09636463  1.42221024  1.77662724]\n",
      " [ 1.5049372  -1.07991935  1.28152771  1.35774012]\n",
      " [ 1.27980001 -0.77623907  1.25421046  1.12724963]\n",
      " [ 1.34006641  0.93214721 -0.68814993  1.10548055]\n",
      " [ 1.24505666  0.87198001  0.93218598  1.09620987]\n",
      " [ 1.03036886  0.9869521   0.83088691  1.00746967]\n",
      " [ 1.09181921 -0.45664025  0.77610744  0.94602247]\n",
      " [ 0.62039825 -0.38759909  0.14980727  0.85484675]\n",
      " [ 0.59308542 -1.0655396   0.31983362  0.80816756]\n",
      " [ 0.44325987  0.21544906  0.32061744  0.74115484]\n",
      " [ 0.4020776   0.51017895  0.34395679  0.55874952]\n",
      " [ 1.01718075  1.26919939  0.37574227  0.51602637]\n",
      " [ 0.89791312  0.04586785  0.4192187   0.44871967]\n",
      " [ 0.0944412   0.00911842  0.44044622  0.3754357 ]\n",
      " [ 0.46072013  0.85566632  0.59101672  0.33477114]\n",
      " [ 0.39672494 -0.25846537  0.69299206  0.307116  ]\n",
      " [ 0.27944165  1.15983657 -1.74312698  0.26977265]\n",
      " [ 0.05572609 -0.26958765  0.72392599  0.16193522]\n",
      " [ 0.1027236   1.16918609  0.73278779 -0.01753384]\n",
      " [ 0.00600658  0.05184956  0.76237588 -0.04161264]\n",
      " [-0.13620072 -0.56221127  0.77434891 -0.08216943]\n",
      " [ 0.0731146  -0.79546917 -0.5819393  -0.08672946]\n",
      " [-0.19931169  0.65648914 -0.60351673 -0.11549309]\n",
      " [ 0.0353702   0.82171792 -0.63583549 -0.15736664]\n",
      " [-0.03551899  0.23506854  1.17427116 -0.17554233]\n",
      " [-0.16879272  2.2101405  -0.76718944 -0.21879755]\n",
      " [-0.17860854  1.14245677 -0.85813366 -0.27588222]\n",
      " [-0.25807437 -0.20562866 -0.99035717 -0.3026246 ]\n",
      " [-0.27695823  1.13055391 -1.01441945 -0.36412744]\n",
      " [-0.22694868  0.28392381 -1.36244978 -0.36552389]\n",
      " [-0.40112892 -0.65932403  0.02981724 -0.38178711]\n",
      " [-0.60068212  1.31053525 -0.00187862 -0.38344421]\n",
      " [-0.60974994 -1.30865753 -0.04549316 -0.38929092]\n",
      " [-0.99157015  0.20592469 -0.08176257 -0.53393161]\n",
      " [-0.65253231 -2.52599402 -0.11560826 -0.5529549 ]\n",
      " [-1.17717755 -1.99727037 -0.21278487 -0.77149734]\n",
      " [-0.77382036 -1.38312156 -0.29758328 -0.77709368]\n",
      " [-0.98957702 -0.10090022 -0.31578588 -0.84641135]\n",
      " [-1.00853372 -1.32079581 -0.38455241 -0.85746568]\n",
      " [-1.10210556 -0.90693753 -0.52059596 -1.01536466]\n",
      " [-1.28113364  0.21768152 -1.44960468 -1.05896021]\n",
      " [-1.13430539  1.20641936 -1.50907418 -1.17320899]\n",
      " [-1.60035036  0.10125394 -1.72739998 -1.18008224]\n",
      " [-1.59341322 -0.19932174  0.71112247 -1.56692212]\n",
      " [-1.62236202  0.50772188 -1.74312698 -1.74062718]\n",
      " [-1.61043334 -2.50940884 -1.74312698 -1.91321197]\n",
      " [-1.62236202 -0.15722551 -1.36998473 -2.43931323]]\n"
     ]
    }
   ],
   "source": [
    "from sklearn.preprocessing import StandardScaler\n",
    "autoscale = StandardScaler()\n",
    "X = autoscale.fit_transform(X)\n",
    "print(X)"
   ]
  },
  {
   "cell_type": "code",
   "execution_count": 19,
   "metadata": {},
   "outputs": [],
   "source": [
    "from sklearn.decomposition import PCA\n",
    "_nbComponents = 4\n",
    "pca = PCA(n_components=_nbComponents)\n",
    "X_pca = pca.fit_transform(X)"
   ]
  },
  {
   "cell_type": "code",
   "execution_count": 20,
   "metadata": {},
   "outputs": [
    {
     "data": {
      "text/plain": [
       "0.9228908746506942"
      ]
     },
     "execution_count": 20,
     "metadata": {},
     "output_type": "execute_result"
    }
   ],
   "source": [
    "sum(pca.explained_variance_ratio_[:2])"
   ]
  },
  {
   "cell_type": "markdown",
   "metadata": {},
   "source": [
    "Il faut 2 axes pour représenter les données à plus de 90%."
   ]
  },
  {
   "cell_type": "code",
   "execution_count": 21,
   "metadata": {
    "scrolled": false
   },
   "outputs": [
    {
     "data": {
      "text/plain": [
       "array([[ 0.59347855,  0.14737886,  0.52064694,  0.59580992],\n",
       "       [-0.04048087, -0.95051314,  0.30797098,  0.00632069],\n",
       "       [-0.39681837,  0.2723039 ,  0.79581463, -0.36751167],\n",
       "       [ 0.69905629, -0.02558964,  0.0275629 , -0.71407686]])"
      ]
     },
     "execution_count": 21,
     "metadata": {},
     "output_type": "execute_result"
    }
   ],
   "source": [
    "pca.components_"
   ]
  },
  {
   "cell_type": "markdown",
   "metadata": {},
   "source": [
    "Nous allons regarder les 2 premièrs éléments de pca.components_. On remarque que la première ligne pondère équitable les Dépenses R&D, les Dépenses Marketting et les Bénéfices, au détriment des Dépenses Administratives. On peut voir cela comme un indice sur l'investissement d'une entreprise : plus une entreprise aura une valeur importante, plus elle va engranger de bénéfices et de dépenses, indépendemment de ses dépenses administratives (donc, potentiellement de sa taille). y2, lui, pondère négativement les Dépenses R&D, ainsi que les Dépenses Administratives, et leur Bénéfice n'est quasiment pas pris en compte. Cependant, les dépenses Marketting sont pondérées positivement. Une entreprise avec un y2 élevé aura donc beaucoup plus investi dans le marketting que dans son administration ou dans la  recherche & développement.  "
   ]
  },
  {
   "cell_type": "code",
   "execution_count": 22,
   "metadata": {
    "scrolled": true
   },
   "outputs": [
    {
     "data": {
      "image/png": "[encoded data removed]",
      "text/plain": [
       "<Figure size 432x288 with 1 Axes>"
      ]
     },
     "metadata": {},
     "output_type": "display_data"
    }
   ],
   "source": [
    "import matplotlib\n",
    "plt.scatter(X_pca[:, 0], X_pca[:, 1])\n",
    "for label, x, y in zip(labels, X_pca[:, 0], X_pca[:, 1]):\n",
    "    plt.annotate(label, xy=(x, y), xytext=(-0.2, 0.2), textcoords='offset points')\n",
    "plt.show()"
   ]
  },
  {
   "cell_type": "markdown",
   "metadata": {},
   "source": [
    "> Exercice 2 Clustering"
   ]
  },
  {
   "cell_type": "markdown",
   "metadata": {},
   "source": [
    "### Avec KMeans "
   ]
  },
  {
   "cell_type": "code",
   "execution_count": 23,
   "metadata": {},
   "outputs": [],
   "source": [
    "data = pd.read_csv('./villes.csv', sep=';')\n",
    "X = data.iloc[:, 1:13].values\n",
    "labels = data.iloc[:, 0].values\n"
   ]
  },
  {
   "cell_type": "code",
   "execution_count": 24,
   "metadata": {},
   "outputs": [],
   "source": [
    "from sklearn.cluster import KMeans\n",
    "from sklearn.preprocessing import StandardScaler\n",
    "autoscale = StandardScaler()\n",
    "X = autoscale.fit_transform(X)\n",
    "pca = PCA(n_components=12)\n",
    "X_pca = pca.fit_transform(X)"
   ]
  },
  {
   "cell_type": "code",
   "execution_count": 25,
   "metadata": {},
   "outputs": [],
   "source": [
    "clustering=KMeans(n_clusters=3)\n",
    "clustering = clustering.fit_predict(X_pca)"
   ]
  },
  {
   "cell_type": "code",
   "execution_count": 26,
   "metadata": {},
   "outputs": [
    {
     "data": {
      "image/png": "[encoded data removed]",
      "text/plain": [
       "<Figure size 432x288 with 1 Axes>"
      ]
     },
     "metadata": {},
     "output_type": "display_data"
    }
   ],
   "source": [
    "colors = ['red','yellow','blue','pink']\n",
    "plt.scatter(X_pca[:, 0], X_pca[:, 1], c= clustering, cmap=matplotlib.colors.ListedColormap(colors))\n",
    "for label, x, y in zip(labels, X_pca[:, 0], X_pca[:, 1]):\n",
    "    plt.annotate(label, xy=(x, y), xytext=(-0.2, 0.2), textcoords='offset points')\n",
    "plt.show()"
   ]
  },
  {
   "cell_type": "markdown",
   "metadata": {},
   "source": [
    "### Avec Agglomerative Clustering "
   ]
  },
  {
   "cell_type": "markdown",
   "metadata": {},
   "source": [
    "+ Avec linkage = ward "
   ]
  },
  {
   "cell_type": "code",
   "execution_count": 27,
   "metadata": {},
   "outputs": [],
   "source": [
    "data = pd.read_csv('./villes.csv', sep=';')\n",
    "X = data.iloc[:, 1:13].values\n",
    "labels = data.iloc[:, 0].values"
   ]
  },
  {
   "cell_type": "code",
   "execution_count": 28,
   "metadata": {},
   "outputs": [],
   "source": [
    "from sklearn.cluster import AgglomerativeClustering\n",
    "from sklearn.preprocessing import StandardScaler\n",
    "autoscale = StandardScaler()\n",
    "X = autoscale.fit_transform(X)\n",
    "pca = PCA(n_components=12)\n",
    "X_pca = pca.fit_transform(X)"
   ]
  },
  {
   "cell_type": "code",
   "execution_count": 29,
   "metadata": {},
   "outputs": [],
   "source": [
    "clustering=AgglomerativeClustering(n_clusters=3, linkage = 'ward')\n",
    "clustering = clustering.fit_predict(X_pca)"
   ]
  },
  {
   "cell_type": "code",
   "execution_count": 30,
   "metadata": {},
   "outputs": [
    {
     "data": {
      "image/png": "[encoded data removed]",
      "text/plain": [
       "<Figure size 432x288 with 1 Axes>"
      ]
     },
     "metadata": {},
     "output_type": "display_data"
    }
   ],
   "source": [
    "colors = ['red','yellow','blue','pink']\n",
    "plt.scatter(X_pca[:, 0], X_pca[:, 1], c= clustering, cmap=matplotlib.colors.ListedColormap(colors))\n",
    "for label, x, y in zip(labels, X_pca[:, 0], X_pca[:, 1]):\n",
    "    plt.annotate(label, xy=(x, y), xytext=(-0.2, 0.2), textcoords='offset points')\n",
    "plt.show()"
   ]
  },
  {
   "cell_type": "markdown",
   "metadata": {},
   "source": [
    "+ Avec linkage = average "
   ]
  },
  {
   "cell_type": "code",
   "execution_count": 31,
   "metadata": {},
   "outputs": [],
   "source": [
    "data = pd.read_csv('./villes.csv', sep=';')\n",
    "X = data.iloc[:, 1:13].values\n",
    "labels = data.iloc[:, 0].values"
   ]
  },
  {
   "cell_type": "code",
   "execution_count": 32,
   "metadata": {},
   "outputs": [],
   "source": [
    "from sklearn.cluster import AgglomerativeClustering\n",
    "from sklearn.preprocessing import StandardScaler\n",
    "autoscale = StandardScaler()\n",
    "X = autoscale.fit_transform(X)\n",
    "pca = PCA(n_components=12)\n",
    "X_pca = pca.fit_transform(X)"
   ]
  },
  {
   "cell_type": "code",
   "execution_count": 33,
   "metadata": {},
   "outputs": [],
   "source": [
    "clustering=AgglomerativeClustering(n_clusters=3, linkage = 'average')\n",
    "clustering = clustering.fit_predict(X_pca)"
   ]
  },
  {
   "cell_type": "code",
   "execution_count": 34,
   "metadata": {},
   "outputs": [
    {
     "data": {
      "image/png": "[encoded data removed]",
      "text/plain": [
       "<Figure size 432x288 with 1 Axes>"
      ]
     },
     "metadata": {},
     "output_type": "display_data"
    }
   ],
   "source": [
    "colors = ['red','yellow','blue','pink']\n",
    "plt.scatter(X_pca[:, 0], X_pca[:, 1], c= clustering, cmap=matplotlib.colors.ListedColormap(colors))\n",
    "for label, x, y in zip(labels, X_pca[:, 0], X_pca[:, 1]):\n",
    "    plt.annotate(label, xy=(x, y), xytext=(-0.2, 0.2), textcoords='offset points')\n",
    "plt.show()"
   ]
  },
  {
   "cell_type": "markdown",
   "metadata": {},
   "source": [
    "### Question 3"
   ]
  },
  {
   "cell_type": "code",
   "execution_count": 35,
   "metadata": {},
   "outputs": [],
   "source": [
    "data = pd.read_csv('./villes.csv', sep=';')\n",
    "X = data.iloc[:, 1:13].values\n",
    "labels = data.iloc[:, 0].values"
   ]
  },
  {
   "cell_type": "code",
   "execution_count": 36,
   "metadata": {},
   "outputs": [],
   "source": [
    "from sklearn.cluster import AgglomerativeClustering\n",
    "from sklearn.preprocessing import StandardScaler\n",
    "autoscale = StandardScaler()\n",
    "X = autoscale.fit_transform(X)\n",
    "pca = PCA(n_components=12)\n",
    "X_pca = pca.fit_transform(X)"
   ]
  },
  {
   "cell_type": "code",
   "execution_count": 37,
   "metadata": {},
   "outputs": [
    {
     "name": "stdout",
     "output_type": "stream",
     "text": [
      "0.6255577191807669\n",
      "0.38809425947195897\n",
      "0.381372561235369\n",
      "0.33538509681496254\n",
      "\n"
     ]
    }
   ],
   "source": [
    "from sklearn import metrics\n",
    "for i in np.arange(2, 6):\n",
    "    clustering = KMeans(n_clusters=i).fit_predict(X_pca)\n",
    "    print(metrics.silhouette_score(X_pca, clustering,metric='euclidean'))\n",
    "print()"
   ]
  },
  {
   "cell_type": "markdown",
   "metadata": {},
   "source": [
    "La meilleure partition serait la première partition affichée, donc la partition 2."
   ]
  }
 ],
 "metadata": {
  "kernelspec": {
   "display_name": "Python 3",
   "language": "python",
   "name": "python3"
  },
  "language_info": {
   "codemirror_mode": {
    "name": "ipython",
    "version": 3
   },
   "file_extension": ".py",
   "mimetype": "text/x-python",
   "name": "python",
   "nbconvert_exporter": "python",
   "pygments_lexer": "ipython3",
   "version": "3.6.9"
  }
 },
 "nbformat": 4,
 "nbformat_minor": 2
}
