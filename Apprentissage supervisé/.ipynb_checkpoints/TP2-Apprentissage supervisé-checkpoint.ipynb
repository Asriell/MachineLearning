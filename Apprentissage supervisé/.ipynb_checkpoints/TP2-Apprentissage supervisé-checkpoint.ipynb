{
 "cells": [
  {
   "cell_type": "code",
   "execution_count": 307,
   "id": "c8671f23",
   "metadata": {},
   "outputs": [],
   "source": [
    "import numpy as np\n",
    "np.set_printoptions(threshold=10000,suppress=True)\n",
    "import pandas as pd\n",
    "import warnings\n",
    "import matplotlib.pyplot as plt\n",
    "warnings.filterwarnings('ignore')"
   ]
  },
  {
   "cell_type": "code",
   "execution_count": 308,
   "id": "abff7e4b",
   "metadata": {},
   "outputs": [],
   "source": [
    "data = pd.read_csv('./credit_scoring.csv', sep=';')\n",
    "X = data.values"
   ]
  },
  {
   "cell_type": "code",
   "execution_count": 309,
   "id": "61b0e9b2",
   "metadata": {},
   "outputs": [
    {
     "name": "stdout",
     "output_type": "stream",
     "text": [
      "data :        Seniority  Home  Time   Age  Marital  Records  Job  Expenses  Income  \\\n",
      "0           9.0   1.0  60.0  30.0      0.0      1.0  1.0      73.0   129.0   \n",
      "1          17.0   1.0  60.0  58.0      1.0      1.0  0.0      48.0   131.0   \n",
      "2          10.0   0.0  36.0  46.0      0.0      2.0  1.0      90.0   200.0   \n",
      "3           0.0   1.0  60.0  24.0      1.0      1.0  0.0      63.0   182.0   \n",
      "4           0.0   1.0  36.0  26.0      1.0      1.0  0.0      46.0   107.0   \n",
      "...         ...   ...   ...   ...      ...      ...  ...       ...     ...   \n",
      "4370        1.0   1.0  60.0  39.0      0.0      1.0  0.0      69.0    92.0   \n",
      "4371       22.0   0.0  60.0  46.0      0.0      1.0  0.0      60.0    75.0   \n",
      "4372        0.0   0.0  24.0  37.0      0.0      1.0  1.0      60.0    90.0   \n",
      "4373        0.0   1.0  48.0  23.0      1.0      1.0  1.0      49.0   140.0   \n",
      "4374        5.0   0.0  60.0  32.0      0.0      1.0  1.0      60.0   140.0   \n",
      "\n",
      "      Assets    Debt  Amount   Price  Status  \n",
      "0        0.0     0.0   800.0   846.0       1  \n",
      "1        0.0     0.0  1000.0  1658.0       1  \n",
      "2     3000.0     0.0  2000.0  2985.0       0  \n",
      "3     2500.0     0.0   900.0  1325.0       1  \n",
      "4        0.0     0.0   310.0   910.0       1  \n",
      "...      ...     ...     ...     ...     ...  \n",
      "4370     0.0     0.0   900.0  1020.0       0  \n",
      "4371  3000.0   600.0   950.0  1263.0       1  \n",
      "4372  3500.0     0.0   500.0   963.0       0  \n",
      "4373     0.0     0.0   550.0   550.0       1  \n",
      "4374  4000.0  1000.0  1350.0  1650.0       1  \n",
      "\n",
      "[4375 rows x 14 columns]\n",
      "X :  [[   9.    1.   60. ...  800.  846.    1.]\n",
      " [  17.    1.   60. ... 1000. 1658.    1.]\n",
      " [  10.    0.   36. ... 2000. 2985.    0.]\n",
      " ...\n",
      " [   0.    0.   24. ...  500.  963.    0.]\n",
      " [   0.    1.   48. ...  550.  550.    1.]\n",
      " [   5.    0.   60. ... 1350. 1650.    1.]]\n"
     ]
    }
   ],
   "source": [
    "print(\"data : \", data)\n",
    "print(\"X : \", X)"
   ]
  },
  {
   "cell_type": "code",
   "execution_count": 310,
   "id": "8e2c03ef",
   "metadata": {},
   "outputs": [],
   "source": [
    "X_split = [[],[]]\n",
    "for x in X:\n",
    "    if x[13] == 0 :\n",
    "        X_split[0].append(x)\n",
    "    else :\n",
    "        X_split[1].append(x)\n",
    "X_split[0]=np.array(X_split[0])\n",
    "X_split[1]=np.array(X_split[1])\n",
    "X_split=np.array(X_split)"
   ]
  },
  {
   "cell_type": "code",
   "execution_count": 311,
   "id": "c4afd8fb",
   "metadata": {
    "scrolled": true
   },
   "outputs": [
    {
     "name": "stdout",
     "output_type": "stream",
     "text": [
      "[array([[  10.,    0.,   36., ..., 2000., 2985.,    0.],\n",
      "        [   0.,    1.,   48., ..., 1200., 1468.,    0.],\n",
      "        [   0.,    1.,   18., ...,  400.,  500.,    0.],\n",
      "        ...,\n",
      "        [   1.,    1.,   48., ..., 1200., 1300.,    0.],\n",
      "        [   1.,    1.,   60., ...,  900., 1020.,    0.],\n",
      "        [   0.,    0.,   24., ...,  500.,  963.,    0.]])\n",
      " array([[   9.,    1.,   60., ...,  800.,  846.,    1.],\n",
      "        [  17.,    1.,   60., ..., 1000., 1658.,    1.],\n",
      "        [   0.,    1.,   60., ...,  900., 1325.,    1.],\n",
      "        ...,\n",
      "        [  22.,    0.,   60., ...,  950., 1263.,    1.],\n",
      "        [   0.,    1.,   48., ...,  550.,  550.,    1.],\n",
      "        [   5.,    0.,   60., ..., 1350., 1650.,    1.]])]\n"
     ]
    }
   ],
   "source": [
    "print(X_split)"
   ]
  },
  {
   "cell_type": "code",
   "execution_count": 312,
   "id": "be21c22a",
   "metadata": {},
   "outputs": [
    {
     "name": "stdout",
     "output_type": "stream",
     "text": [
      " taille totale :  (4375, 14)\n",
      " pour les 0 :  (1216, 14)\n",
      " pour les 1 :  (3159, 14)\n"
     ]
    }
   ],
   "source": [
    "print(\" taille totale : \",X.shape)\n",
    "print(\" pour les 0 : \",X_split[0].shape)\n",
    "print(\" pour les 1 : \",X_split[1].shape)"
   ]
  },
  {
   "cell_type": "code",
   "execution_count": 313,
   "id": "ebddcdfb",
   "metadata": {},
   "outputs": [
    {
     "data": {
      "text/plain": [
       "(array([[16999.,    16.,     4.,     4.,     1.,     0.,     0.,     0.,\n",
       "             0.,     0.],\n",
       "        [44106.,    84.,    18.,    10.,     5.,     0.,     1.,     0.,\n",
       "             1.,     1.]]),\n",
       " array([     0.,  25000.,  50000.,  75000., 100000., 125000., 150000.,\n",
       "        175000., 200000., 225000., 250000.]),\n",
       " <a list of 2 BarContainer objects>)"
      ]
     },
     "execution_count": 313,
     "metadata": {},
     "output_type": "execute_result"
    },
    {
     "data": {
      "image/png": "[encoded data removed]",
      "text/plain": [
       "<Figure size 432x288 with 1 Axes>"
      ]
     },
     "metadata": {
      "needs_background": "light"
     },
     "output_type": "display_data"
    }
   ],
   "source": [
    "plt.hist(X_split)"
   ]
  },
  {
   "cell_type": "code",
   "execution_count": 314,
   "id": "b18d3330",
   "metadata": {
    "scrolled": true
   },
   "outputs": [
    {
     "name": "stdout",
     "output_type": "stream",
     "text": [
      "[1 1 0 1 1 1 1 1 1 0 1 1 1 1 0 1 1 1 0 1 0 1 0 1 1 1 1 1 0 1 0 1 1 1 1 1 1\n",
      " 0 1 0 1 1 0 0 1 1 1 0 1 1 1 1 1 1 0 1 1 1 1 1 1 0 1 1 1 1 1 1 1 1 1 1 1 1\n",
      " 1 1 1 1 1 1 1 0 1 1 1 1 1 0 0 1 0 1 1 1 1 0 1 1 1 1 1 1 0 0 1 0 0 1 0 1 1\n",
      " 0 0 1 0 0 1 1 1 1 1 0 1 1 1 0 1 1 1 1 0 1 1 1 1 1 0 1 1 0 1 1 1 1 0 0 1 1\n",
      " 1 1 0 1 0 0 1 1 1 1 1 1 1 1 1 1 0 1 0 1 1 1 1 1 0 1 1 0 1 1 1 0 1 1 1 1 1\n",
      " 1 0 1 0 1 1 1 1 0 1 1 1 1 1 1 1 1 1 1 1 1 0 1 1 1 1 0 0 1 0 1 1 1 1 1 1 1\n",
      " 1 1 1 1 1 1 0 1 1 0 1 1 1 1 1 1 0 0 1 1 1 0 0 1 1 0 1 1 1 1 1 1 1 1 1 0 1\n",
      " 1 1 1 1 1 1 1 0 1 1 1 1 1 0 1 1 0 1 1 1 1 1 1 1 1 1 1 1 1 1 1 1 1 1 0 0 1\n",
      " 1 1 0 1 1 0 1 0 0 0 1 1 0 0 1 1 0 1 1 0 1 1 0 1 0 1 1 1 1 1 0 1 1 1 0 0 1\n",
      " 1 1 1 0 1 1 1 1 1 1 1 0 0 0 1 1 1 0 1 1 0 1 0 1 1 0 1 1 0 1 0 1 1 1 1 1 1\n",
      " 1 1 0 1 1 1 1 0 1 1 1 0 1 1 1 1 1 0 1 1 0 0 1 1 0 1 0 0 1 0 1 0 1 1 1 1 1\n",
      " 0 1 1 1 1 1 0 0 1 1 1 0 1 0 1 0 0 1 0 1 1 0 1 1 1 0 1 1 0 1 1 1 1 0 1 1 1\n",
      " 0 1 1 1 0 0 1 1 1 1 1 1 1 0 1 0 1 1 1 0 1 1 1 1 1 1 1 1 1 1 1 1 1 1 1 0 0\n",
      " 0 1 1 1 1 1 0 1 1 1 1 0 0 0 1 0 0 1 0 1 0 1 1 1 1 0 1 0 1 1 0 1 1 1 1 1 1\n",
      " 1 1 0 1 1 1 1 1 1 1 1 1 0 0 1 1 1 1 1 1 1 1 1 1 1 1 0 0 0 1 1 1 1 1 1 0 1\n",
      " 0 0 1 1 1 1 0 1 0 1 1 1 1 0 1 0 0 1 0 0 1 0 0 0 1 1 1 1 1 0 1 1 1 1 1 0 1\n",
      " 1 1 1 0 1 1 1 1 0 1 1 0 0 1 1 0 1 1 1 1 1 1 1 1 1 0 1 1 0 1 0 1 1 1 0 1 1\n",
      " 0 1 1 1 1 0 1 1 1 1 0 1 1 0 1 1 0 1 0 1 0 0 0 1 1 0 1 1 1 1 1 1 1 1 1 1 1\n",
      " 1 1 0 0 1 1 1 1 0 1 1 1 0 1 0 1 1 1 1 0 1 1 1 1 1 1 0 1 1 0 0 0 1 1 1 1 1\n",
      " 1 0 1 0 1 1 1 0 0 0 1 1 1 1 1 0 1 0 1 1 1 0 1 1 0 0 0 0 0 1 1 1 0 1 1 1 1\n",
      " 0 0 1 0 1 1 1 1 1 0 1 1 1 0 1 1 1 0 0 1 1 1 0 0 1 0 0 1 1 1 1 1 0 1 1 1 1\n",
      " 1 0 1 0 1 1 1 1 1 1 0 1 1 1 1 0 0 1 1 1 1 1 1 1 0 1 1 0 0 1 1 0 0 1 1 0 1\n",
      " 1 0 0 0 0 1 1 1 0 1 1 1 0 1 0 1 1 1 1 1 1 0 1 1 1 1 1 1 1 0 1 1 1 1 1 1 1\n",
      " 1 0 1 1 1 1 1 0 1 1 1 1 1 0 1 0 0 1 1 0 1 0 1 0 0 1 1 0 1 0 1 1 0 1 0 1 0\n",
      " 1 1 1 1 1 1 0 1 1 1 1 1 1 1 1 1 1 1 1 0 1 1 1 1 1 1 1 1 1 0 1 1 1 1 1 1 1\n",
      " 1 1 1 0 1 1 1 1 0 1 0 0 1 1 1 0 1 1 0 0 0 1 1 1 1 1 1 1 0 1 1 0 1 0 1 0 1\n",
      " 0 1 1 0 1 1 0 1 1 1 1 1 1 1 0 1 0 1 1 1 0 1 1 1 1 1 1 1 1 0 1 1 0 1 0 1 0\n",
      " 1 1 0 1 0 1 0 0 1 0 1 0 1 1 0 1 0 0 1 0 1 0 0 1 1 1 1 1 1 1 0 1 1 1 0 1 1\n",
      " 1 0 1 0 1 1 1 1 1 1 1 0 1 1 0 1 1 1 0 1 1 1 1 1 1 1 1 0 1 1 1 0 1 1 1 0 1\n",
      " 0 1 1 1 0 1 1 1 1 1 0 0 1 1 1 1 0 0 1 0 1 1 0 1 1 1 1 1 1 1 0 1 0 1 0 1 1\n",
      " 1 1 1 1 1 0 0 0 1 0 1 1 1 1 0 0 1 0 1 1 0 0 0 0 0 0 1 1 1 1 1 1 1 1 0 1 1\n",
      " 1 0 1 1 1 1 1 0 1 1 0 1 0 1 1 1 0 1 1 0 0 0 1 0 0 0 0 1 1 1 1 1 1 1 1 1 0\n",
      " 1 0 1 0 1 1 1 1 1 0 1 1 1 1 1 0 1 1 1 1 0 1 1 1 0 1 1 0 1 1 1 1 1 1 1 1 1\n",
      " 1 1 1 0 0 1 1 1 1 1 1 1 1 0 1 1 1 0 1 1 0 1 1 0 0 1 0 1 1 0 1 0 1 1 1 1 0\n",
      " 1 1 0 1 1 0 0 1 1 1 1 0 1 1 1 0 1 0 1 1 0 1 0 0 1 0 0 1 1 1 0 1 1 1 0 0 1\n",
      " 1 1 0 1 1 1 1 1 0 0 1 1 1 0 1 0 1 0 0 1 0 1 1 0 1 1 1 1 1 1 1 1 1 1 1 1 1\n",
      " 1 1 1 1 1 1 1 1 0 1 1 1 0 1 0 1 1 1 1 1 1 1 1 1 0 1 1 1 0 0 1 1 0 1 1 1 1\n",
      " 0 0 1 1 1 1 1 0 1 0 1 1 1 0 1 1 1 1 1 1 1 1 1 1 0 1 0 1 0 1 1 1 1 1 1 0 0\n",
      " 1 1 1 1 1 1 1 1 1 0 0 1 1 1 1 1 0 0 1 0 1 0 1 0 1 1 1 1 1 1 1 1 1 1 1 1 1\n",
      " 1 1 1 1 1 1 0 1 1 1 0 1 0 0 1 1 1 1 0 0 0 0 0 0 1 0 0 1 1 1 1 0 1 0 1 0 1\n",
      " 1 0 1 1 1 0 1 1 1 1 0 0 1 0 0 0 1 1 1 0 1 0 1 1 1 1 1 1 1 1 1 1 0 0 0 1 1\n",
      " 1 0 1 1 1 0 1 1 1 0 1 1 1 0 1 1 0 1 1 1 1 0 0 0 1 0 0 1 1 1 1 0 1 0 1 1 1\n",
      " 0 0 0 1 1 0 1 1 0 1 0 0 1 1 0 0 1 0 1 1 1 1 1 0 1 1 0 0 0 0 1 0 1 0 1 1 1\n",
      " 1 1 1 1 1 1 1 0 1 1 0 1 0 0 1 0 1 1 0 1 1 1 1 1 1 1 1 1 1 1 1 1 1 1 1 1 1\n",
      " 1 0 0 0 0 1 1 0 1 0 1 0 1 1 1 1 1 0 0 1 0 0 1 1 1 1 0 1 1 0 1 1 1 0 1 0 1\n",
      " 1 1 0 1 1 1 1 1 1 1 1 1 1 1 0 1 0 1 1 1 1 1 1 1 1 1 1 1 0 0 1 1 0 1 1 1 1\n",
      " 1 1 1 1 0 0 1 1 0 0 0 1 1 1 1 0 1 1 0 0 1 0 1 0 1 0 1 1 0 0 1 0 1 1 1 1 0\n",
      " 1 1 1 0 1 0 1 1 1 1 1 1 1 0 1 1 1 1 1 0 1 0 0 1 1 1 0 1 1 1 1 0 1 0 1 1 1\n",
      " 0 0 0 0 1 1 1 1 1 1 1 0 1 1 1 1 1 1 1 1 1 1 1 1 1 1 0 1 1 0 0 1 0 1 1 1 1\n",
      " 1 1 0 1 0 1 1 1 0 1 1 1 1 1 1 1 1 0 1 1 1 1 1 1 1 1 1 0 0 1 1 0 1 1 1 0 1\n",
      " 1 1 1 1 1 0 0 1 0 1 1 1 0 1 1 1 1 1 1 1 0 0 0 0 1 0 1 0 0 1 0 0 1 1 1 1 1\n",
      " 1 1 1 1 1 0 0 1 1 1 1 0 0 1 1 1 1 1 1 0 1 1 1 1 1 1 0 1 1 1 1 0 0 0 1 1 1\n",
      " 1 1 1 1 1 1 1 0 0 0 0 1 1 0 1 0 1 1 0 1 1 1 0 1 0 0 1 0 0 1 1 0 1 1 1 1 1\n",
      " 1 1 1 1 0 1 0 1 1 0 1 1 1 1 1 1 1 0 1 1 1 0 0 1 1 1 1 1 1 1 1 0 0 1 1 1 0\n",
      " 0 0 1 1 1 1 1 1 1 1 0 0 1 1 1 0 1 1 1 1 1 1 1 1 1 1 1 1 1 1 1 1 0 1 0 1 0\n",
      " 1 1 0 1 1 0 1 1 1 1 0 1 1 0 1 1 1 0 1 0 0 0 1 1 1 1 1 0 1 1 1 0 0 1 1 1 1\n",
      " 1 1 1 1 1 1 1 1 1 0 1 0 0 1 0 1 1 0 1 1 1 1 1 1 1 1 1 1 1 0 1 0 0 1 1 1 1\n",
      " 0 1 0 1 0 1 1 1 1 0 0 1 1 1 1 0 0 0 1 0 1 1 1 1 1 1 1 1 1 1 1 1 1 1 1 1 0\n",
      " 1 0 1 0 1 0 1 1 1 0 1 1 0 1 1 1 1 1 1 0 1 0 0 1 1 1 1 0 1 1 1 1 1 0 0 0 1\n",
      " 1 1 1 0 1 0 0 0 1 0 1 1 0 0 1 1 1 1 0 1 1 1 1 1 1 1 1 1 1 1 0 1 1 1 1 1 1\n",
      " 0 1 1 1 1 0 1 1 1 1 1 0 1 1 0 0 1 1 1 1 1 1 1 1 0 0 1 0 1 0 1 0 1 1 1 1 1\n",
      " 1 0 1 0 0 1 1 1 1 1 0 1 1 0 0 0 1 1 0 1 1 0 1 1 1 0 1 1 1 1 1 1 0 1 0 1 0\n",
      " 1 1 1 1 1 1 1 1 1 0 1 1 1 1 0 1 1 1 1 1 1 0 1 1 1 1 1 1 0 0 1 0 1 1 1 1 0\n",
      " 1 1 1 1 1 1 1 1 1 1 1 0 1 1 0 1 1 0 1 0 1 0 1 1 1 1 1 1 1 1 0 0 1 1 1 0 1\n",
      " 1 1 1 1 1 0 1 0 1 0 1 1 1 0 1 0 0 0 1 1 1 1 1 0 1 0 1 1 0 1 1 0 0 1 1 1 1\n",
      " 1 0 1 1 1 1 1 0 0 1 0 1 1 0 0 0 0 1 1 1 1 1 0 1 0 1 1 1 1 0 1 1 1 1 1 0 1\n",
      " 1 1 1 1 1 0 1 0 1 1 1 1 0 1 0 0 1 1 1 1 1 1 1 1 0 0 1 1 0 1 1 1 0 1 1 1 1\n",
      " 1 0 1 1 1 1 1 1 1 0 0 1 1 1 1 1 1 1 0 1 0 1 1 1 1 1 0 1 1 1 1 1 1 1 1 1 1\n",
      " 0 1 1 1 1 1 1 0 1 1 1 1 1 1 1 1 1 1 1 0 0 1 0 1 1 1 1 0 1 1 1 1 1 0 1 0 1\n",
      " 0 0 1 1 0 0 1 1 1 1 0 1 0 1 1 0 1 1 0 1 0 1 1 1 1 1 1 1 0 1 0 1 1 1 1 1 0\n",
      " 1 0 0 1 1 1 1 1 1 1 0 1 1 1 1 1 1 0 0 0 1 1 1 1 1 1 1 1 1 1 1 1 0 1 0 0 1\n",
      " 1 1 1 0 1 0 1 1 1 1 1 0 0 1 1 0 0 1 1 0 1 0 1 1 1 0 1 1 0 1 1 0 1 1 1 1 1\n",
      " 0 1 1 1 1 1 0 1 0 0 1 1 0 1 0 1 1 1 1 0 0 1 0 0 1 1 1 1 1 1 1 1 1 1 1 1 1\n",
      " 1 1 1 1 0 1 1 1 1 0 1 1 1 0 1 1 1 0 1 1 1 1 1 0 1 0 0 1 0 0 1 1 1 0 1 1 1\n",
      " 1 1 1 0 1 1 1 1 0 0 1 1 1 1 1 1 0 1 1 0 0 0 1 1 1 1 1 1 1 1 1 0 0 1 1 0 1\n",
      " 0 1 1 1 0 1 0 1 1 1 0 1 0 0 0 1 1 1 1 0 1 0 0 1 0 1 1 1 1 1 1 1 1 0 0 0 1\n",
      " 1 1 1 1 0 0 1 1 0 1 1 1 1 1 1 1 1 1 1 1 0 1 0 0 1 1 1 0 0 0 1 0 1 1 1 1 1\n",
      " 1 0 1 1 0 1 1 1 1 1 1 1 1 1 1 1 1 1 0 1 1 1 1 1 1 0 1 1 1 1 1 1 1 1 0 1 0\n",
      " 1 0 1 1 1 1 1 1 1 1 1 0 1 1 0 0 0 0 1 1 0 1 1 1 1 0 1 1 1 1 1 1 1 1 1 1 1\n",
      " 1 0 1 1 1 1 1 1 1 1 1 1 1 0 1 1 0 1 0 1 0 0 1 1 1 1 1 0 1 1 0 1 1 1 1 1 1\n",
      " 1 1 1 0 0 1 1 1 0 0 1 1 0 0 0 0 0 1 1 1 0 1 1 0 1 0 1 0 1 1 1 1 1 0 0 1 1\n",
      " 0 1 1 1 1 0 1 1 0 1 1 1 1 1 1 1 1 1 1 0 1 1 1 1 0 1 1 1 0 0 1 0 1 0 1 1 0\n",
      " 1 1 1 1 1 1 1 1 1 1 0 1 1 1 1 1 1 0 1 1 0 1 1 1 1 0 1 1 0 1 1 0 1 1 1 1 1\n",
      " 1 1 1 1 1 0 1 0 0 1 1 1 1 1 0 0 0 1 1 0 1 1 1 1 1 1 0 1 1 1 0 1 1 1 1 1 1\n",
      " 1 1 0 1 1 1 1 1 1 0 1 1 1 0 1 1 1 1 1 1 1 0 1 1 0 1 0 1 0 0 1 0 1 0 1 1 1\n",
      " 1 0 1 1 1 1 1 1 1 1 1 1 0 1 1 0 1 1 0 1 1 1 1 0 1 1 0 1 0 0 1 1 1 0 1 1 0\n",
      " 1 1 1 0 1 1 1 0 1 1 1 1 0 0 1 0 1 1 0 1 1 1 1 1 1 1 0 1 1 0 1 1 0 1 0 1 0\n",
      " 1 0 1 0 0 1 1 0 0 0 0 0 1 0 1 1 1 1 1 1 1 1 1 1 1 0 1 1 0 1 0 1 1 1 1 0 1\n",
      " 0 1 1 1 1 1 0 1 1 0 1 1 1 0 1 0 0 1 1 1 1 0 0 0 1 1 1 1 1 0 1 1 1 1 0 1 0\n",
      " 0 0 1 1 1 1 1 1 0 0 1 1 0 1 0 1 0 1 1 1 0 0 0 1 0 1 1 1 1 0 1 1 1 0 1 1 1\n",
      " 1 1 0 1 1 1 1 1 1 0 1 1 1 1 0 1 1 1 1 1 0 0 1 1 1 1 0 0 1 1 1 1 1 1 0 0 1\n",
      " 1 1 1 1 1 1 1 0 1 1 0 1 1 0 1 1 0 1 0 0 0 0 1 1 0 0 0 0 0 0 1 0 0 1 1 1 1\n",
      " 1 1 1 0 1 1 1 1 1 1 1 1 1 1 1 1 1 1 1 1 1 1 1 1 1 1 1 1 0 1 1 1 1 0 1 1 1\n",
      " 1 1 1 0 1 1 1 1 1 1 1 1 1 0 1 0 1 1 1 1 0 1 1 1 1 1 0 1 1 1 1 0 1 1 1 1 1\n",
      " 1 1 1 0 1 1 1 1 0 1 1 1 1 0 1 1 0 1 1 1 1 1 0 1 0 1 1 0 1 1 1 1 1 1 1 1 1\n",
      " 0 1 0 0 1 1 1 1 1 1 0 1 0 1 1 1 1 1 0 0 1 1 0 1 1 1 0 1 0 1 1 1 1 1 1 0 1\n",
      " 1 0 1 1 1 0 1 1 1 1 1 1 1 1 0 1 1 0 1 1 1 0 0 1 1 0 1 1 1 1 1 1 1 0 1 1 1\n",
      " 1 1 0 0 1 1 1 1 1 0 1 0 0 1 1 1 1 1 1 0 1 1 1 1 1 1 1 0 1 1 0 1 1 1 1 1 0\n",
      " 1 0 0 1 1 0 1 1 0 0 0 1 1 1 1 1 1 1 1 1 0 1 1 1 1 1 1 1 0 1 1 0 1 1 1 1 1\n",
      " 1 0 1 1 1 0 1 1 1 1 1 1 1 1 0 0 1 1 0 1 1 1 0 0 1 1 0 1 1 1 1 1 0 1 0 1 0\n",
      " 0 1 1 1 1 1 1 0 1 0 1 0 1 1 1 0 0 0 1 1 0 1 1 1 1 1 0 1 0 1 1 1 1 1 0 1 1\n",
      " 1 1 1 1 1 1 1 1 0 1 1 1 0 1 1 0 0 1 1 0 1 0 1 0 0 1 1 0 0 1 0 1 0 1 0 1 1\n",
      " 1 0 0 1 0 1 1 1 1 1 1 1 1 1 1 0 0 0 1 0 1 1 1 1 1 1 1 1 0 1 1 1 1 0 1 1 1\n",
      " 0 1 1 1 1 1 0 1 1 1 1 1 1 1 1 1 1 1 1 1 1 1 1 0 1 1 1 1 1 1 0 1 0 0 0 0 1\n",
      " 1 1 1 0 1 1 1 0 1 1 0 0 1 0 1 1 0 1 1 1 1 1 0 1 1 0 0 1 1 0 1 0 1 1 1 0 0\n",
      " 1 0 0 1 1 1 1 1 1 1 1 1 1 0 1 1 1 0 1 0 1 1 1 1 1 1 1 0 1 1 0 1 1 0 1 0 1\n",
      " 1 0 0 1 1 1 1 1 1 1 1 0 1 0 1 1 1 1 0 1 0 1 1 0 1 1 0 1 1 0 1 0 0 0 1 1 1\n",
      " 0 1 1 1 0 1 1 1 0 0 1 1 0 0 1 0 1 1 0 1 0 0 0 0 1 1 1 1 1 1 1 0 1 0 0 1 0\n",
      " 1 0 0 1 1 1 1 1 1 0 1 1 1 1 1 1 1 1 1 1 0 1 1 1 0 1 0 1 0 1 1 1 1 1 1 1 1\n",
      " 1 0 0 1 1 0 1 0 0 0 1 0 1 1 1 0 1 1 1 1 1 1 1 1 1 0 1 1 1 1 1 0 1 1 1 0 1\n",
      " 1 1 1 0 1 1 0 1 1 1 0 1 0 1 1 1 1 1 1 1 1 1 0 1 0 1 1 0 1 0 1 0 1 1 1 1 1\n",
      " 0 1 1 0 0 0 1 1 1 1 0 1 0 1 1 0 0 1 0 1 1 1 1 1 1 0 1 0 0 1 1 1 1 1 1 1 1\n",
      " 0 1 0 1 1 1 0 0 0 0 1 1 1 0 1 1 1 1 1 0 1 1 1 1 1 1 0 0 1 1 0 1 0 1 0 0 0\n",
      " 1 1 0 1 1 0 1 1 0 0 0 0 1 0 1 1 1 1 1 0 1 1 0 0 1 1 0 1 1 0 1 1 0 1 0 1 0\n",
      " 1 1 1 1 0 1 1 1 1 0 0 1 0 1 1 0 0 1 0 0 1 1 1 1 0 0 1 1 1 0 0 1 1 1 1 1 1\n",
      " 0 0 1 0 1 1 1 1 1 1 0 1 1 1 1 0 0 1 1 1 0 1 1 1 1 0 1 1 1 1 1 0 1 0 1 0 1\n",
      " 1 1 1 0 1 1 1 1 1 0 1 0 1 1 1 1 1 0 1 0 0 0 0 1 1 1 1 1 1 1 1 1 0 1 0 1 1\n",
      " 0 0 1 1 1 1 1 0 1 1 1 1 1 1 1 1 0 1 1 1 1 1 1 0 1 0 0 1 0 0 1 0 1 1 1 0 1\n",
      " 0 1 1 0 0 1 0 1 1]\n",
      "[[   9.    1.   60. ...    0.  800.  846.]\n",
      " [  17.    1.   60. ...    0. 1000. 1658.]\n",
      " [  10.    0.   36. ...    0. 2000. 2985.]\n",
      " ...\n",
      " [   0.    0.   24. ...    0.  500.  963.]\n",
      " [   0.    1.   48. ...    0.  550.  550.]\n",
      " [   5.    0.   60. ... 1000. 1350. 1650.]]\n"
     ]
    }
   ],
   "source": [
    "labels = data.iloc[:,13].values\n",
    "X = data.iloc[:,:13].values\n",
    "print(labels)\n",
    "print(X)"
   ]
  },
  {
   "cell_type": "code",
   "execution_count": 315,
   "id": "4a7f1135",
   "metadata": {},
   "outputs": [],
   "source": [
    "from sklearn.model_selection import train_test_split\n",
    "X_train, X_test, Y_train, Y_test = train_test_split(X,labels,test_size=0.5, random_state=1)"
   ]
  },
  {
   "cell_type": "code",
   "execution_count": 316,
   "id": "f9208fb0",
   "metadata": {},
   "outputs": [
    {
     "name": "stdout",
     "output_type": "stream",
     "text": [
      "(2188, 13)\n",
      "(2187, 13)\n",
      "(2188,)\n",
      "(2187,)\n"
     ]
    }
   ],
   "source": [
    "print(X_test.shape)\n",
    "\n",
    "print(X_train.shape)\n",
    "\n",
    "print(Y_test.shape)\n",
    "\n",
    "print(Y_train.shape)"
   ]
  },
  {
   "cell_type": "code",
   "execution_count": 317,
   "id": "b2f5fe60",
   "metadata": {},
   "outputs": [
    {
     "name": "stdout",
     "output_type": "stream",
     "text": [
      "[[ 325  279]\n",
      " [ 318 1266]]\n",
      "Accuracy: 0.7271480804387569\n",
      "Recall:  0.7992424242424242\n",
      "Precision:  0.8194174757281554\n"
     ]
    },
    {
     "data": {
      "image/png": "[encoded data removed]",
      "text/plain": [
       "<Figure size 432x288 with 2 Axes>"
      ]
     },
     "metadata": {
      "needs_background": "light"
     },
     "output_type": "display_data"
    }
   ],
   "source": [
    "from sklearn.tree import DecisionTreeClassifier\n",
    "from sklearn.metrics import accuracy_score\n",
    "from sklearn.metrics import recall_score\n",
    "from sklearn.metrics import precision_score\n",
    "from sklearn.metrics import confusion_matrix\n",
    "from sklearn.metrics import ConfusionMatrixDisplay\n",
    "classifier = DecisionTreeClassifier(criterion='gini', random_state=1)\n",
    "classifier = classifier.fit(X_train,Y_train)\n",
    "Y_pred = classifier.predict(X_test)\n",
    "print(confusion_matrix(Y_test,Y_pred))\n",
    "ConfusionMatrixDisplay(confusion_matrix(Y_test,Y_pred)).plot()\n",
    "acc1Tree = accuracy_score(Y_test, Y_pred)\n",
    "print(\"Accuracy:\", acc1Tree)\n",
    "rec1Tree = recall_score(Y_test, Y_pred)\n",
    "print(\"Recall: \",rec1Tree)\n",
    "pre1Tree = precision_score(Y_test, Y_pred)\n",
    "print(\"Precision: \",pre1Tree)"
   ]
  },
  {
   "cell_type": "code",
   "execution_count": 318,
   "id": "e3654fdd",
   "metadata": {
    "scrolled": false
   },
   "outputs": [
    {
     "name": "stdout",
     "output_type": "stream",
     "text": [
      "[[ 189  415]\n",
      " [ 187 1397]]\n",
      "Accuracy: 0.7248628884826326\n",
      "Recall:  0.8819444444444444\n",
      "Precision:  0.7709713024282561\n"
     ]
    },
    {
     "data": {
      "image/png": "[encoded data removed]",
      "text/plain": [
       "<Figure size 432x288 with 2 Axes>"
      ]
     },
     "metadata": {
      "needs_background": "light"
     },
     "output_type": "display_data"
    }
   ],
   "source": [
    "from sklearn.neighbors import KNeighborsClassifier\n",
    "from sklearn.metrics import accuracy_score\n",
    "from sklearn.metrics import recall_score\n",
    "from sklearn.metrics import precision_score\n",
    "from sklearn.metrics import confusion_matrix\n",
    "from sklearn.metrics import ConfusionMatrixDisplay\n",
    "classifier = KNeighborsClassifier(n_neighbors = 5)\n",
    "classifier = classifier.fit(X_train,Y_train)\n",
    "Y_pred = classifier.predict(X_test)\n",
    "print(confusion_matrix(Y_test,Y_pred))\n",
    "ConfusionMatrixDisplay(confusion_matrix(Y_test,Y_pred)).plot()\n",
    "acc1KNN = accuracy_score(Y_test, Y_pred)\n",
    "print(\"Accuracy:\", acc1KNN)\n",
    "rec1KNN = recall_score(Y_test, Y_pred)\n",
    "print(\"Recall: \",rec1KNN)\n",
    "pre1KNN = precision_score(Y_test, Y_pred)\n",
    "print(\"Precision: \",pre1KNN)"
   ]
  },
  {
   "cell_type": "code",
   "execution_count": 319,
   "id": "09cee244",
   "metadata": {},
   "outputs": [
    {
     "name": "stdout",
     "output_type": "stream",
     "text": [
      "[[ 167  437]\n",
      " [ 222 1362]]\n",
      "Accuracy: 0.6988117001828154\n",
      "Recall:  0.8598484848484849\n",
      "Precision:  0.7570872707059477\n"
     ]
    },
    {
     "data": {
      "image/png": "[encoded data removed]",
      "text/plain": [
       "<Figure size 432x288 with 2 Axes>"
      ]
     },
     "metadata": {
      "needs_background": "light"
     },
     "output_type": "display_data"
    }
   ],
   "source": [
    "from sklearn.neural_network import MLPClassifier\n",
    "from sklearn.metrics import accuracy_score\n",
    "from sklearn.metrics import recall_score\n",
    "from sklearn.metrics import precision_score\n",
    "from sklearn.metrics import confusion_matrix\n",
    "from sklearn.metrics import ConfusionMatrixDisplay\n",
    "classifier = MLPClassifier(hidden_layer_sizes=(40,20), random_state = 1)\n",
    "classifier = classifier.fit(X_train,Y_train)\n",
    "Y_pred = classifier.predict(X_test)\n",
    "print(confusion_matrix(Y_test,Y_pred))\n",
    "ConfusionMatrixDisplay(confusion_matrix(Y_test,Y_pred)).plot()\n",
    "acc1MLP = accuracy_score(Y_test, Y_pred)\n",
    "print(\"Accuracy:\", acc1MLP)\n",
    "rec1MLP = recall_score(Y_test, Y_pred)\n",
    "print(\"Recall: \",rec1MLP)\n",
    "pre1MLP = precision_score(Y_test, Y_pred)\n",
    "print(\"Precision: \",pre1MLP)"
   ]
  },
  {
   "cell_type": "code",
   "execution_count": 320,
   "id": "30615725",
   "metadata": {},
   "outputs": [],
   "source": [
    "from sklearn.preprocessing import StandardScaler\n",
    "from sklearn.model_selection import train_test_split\n",
    "X = data.values\n",
    "labels = data.iloc[:,13].values\n",
    "X = data.iloc[:,:13].values\n",
    "autoscale = StandardScaler()\n",
    "X = autoscale.fit_transform(X)\n",
    "X_train, X_test, Y_train, Y_test = train_test_split(X,labels,test_size=0.5, random_state=1)"
   ]
  },
  {
   "cell_type": "code",
   "execution_count": 321,
   "id": "ea297017",
   "metadata": {},
   "outputs": [
    {
     "name": "stdout",
     "output_type": "stream",
     "text": [
      "[[ 326  278]\n",
      " [ 322 1262]]\n",
      "Accuracy: 0.7257769652650823\n",
      "Recall:  0.7967171717171717\n",
      "Precision:  0.8194805194805195\n",
      "[[0.72714808 0.72577697]\n",
      " [0.79924242 0.79671717]\n",
      " [0.81941748 0.81948052]]\n"
     ]
    },
    {
     "data": {
      "image/png": "[encoded data removed]",
      "text/plain": [
       "<Figure size 432x288 with 3 Axes>"
      ]
     },
     "metadata": {
      "needs_background": "light"
     },
     "output_type": "display_data"
    }
   ],
   "source": [
    "from sklearn.tree import DecisionTreeClassifier\n",
    "from sklearn.metrics import accuracy_score\n",
    "from sklearn.metrics import recall_score\n",
    "from sklearn.metrics import precision_score\n",
    "from sklearn.metrics import confusion_matrix\n",
    "from sklearn.metrics import ConfusionMatrixDisplay\n",
    "classifier = DecisionTreeClassifier(criterion='gini', random_state=1)\n",
    "classifier = classifier.fit(X_train,Y_train)\n",
    "Y_pred = classifier.predict(X_test)\n",
    "print(confusion_matrix(Y_test,Y_pred))\n",
    "#ConfusionMatrixDisplay(confusion_matrix(Y_test,Y_pred)).plot()\n",
    "acc2Tree = accuracy_score(Y_test, Y_pred)\n",
    "print(\"Accuracy:\", acc2Tree)\n",
    "rec2Tree = recall_score(Y_test, Y_pred)\n",
    "print(\"Recall: \",rec2Tree)\n",
    "pre2Tree = precision_score(Y_test, Y_pred)\n",
    "print(\"Precision: \",pre2Tree)\n",
    "\n",
    "ComparisonArray = np.array([[acc1Tree,acc2Tree],[rec1Tree,rec2Tree],[pre1Tree,pre2Tree]])\n",
    "print(ComparisonArray)\n",
    "fig, ax = plt.subplots(1,3)\n",
    "fig.suptitle('Avec / Sans normalisation Arbre')\n",
    "fig.tight_layout(pad=3.0)\n",
    "ax[0].bar([\"Sans\",\"Avec\"],ComparisonArray[0]*100)\n",
    "ax[0].title.set_text(\"Accuracy\")\n",
    "ax[1].bar([\"Sans\",\"Avec\"],ComparisonArray[1]*100)\n",
    "ax[1].title.set_text(\"Recall\")\n",
    "ax[2].bar([\"Sans\",\"Avec\"],ComparisonArray[2]*100)\n",
    "ax[2].title.set_text(\"Precision\")"
   ]
  },
  {
   "cell_type": "code",
   "execution_count": 322,
   "id": "dcc087ba",
   "metadata": {},
   "outputs": [
    {
     "name": "stdout",
     "output_type": "stream",
     "text": [
      "[[ 282  322]\n",
      " [ 216 1368]]\n",
      "Accuracy: 0.7541133455210237\n",
      "Recall:  0.8636363636363636\n",
      "Precision:  0.8094674556213017\n",
      "[[0.72486289 0.75411335]\n",
      " [0.88194444 0.86363636]\n",
      " [0.81941748 0.80946746]]\n"
     ]
    },
    {
     "data": {
      "image/png": "[encoded data removed]",
      "text/plain": [
       "<Figure size 432x288 with 2 Axes>"
      ]
     },
     "metadata": {
      "needs_background": "light"
     },
     "output_type": "display_data"
    },
    {
     "data": {
      "image/png": "[encoded data removed]",
      "text/plain": [
       "<Figure size 432x288 with 3 Axes>"
      ]
     },
     "metadata": {
      "needs_background": "light"
     },
     "output_type": "display_data"
    }
   ],
   "source": [
    "from sklearn.neighbors import KNeighborsClassifier\n",
    "from sklearn.metrics import accuracy_score\n",
    "from sklearn.metrics import recall_score\n",
    "from sklearn.metrics import precision_score\n",
    "from sklearn.metrics import confusion_matrix\n",
    "from sklearn.metrics import ConfusionMatrixDisplay\n",
    "classifier = KNeighborsClassifier(n_neighbors = 5)\n",
    "classifier = classifier.fit(X_train,Y_train)\n",
    "Y_pred = classifier.predict(X_test)\n",
    "print(confusion_matrix(Y_test,Y_pred))\n",
    "ConfusionMatrixDisplay(confusion_matrix(Y_test,Y_pred)).plot()\n",
    "acc2KNN = accuracy_score(Y_test, Y_pred)\n",
    "print(\"Accuracy:\", acc2KNN)\n",
    "rec2KNN = recall_score(Y_test, Y_pred)\n",
    "print(\"Recall: \",rec2KNN)\n",
    "pre2KNN = precision_score(Y_test, Y_pred)\n",
    "print(\"Precision: \",pre2KNN)\n",
    "\n",
    "ComparisonArray = np.array([[acc1KNN,acc2KNN],[rec1KNN,rec2KNN],[pre1Tree,pre2KNN]])\n",
    "print(ComparisonArray)\n",
    "fig, (ax1, ax2, ax3) = plt.subplots(1,3)\n",
    "fig.tight_layout(pad=3.0)\n",
    "fig.suptitle('Avec / Sans normalisation KNN')\n",
    "ax1.bar([\"Sans\",\"Avec\"],ComparisonArray[0]*100)\n",
    "ax1.title.set_text(\"Accuracy\")\n",
    "ax2.bar([\"Sans\",\"Avec\"],ComparisonArray[1]*100)\n",
    "ax2.title.set_text(\"Recall\")\n",
    "ax3.bar([\"Sans\",\"Avec\"],ComparisonArray[2]*100)\n",
    "ax3.title.set_text(\"Precision\")"
   ]
  },
  {
   "cell_type": "code",
   "execution_count": 323,
   "id": "6bf99eb4",
   "metadata": {},
   "outputs": [
    {
     "name": "stdout",
     "output_type": "stream",
     "text": [
      "[[ 334  270]\n",
      " [ 225 1359]]\n",
      "Accuracy: 0.7737659963436929\n",
      "Recall:  0.8579545454545454\n",
      "Precision:  0.8342541436464088\n",
      "[[0.6988117  0.773766  ]\n",
      " [0.85984848 0.85795455]\n",
      " [0.81941748 0.83425414]]\n"
     ]
    },
    {
     "data": {
      "image/png": "[encoded data removed]",
      "text/plain": [
       "<Figure size 432x288 with 2 Axes>"
      ]
     },
     "metadata": {
      "needs_background": "light"
     },
     "output_type": "display_data"
    },
    {
     "data": {
      "image/png": "[encoded data removed]",
      "text/plain": [
       "<Figure size 432x288 with 3 Axes>"
      ]
     },
     "metadata": {
      "needs_background": "light"
     },
     "output_type": "display_data"
    }
   ],
   "source": [
    "from sklearn.neural_network import MLPClassifier\n",
    "from sklearn.metrics import accuracy_score\n",
    "from sklearn.metrics import recall_score\n",
    "from sklearn.metrics import precision_score\n",
    "from sklearn.metrics import confusion_matrix\n",
    "from sklearn.metrics import ConfusionMatrixDisplay\n",
    "classifier = MLPClassifier(hidden_layer_sizes=(40,20), random_state = 1)\n",
    "classifier = classifier.fit(X_train,Y_train)\n",
    "Y_pred = classifier.predict(X_test)\n",
    "print(confusion_matrix(Y_test,Y_pred))\n",
    "ConfusionMatrixDisplay(confusion_matrix(Y_test,Y_pred)).plot()\n",
    "acc2MLP = accuracy_score(Y_test, Y_pred)\n",
    "print(\"Accuracy:\", acc2MLP)\n",
    "rec2MLP = recall_score(Y_test, Y_pred)\n",
    "print(\"Recall: \",rec2MLP)\n",
    "pre2MLP = precision_score(Y_test, Y_pred)\n",
    "print(\"Precision: \",pre2MLP)\n",
    "\n",
    "ComparisonArray = np.array([[acc1MLP,acc2MLP],[rec1MLP,rec2MLP],[pre1Tree,pre2MLP]])\n",
    "print(ComparisonArray)\n",
    "fig, (ax1, ax2, ax3) = plt.subplots(1,3)\n",
    "fig.tight_layout(pad=3.0)\n",
    "fig.suptitle('Avec / Sans normalisation MLP')\n",
    "ax1.bar([\"Sans\",\"Avec\"],ComparisonArray[0]*100)\n",
    "ax1.title.set_text(\"Accuracy\")\n",
    "ax2.bar([\"Sans\",\"Avec\"],ComparisonArray[1]*100)\n",
    "ax2.title.set_text(\"Recall\")\n",
    "ax3.bar([\"Sans\",\"Avec\"],ComparisonArray[2]*100)\n",
    "ax3.title.set_text(\"Precision\")"
   ]
  },
  {
   "cell_type": "code",
   "execution_count": 324,
   "id": "84b9ea00",
   "metadata": {},
   "outputs": [],
   "source": [
    "from sklearn.preprocessing import MinMaxScaler\n",
    "from sklearn.model_selection import train_test_split\n",
    "X = data.values\n",
    "labels = data.iloc[:,13].values\n",
    "X = data.iloc[:,:13].values\n",
    "autoscale = MinMaxScaler()\n",
    "X = autoscale.fit_transform(X)\n",
    "X_train, X_test, Y_train, Y_test = train_test_split(X,labels,test_size=0.5, random_state=1)"
   ]
  },
  {
   "cell_type": "code",
   "execution_count": 325,
   "id": "1e85c27c",
   "metadata": {},
   "outputs": [
    {
     "name": "stdout",
     "output_type": "stream",
     "text": [
      "[[ 325  279]\n",
      " [ 313 1271]]\n",
      "Accuracy: 0.7294332723948812\n",
      "Recall:  0.80239898989899\n",
      "Precision:  0.82\n",
      "[[0.72714808 0.72577697 0.72943327]\n",
      " [0.79924242 0.79671717 0.80239899]\n",
      " [0.81941748 0.81948052 0.82      ]]\n"
     ]
    },
    {
     "data": {
      "image/png": "[encoded data removed]",
      "text/plain": [
       "<Figure size 432x288 with 3 Axes>"
      ]
     },
     "metadata": {
      "needs_background": "light"
     },
     "output_type": "display_data"
    }
   ],
   "source": [
    "from sklearn.tree import DecisionTreeClassifier\n",
    "from sklearn.metrics import accuracy_score\n",
    "from sklearn.metrics import recall_score\n",
    "from sklearn.metrics import precision_score\n",
    "from sklearn.metrics import confusion_matrix\n",
    "from sklearn.metrics import ConfusionMatrixDisplay\n",
    "classifier = DecisionTreeClassifier(criterion='gini', random_state=1)\n",
    "classifier = classifier.fit(X_train,Y_train)\n",
    "Y_pred = classifier.predict(X_test)\n",
    "print(confusion_matrix(Y_test,Y_pred))\n",
    "#ConfusionMatrixDisplay(confusion_matrix(Y_test,Y_pred)).plot()\n",
    "acc3Tree = accuracy_score(Y_test, Y_pred)\n",
    "print(\"Accuracy:\", acc3Tree)\n",
    "rec3Tree = recall_score(Y_test, Y_pred)\n",
    "print(\"Recall: \",rec3Tree)\n",
    "pre3Tree = precision_score(Y_test, Y_pred)\n",
    "print(\"Precision: \",pre3Tree)\n",
    "\n",
    "ComparisonArray = np.array([[acc1Tree,acc2Tree,acc3Tree],[rec1Tree,rec2Tree,rec3Tree],[pre1Tree,pre2Tree,pre3Tree]])\n",
    "print(ComparisonArray)\n",
    "fig, ax = plt.subplots(1,3)\n",
    "fig.suptitle('Avec / Sans normalisation Arbre')\n",
    "fig.tight_layout(pad=3.0)\n",
    "ax[0].bar([\"Sans\",\"Std\",\"-+\"],ComparisonArray[0]*100)\n",
    "ax[0].title.set_text(\"Accuracy\")\n",
    "ax[1].bar([\"Sans\",\"Std\",\"-+\"],ComparisonArray[1]*100)\n",
    "ax[1].title.set_text(\"Recall\")\n",
    "ax[2].bar([\"Sans\",\"Std\",\"-+\"],ComparisonArray[2]*100)\n",
    "ax[2].title.set_text(\"Precision\")"
   ]
  },
  {
   "cell_type": "code",
   "execution_count": 326,
   "id": "d661cc9a",
   "metadata": {},
   "outputs": [
    {
     "name": "stdout",
     "output_type": "stream",
     "text": [
      "[[ 292  312]\n",
      " [ 239 1345]]\n",
      "Accuracy: 0.7481718464351006\n",
      "Recall:  0.8491161616161617\n",
      "Precision:  0.8117079058539529\n",
      "[[0.72486289 0.75411335 0.74817185]\n",
      " [0.88194444 0.86363636 0.84911616]\n",
      " [0.81941748 0.80946746 0.81170791]]\n"
     ]
    },
    {
     "data": {
      "image/png": "[encoded data removed]",
      "text/plain": [
       "<Figure size 432x288 with 2 Axes>"
      ]
     },
     "metadata": {
      "needs_background": "light"
     },
     "output_type": "display_data"
    },
    {
     "data": {
      "image/png": "[encoded data removed]",
      "text/plain": [
       "<Figure size 432x288 with 3 Axes>"
      ]
     },
     "metadata": {
      "needs_background": "light"
     },
     "output_type": "display_data"
    }
   ],
   "source": [
    "from sklearn.neighbors import KNeighborsClassifier\n",
    "from sklearn.metrics import accuracy_score\n",
    "from sklearn.metrics import recall_score\n",
    "from sklearn.metrics import precision_score\n",
    "from sklearn.metrics import confusion_matrix\n",
    "from sklearn.metrics import ConfusionMatrixDisplay\n",
    "classifier = KNeighborsClassifier(n_neighbors = 5)\n",
    "classifier = classifier.fit(X_train,Y_train)\n",
    "Y_pred = classifier.predict(X_test)\n",
    "print(confusion_matrix(Y_test,Y_pred))\n",
    "ConfusionMatrixDisplay(confusion_matrix(Y_test,Y_pred)).plot()\n",
    "acc3KNN = accuracy_score(Y_test, Y_pred)\n",
    "print(\"Accuracy:\", acc3KNN)\n",
    "rec3KNN = recall_score(Y_test, Y_pred)\n",
    "print(\"Recall: \",rec3KNN)\n",
    "pre3KNN = precision_score(Y_test, Y_pred)\n",
    "print(\"Precision: \",pre3KNN)\n",
    "\n",
    "ComparisonArray = np.array([[acc1KNN,acc2KNN,acc3KNN],[rec1KNN,rec2KNN,rec3KNN],[pre1Tree,pre2KNN,pre3KNN]])\n",
    "print(ComparisonArray)\n",
    "fig, (ax1, ax2, ax3) = plt.subplots(1,3)\n",
    "fig.tight_layout(pad=3.0)\n",
    "fig.suptitle('Avec / Sans normalisation KNN')\n",
    "ax1.bar([\"Sans\",\"Std\",\"-+\"],ComparisonArray[0]*100)\n",
    "ax1.title.set_text(\"Accuracy\")\n",
    "ax2.bar([\"Sans\",\"Std\",\"-+\"],ComparisonArray[1]*100)\n",
    "ax2.title.set_text(\"Recall\")\n",
    "ax3.bar([\"Sans\",\"Std\",\"-+\"],ComparisonArray[2]*100)\n",
    "ax3.title.set_text(\"Precision\")"
   ]
  },
  {
   "cell_type": "code",
   "execution_count": 327,
   "id": "d0a92ac4",
   "metadata": {},
   "outputs": [
    {
     "name": "stdout",
     "output_type": "stream",
     "text": [
      "[[ 334  270]\n",
      " [ 186 1398]]\n",
      "Accuracy: 0.7915904936014625\n",
      "Recall:  0.8825757575757576\n",
      "Precision:  0.8381294964028777\n",
      "[[0.6988117  0.773766   0.79159049]\n",
      " [0.85984848 0.85795455 0.88257576]\n",
      " [0.81941748 0.83425414 0.8381295 ]]\n"
     ]
    },
    {
     "data": {
      "image/png": "[encoded data removed]",
      "text/plain": [
       "<Figure size 432x288 with 2 Axes>"
      ]
     },
     "metadata": {
      "needs_background": "light"
     },
     "output_type": "display_data"
    },
    {
     "data": {
      "image/png": "[encoded data removed]",
      "text/plain": [
       "<Figure size 432x288 with 3 Axes>"
      ]
     },
     "metadata": {
      "needs_background": "light"
     },
     "output_type": "display_data"
    }
   ],
   "source": [
    "from sklearn.neural_network import MLPClassifier\n",
    "from sklearn.metrics import accuracy_score\n",
    "from sklearn.metrics import recall_score\n",
    "from sklearn.metrics import precision_score\n",
    "from sklearn.metrics import confusion_matrix\n",
    "from sklearn.metrics import ConfusionMatrixDisplay\n",
    "classifier = MLPClassifier(hidden_layer_sizes=(40,20), random_state = 1)\n",
    "classifier = classifier.fit(X_train,Y_train)\n",
    "Y_pred = classifier.predict(X_test)\n",
    "print(confusion_matrix(Y_test,Y_pred))\n",
    "ConfusionMatrixDisplay(confusion_matrix(Y_test,Y_pred)).plot()\n",
    "acc3MLP = accuracy_score(Y_test, Y_pred)\n",
    "print(\"Accuracy:\", acc3MLP)\n",
    "rec3MLP = recall_score(Y_test, Y_pred)\n",
    "print(\"Recall: \",rec3MLP)\n",
    "pre3MLP = precision_score(Y_test, Y_pred)\n",
    "print(\"Precision: \",pre3MLP)\n",
    "\n",
    "ComparisonArray = np.array([[acc1MLP,acc2MLP,acc3MLP],[rec1MLP,rec2MLP,rec3MLP],[pre1Tree,pre2MLP,pre3MLP]])\n",
    "print(ComparisonArray)\n",
    "fig, (ax1, ax2, ax3) = plt.subplots(1,3)\n",
    "fig.tight_layout(pad=3.0)\n",
    "fig.suptitle('Avec / Sans normalisation MLP')\n",
    "ax1.bar([\"Sans\",\"Std\",\"-+\"],ComparisonArray[0]*100)\n",
    "ax1.title.set_text(\"Accuracy\")\n",
    "ax2.bar([\"Sans\",\"Std\",\"-+\"],ComparisonArray[1]*100)\n",
    "ax2.title.set_text(\"Recall\")\n",
    "ax3.bar([\"Sans\",\"Std\",\"-+\"],ComparisonArray[2]*100)\n",
    "ax3.title.set_text(\"Precision\")"
   ]
  },
  {
   "cell_type": "code",
   "execution_count": 351,
   "id": "2c63467b",
   "metadata": {},
   "outputs": [
    {
     "name": "stdout",
     "output_type": "stream",
     "text": [
      "[array([[-0.10539397,  0.78405837,  0.00231992, -0.18540484,  0.57615459,\n",
      "         0.00250899, -0.0011    , -0.07862852, -0.02834881, -0.02027057,\n",
      "        -0.01106194, -0.01123222, -0.01253455],\n",
      "       [-0.06225049, -0.0258995 , -0.0759471 ,  0.03288736,  0.0354252 ,\n",
      "         0.04580006,  0.99204876, -0.00309426, -0.02794777,  0.01560329,\n",
      "         0.00172552,  0.00661369,  0.00322421],\n",
      "       [ 0.02166644,  0.53792762,  0.03895544,  0.09891457, -0.67659448,\n",
      "         0.46412311,  0.01861032,  0.15611011,  0.00920715, -0.01244221,\n",
      "        -0.00833554,  0.02439736,  0.00717403]])]\n",
      "(4375, 13)\n",
      "[0.1875     1.         0.81818182 0.24       0.         0.\n",
      " 1.         0.27536232 0.13451512 0.         0.         0.15909091\n",
      " 0.06714998]\n",
      "(4378, 13)\n"
     ]
    },
    {
     "ename": "ValueError",
     "evalue": "Found input variables with inconsistent numbers of samples: [4378, 4375]",
     "output_type": "error",
     "traceback": [
      "\u001b[1;31m---------------------------------------------------------------------------\u001b[0m",
      "\u001b[1;31mValueError\u001b[0m                                Traceback (most recent call last)",
      "\u001b[1;32m~\\AppData\\Local\\Temp/ipykernel_9676/153578792.py\u001b[0m in \u001b[0;36m<module>\u001b[1;34m\u001b[0m\n\u001b[0;32m     16\u001b[0m \u001b[0mX\u001b[0m \u001b[1;33m=\u001b[0m \u001b[0mnp\u001b[0m\u001b[1;33m.\u001b[0m\u001b[0mappend\u001b[0m\u001b[1;33m(\u001b[0m\u001b[0mX\u001b[0m\u001b[1;33m,\u001b[0m\u001b[0mX_components\u001b[0m\u001b[1;33m,\u001b[0m\u001b[0maxis\u001b[0m\u001b[1;33m=\u001b[0m\u001b[1;36m0\u001b[0m\u001b[1;33m)\u001b[0m\u001b[1;33m\u001b[0m\u001b[1;33m\u001b[0m\u001b[0m\n\u001b[0;32m     17\u001b[0m \u001b[0mprint\u001b[0m\u001b[1;33m(\u001b[0m\u001b[0mX\u001b[0m\u001b[1;33m.\u001b[0m\u001b[0mshape\u001b[0m\u001b[1;33m)\u001b[0m\u001b[1;33m\u001b[0m\u001b[1;33m\u001b[0m\u001b[0m\n\u001b[1;32m---> 18\u001b[1;33m \u001b[0mX_train\u001b[0m\u001b[1;33m,\u001b[0m \u001b[0mX_test\u001b[0m\u001b[1;33m,\u001b[0m \u001b[0mY_train\u001b[0m\u001b[1;33m,\u001b[0m \u001b[0mY_test\u001b[0m \u001b[1;33m=\u001b[0m \u001b[0mtrain_test_split\u001b[0m\u001b[1;33m(\u001b[0m\u001b[0mX\u001b[0m\u001b[1;33m,\u001b[0m\u001b[0mlabels\u001b[0m\u001b[1;33m,\u001b[0m\u001b[0mtest_size\u001b[0m\u001b[1;33m=\u001b[0m\u001b[1;36m0.5\u001b[0m\u001b[1;33m,\u001b[0m \u001b[0mrandom_state\u001b[0m\u001b[1;33m=\u001b[0m\u001b[1;36m1\u001b[0m\u001b[1;33m)\u001b[0m\u001b[1;33m\u001b[0m\u001b[1;33m\u001b[0m\u001b[0m\n\u001b[0m",
      "\u001b[1;32m~\\AppData\\Local\\Packages\\PythonSoftwareFoundation.Python.3.9_qbz5n2kfra8p0\\LocalCache\\local-packages\\Python39\\site-packages\\sklearn\\model_selection\\_split.py\u001b[0m in \u001b[0;36mtrain_test_split\u001b[1;34m(test_size, train_size, random_state, shuffle, stratify, *arrays)\u001b[0m\n\u001b[0;32m   2417\u001b[0m         \u001b[1;32mraise\u001b[0m \u001b[0mValueError\u001b[0m\u001b[1;33m(\u001b[0m\u001b[1;34m\"At least one array required as input\"\u001b[0m\u001b[1;33m)\u001b[0m\u001b[1;33m\u001b[0m\u001b[1;33m\u001b[0m\u001b[0m\n\u001b[0;32m   2418\u001b[0m \u001b[1;33m\u001b[0m\u001b[0m\n\u001b[1;32m-> 2419\u001b[1;33m     \u001b[0marrays\u001b[0m \u001b[1;33m=\u001b[0m \u001b[0mindexable\u001b[0m\u001b[1;33m(\u001b[0m\u001b[1;33m*\u001b[0m\u001b[0marrays\u001b[0m\u001b[1;33m)\u001b[0m\u001b[1;33m\u001b[0m\u001b[1;33m\u001b[0m\u001b[0m\n\u001b[0m\u001b[0;32m   2420\u001b[0m \u001b[1;33m\u001b[0m\u001b[0m\n\u001b[0;32m   2421\u001b[0m     \u001b[0mn_samples\u001b[0m \u001b[1;33m=\u001b[0m \u001b[0m_num_samples\u001b[0m\u001b[1;33m(\u001b[0m\u001b[0marrays\u001b[0m\u001b[1;33m[\u001b[0m\u001b[1;36m0\u001b[0m\u001b[1;33m]\u001b[0m\u001b[1;33m)\u001b[0m\u001b[1;33m\u001b[0m\u001b[1;33m\u001b[0m\u001b[0m\n",
      "\u001b[1;32m~\\AppData\\Local\\Packages\\PythonSoftwareFoundation.Python.3.9_qbz5n2kfra8p0\\LocalCache\\local-packages\\Python39\\site-packages\\sklearn\\utils\\validation.py\u001b[0m in \u001b[0;36mindexable\u001b[1;34m(*iterables)\u001b[0m\n\u001b[0;32m    368\u001b[0m     \"\"\"\n\u001b[0;32m    369\u001b[0m     \u001b[0mresult\u001b[0m \u001b[1;33m=\u001b[0m \u001b[1;33m[\u001b[0m\u001b[0m_make_indexable\u001b[0m\u001b[1;33m(\u001b[0m\u001b[0mX\u001b[0m\u001b[1;33m)\u001b[0m \u001b[1;32mfor\u001b[0m \u001b[0mX\u001b[0m \u001b[1;32min\u001b[0m \u001b[0miterables\u001b[0m\u001b[1;33m]\u001b[0m\u001b[1;33m\u001b[0m\u001b[1;33m\u001b[0m\u001b[0m\n\u001b[1;32m--> 370\u001b[1;33m     \u001b[0mcheck_consistent_length\u001b[0m\u001b[1;33m(\u001b[0m\u001b[1;33m*\u001b[0m\u001b[0mresult\u001b[0m\u001b[1;33m)\u001b[0m\u001b[1;33m\u001b[0m\u001b[1;33m\u001b[0m\u001b[0m\n\u001b[0m\u001b[0;32m    371\u001b[0m     \u001b[1;32mreturn\u001b[0m \u001b[0mresult\u001b[0m\u001b[1;33m\u001b[0m\u001b[1;33m\u001b[0m\u001b[0m\n\u001b[0;32m    372\u001b[0m \u001b[1;33m\u001b[0m\u001b[0m\n",
      "\u001b[1;32m~\\AppData\\Local\\Packages\\PythonSoftwareFoundation.Python.3.9_qbz5n2kfra8p0\\LocalCache\\local-packages\\Python39\\site-packages\\sklearn\\utils\\validation.py\u001b[0m in \u001b[0;36mcheck_consistent_length\u001b[1;34m(*arrays)\u001b[0m\n\u001b[0;32m    329\u001b[0m     \u001b[0muniques\u001b[0m \u001b[1;33m=\u001b[0m \u001b[0mnp\u001b[0m\u001b[1;33m.\u001b[0m\u001b[0munique\u001b[0m\u001b[1;33m(\u001b[0m\u001b[0mlengths\u001b[0m\u001b[1;33m)\u001b[0m\u001b[1;33m\u001b[0m\u001b[1;33m\u001b[0m\u001b[0m\n\u001b[0;32m    330\u001b[0m     \u001b[1;32mif\u001b[0m \u001b[0mlen\u001b[0m\u001b[1;33m(\u001b[0m\u001b[0muniques\u001b[0m\u001b[1;33m)\u001b[0m \u001b[1;33m>\u001b[0m \u001b[1;36m1\u001b[0m\u001b[1;33m:\u001b[0m\u001b[1;33m\u001b[0m\u001b[1;33m\u001b[0m\u001b[0m\n\u001b[1;32m--> 331\u001b[1;33m         raise ValueError(\n\u001b[0m\u001b[0;32m    332\u001b[0m             \u001b[1;34m\"Found input variables with inconsistent numbers of samples: %r\"\u001b[0m\u001b[1;33m\u001b[0m\u001b[1;33m\u001b[0m\u001b[0m\n\u001b[0;32m    333\u001b[0m             \u001b[1;33m%\u001b[0m \u001b[1;33m[\u001b[0m\u001b[0mint\u001b[0m\u001b[1;33m(\u001b[0m\u001b[0ml\u001b[0m\u001b[1;33m)\u001b[0m \u001b[1;32mfor\u001b[0m \u001b[0ml\u001b[0m \u001b[1;32min\u001b[0m \u001b[0mlengths\u001b[0m\u001b[1;33m]\u001b[0m\u001b[1;33m\u001b[0m\u001b[1;33m\u001b[0m\u001b[0m\n",
      "\u001b[1;31mValueError\u001b[0m: Found input variables with inconsistent numbers of samples: [4378, 4375]"
     ]
    }
   ],
   "source": [
    "from sklearn.preprocessing import MinMaxScaler\n",
    "from sklearn.model_selection import train_test_split\n",
    "from sklearn.decomposition import PCA\n",
    "X = data.values\n",
    "labels = data.iloc[:,13].values\n",
    "X = data.iloc[:,:13].values\n",
    "autoscale = MinMaxScaler()\n",
    "X = autoscale.fit_transform(X)\n",
    "_nbComponents = 13\n",
    "pca = PCA(n_components=_nbComponents)\n",
    "X_pca = pca.fit_transform(X)\n",
    "X_components = pca.components_[:3]\n",
    "print([X_components])\n",
    "print(X.shape)\n",
    "print(X[0])\n",
    "X = np.append(X,X_components,axis=0) \n",
    "print(X.shape)\n",
    "X_train, X_test, Y_train, Y_test = train_test_split(X,labels,test_size=0.5, random_state=1)"
   ]
  },
  {
   "cell_type": "code",
   "execution_count": null,
   "id": "a3c701ab",
   "metadata": {},
   "outputs": [],
   "source": []
  }
 ],
 "metadata": {
  "kernelspec": {
   "display_name": "Python 3 (ipykernel)",
   "language": "python",
   "name": "python3"
  },
  "language_info": {
   "codemirror_mode": {
    "name": "ipython",
    "version": 3
   },
   "file_extension": ".py",
   "mimetype": "text/x-python",
   "name": "python",
   "nbconvert_exporter": "python",
   "pygments_lexer": "ipython3",
   "version": "3.9.9"
  }
 },
 "nbformat": 4,
 "nbformat_minor": 5
}
