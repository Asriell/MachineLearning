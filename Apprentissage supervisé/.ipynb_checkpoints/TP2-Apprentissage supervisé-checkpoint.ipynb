{
 "cells": [
  {
   "cell_type": "markdown",
   "id": "879273c1",
   "metadata": {},
   "source": [
    "#                                          TP2: Apprentissage supervisé"
   ]
  },
  {
   "cell_type": "markdown",
   "id": "081a5c23",
   "metadata": {},
   "source": [
    "## I.Apprentissage supervisé: Feature engineering et classification"
   ]
  },
  {
   "cell_type": "markdown",
   "id": "eb3376f1",
   "metadata": {},
   "source": [
    "### 1.Chargement des données et préparation"
   ]
  },
  {
   "cell_type": "markdown",
   "id": "2693aadc",
   "metadata": {},
   "source": [
    "#### Charger les données"
   ]
  },
  {
   "cell_type": "code",
   "execution_count": 101,
   "id": "880c4c93",
   "metadata": {},
   "outputs": [],
   "source": [
    "import numpy as np\n",
    "np.set_printoptions(threshold=10000,suppress=True)\n",
    "import pandas as pd\n",
    "import warnings\n",
    "import matplotlib.pyplot as plt\n",
    "warnings.filterwarnings('ignore')"
   ]
  },
  {
   "cell_type": "markdown",
   "id": "2568dc79",
   "metadata": {},
   "source": [
    "#### Transformer les données"
   ]
  },
  {
   "cell_type": "code",
   "execution_count": 102,
   "id": "17a27605",
   "metadata": {},
   "outputs": [],
   "source": [
    "data = pd.read_csv('./credit_scoring.csv', sep=';')\n",
    "X = data.values"
   ]
  },
  {
   "cell_type": "code",
   "execution_count": 103,
   "id": "5270d3f6",
   "metadata": {},
   "outputs": [
    {
     "name": "stdout",
     "output_type": "stream",
     "text": [
      "data :        Seniority  Home  Time   Age  Marital  Records  Job  Expenses  Income  \\\n",
      "0           9.0   1.0  60.0  30.0      0.0      1.0  1.0      73.0   129.0   \n",
      "1          17.0   1.0  60.0  58.0      1.0      1.0  0.0      48.0   131.0   \n",
      "2          10.0   0.0  36.0  46.0      0.0      2.0  1.0      90.0   200.0   \n",
      "3           0.0   1.0  60.0  24.0      1.0      1.0  0.0      63.0   182.0   \n",
      "4           0.0   1.0  36.0  26.0      1.0      1.0  0.0      46.0   107.0   \n",
      "...         ...   ...   ...   ...      ...      ...  ...       ...     ...   \n",
      "4370        1.0   1.0  60.0  39.0      0.0      1.0  0.0      69.0    92.0   \n",
      "4371       22.0   0.0  60.0  46.0      0.0      1.0  0.0      60.0    75.0   \n",
      "4372        0.0   0.0  24.0  37.0      0.0      1.0  1.0      60.0    90.0   \n",
      "4373        0.0   1.0  48.0  23.0      1.0      1.0  1.0      49.0   140.0   \n",
      "4374        5.0   0.0  60.0  32.0      0.0      1.0  1.0      60.0   140.0   \n",
      "\n",
      "      Assets    Debt  Amount   Price  Status  \n",
      "0        0.0     0.0   800.0   846.0       1  \n",
      "1        0.0     0.0  1000.0  1658.0       1  \n",
      "2     3000.0     0.0  2000.0  2985.0       0  \n",
      "3     2500.0     0.0   900.0  1325.0       1  \n",
      "4        0.0     0.0   310.0   910.0       1  \n",
      "...      ...     ...     ...     ...     ...  \n",
      "4370     0.0     0.0   900.0  1020.0       0  \n",
      "4371  3000.0   600.0   950.0  1263.0       1  \n",
      "4372  3500.0     0.0   500.0   963.0       0  \n",
      "4373     0.0     0.0   550.0   550.0       1  \n",
      "4374  4000.0  1000.0  1350.0  1650.0       1  \n",
      "\n",
      "[4375 rows x 14 columns]\n",
      "X :  [[   9.    1.   60. ...  800.  846.    1.]\n",
      " [  17.    1.   60. ... 1000. 1658.    1.]\n",
      " [  10.    0.   36. ... 2000. 2985.    0.]\n",
      " ...\n",
      " [   0.    0.   24. ...  500.  963.    0.]\n",
      " [   0.    1.   48. ...  550.  550.    1.]\n",
      " [   5.    0.   60. ... 1350. 1650.    1.]]\n"
     ]
    }
   ],
   "source": [
    "print(\"data : \", data)\n",
    "print(\"X : \", X)"
   ]
  },
  {
   "cell_type": "markdown",
   "id": "f693a1cd",
   "metadata": {},
   "source": [
    "#### Séparer en 2 tableaux"
   ]
  },
  {
   "cell_type": "code",
   "execution_count": 104,
   "id": "1a29e6be",
   "metadata": {},
   "outputs": [],
   "source": [
    "X_split = [[],[]]\n",
    "for x in X:\n",
    "    if x[13] == 0 :\n",
    "        X_split[0].append(x)\n",
    "    else :\n",
    "        X_split[1].append(x)\n",
    "X_split[0]=np.array(X_split[0])\n",
    "X_split[1]=np.array(X_split[1])\n",
    "X_split=np.array(X_split)"
   ]
  },
  {
   "cell_type": "code",
   "execution_count": 105,
   "id": "d0588a7d",
   "metadata": {
    "scrolled": true
   },
   "outputs": [
    {
     "name": "stdout",
     "output_type": "stream",
     "text": [
      "[array([[  10.,    0.,   36., ..., 2000., 2985.,    0.],\n",
      "        [   0.,    1.,   48., ..., 1200., 1468.,    0.],\n",
      "        [   0.,    1.,   18., ...,  400.,  500.,    0.],\n",
      "        ...,\n",
      "        [   1.,    1.,   48., ..., 1200., 1300.,    0.],\n",
      "        [   1.,    1.,   60., ...,  900., 1020.,    0.],\n",
      "        [   0.,    0.,   24., ...,  500.,  963.,    0.]])\n",
      " array([[   9.,    1.,   60., ...,  800.,  846.,    1.],\n",
      "        [  17.,    1.,   60., ..., 1000., 1658.,    1.],\n",
      "        [   0.,    1.,   60., ...,  900., 1325.,    1.],\n",
      "        ...,\n",
      "        [  22.,    0.,   60., ...,  950., 1263.,    1.],\n",
      "        [   0.,    1.,   48., ...,  550.,  550.,    1.],\n",
      "        [   5.,    0.,   60., ..., 1350., 1650.,    1.]])]\n"
     ]
    }
   ],
   "source": [
    "print(X_split)"
   ]
  },
  {
   "cell_type": "markdown",
   "id": "ae969f27",
   "metadata": {},
   "source": [
    "#### Analyser les données avec print et hist"
   ]
  },
  {
   "cell_type": "code",
   "execution_count": 106,
   "id": "92c7baaa",
   "metadata": {},
   "outputs": [
    {
     "name": "stdout",
     "output_type": "stream",
     "text": [
      " taille totale :  (4375, 14)\n",
      " pour les 0 :  (1216, 14)\n",
      " pour les 1 :  (3159, 14)\n"
     ]
    }
   ],
   "source": [
    "print(\" taille totale : \",X.shape)\n",
    "print(\" pour les 0 : \",X_split[0].shape)\n",
    "print(\" pour les 1 : \",X_split[1].shape)"
   ]
  },
  {
   "cell_type": "code",
   "execution_count": 107,
   "id": "c516e2f3",
   "metadata": {},
   "outputs": [
    {
     "data": {
      "text/plain": [
       "(array([[16999.,    16.,     4.,     4.,     1.,     0.,     0.,     0.,\n",
       "             0.,     0.],\n",
       "        [44106.,    84.,    18.,    10.,     5.,     0.,     1.,     0.,\n",
       "             1.,     1.]]),\n",
       " array([     0.,  25000.,  50000.,  75000., 100000., 125000., 150000.,\n",
       "        175000., 200000., 225000., 250000.]),\n",
       " <a list of 2 BarContainer objects>)"
      ]
     },
     "execution_count": 107,
     "metadata": {},
     "output_type": "execute_result"
    },
    {
     "data": {
      "image/png": "[encoded data removed]",
      "text/plain": [
       "<Figure size 432x288 with 1 Axes>"
      ]
     },
     "metadata": {
      "needs_background": "light"
     },
     "output_type": "display_data"
    }
   ],
   "source": [
    "plt.hist(X_split)"
   ]
  },
  {
   "cell_type": "code",
   "execution_count": 108,
   "id": "c84d683e",
   "metadata": {
    "scrolled": true
   },
   "outputs": [
    {
     "name": "stdout",
     "output_type": "stream",
     "text": [
      "[1 1 0 1 1 1 1 1 1 0 1 1 1 1 0 1 1 1 0 1 0 1 0 1 1 1 1 1 0 1 0 1 1 1 1 1 1\n",
      " 0 1 0 1 1 0 0 1 1 1 0 1 1 1 1 1 1 0 1 1 1 1 1 1 0 1 1 1 1 1 1 1 1 1 1 1 1\n",
      " 1 1 1 1 1 1 1 0 1 1 1 1 1 0 0 1 0 1 1 1 1 0 1 1 1 1 1 1 0 0 1 0 0 1 0 1 1\n",
      " 0 0 1 0 0 1 1 1 1 1 0 1 1 1 0 1 1 1 1 0 1 1 1 1 1 0 1 1 0 1 1 1 1 0 0 1 1\n",
      " 1 1 0 1 0 0 1 1 1 1 1 1 1 1 1 1 0 1 0 1 1 1 1 1 0 1 1 0 1 1 1 0 1 1 1 1 1\n",
      " 1 0 1 0 1 1 1 1 0 1 1 1 1 1 1 1 1 1 1 1 1 0 1 1 1 1 0 0 1 0 1 1 1 1 1 1 1\n",
      " 1 1 1 1 1 1 0 1 1 0 1 1 1 1 1 1 0 0 1 1 1 0 0 1 1 0 1 1 1 1 1 1 1 1 1 0 1\n",
      " 1 1 1 1 1 1 1 0 1 1 1 1 1 0 1 1 0 1 1 1 1 1 1 1 1 1 1 1 1 1 1 1 1 1 0 0 1\n",
      " 1 1 0 1 1 0 1 0 0 0 1 1 0 0 1 1 0 1 1 0 1 1 0 1 0 1 1 1 1 1 0 1 1 1 0 0 1\n",
      " 1 1 1 0 1 1 1 1 1 1 1 0 0 0 1 1 1 0 1 1 0 1 0 1 1 0 1 1 0 1 0 1 1 1 1 1 1\n",
      " 1 1 0 1 1 1 1 0 1 1 1 0 1 1 1 1 1 0 1 1 0 0 1 1 0 1 0 0 1 0 1 0 1 1 1 1 1\n",
      " 0 1 1 1 1 1 0 0 1 1 1 0 1 0 1 0 0 1 0 1 1 0 1 1 1 0 1 1 0 1 1 1 1 0 1 1 1\n",
      " 0 1 1 1 0 0 1 1 1 1 1 1 1 0 1 0 1 1 1 0 1 1 1 1 1 1 1 1 1 1 1 1 1 1 1 0 0\n",
      " 0 1 1 1 1 1 0 1 1 1 1 0 0 0 1 0 0 1 0 1 0 1 1 1 1 0 1 0 1 1 0 1 1 1 1 1 1\n",
      " 1 1 0 1 1 1 1 1 1 1 1 1 0 0 1 1 1 1 1 1 1 1 1 1 1 1 0 0 0 1 1 1 1 1 1 0 1\n",
      " 0 0 1 1 1 1 0 1 0 1 1 1 1 0 1 0 0 1 0 0 1 0 0 0 1 1 1 1 1 0 1 1 1 1 1 0 1\n",
      " 1 1 1 0 1 1 1 1 0 1 1 0 0 1 1 0 1 1 1 1 1 1 1 1 1 0 1 1 0 1 0 1 1 1 0 1 1\n",
      " 0 1 1 1 1 0 1 1 1 1 0 1 1 0 1 1 0 1 0 1 0 0 0 1 1 0 1 1 1 1 1 1 1 1 1 1 1\n",
      " 1 1 0 0 1 1 1 1 0 1 1 1 0 1 0 1 1 1 1 0 1 1 1 1 1 1 0 1 1 0 0 0 1 1 1 1 1\n",
      " 1 0 1 0 1 1 1 0 0 0 1 1 1 1 1 0 1 0 1 1 1 0 1 1 0 0 0 0 0 1 1 1 0 1 1 1 1\n",
      " 0 0 1 0 1 1 1 1 1 0 1 1 1 0 1 1 1 0 0 1 1 1 0 0 1 0 0 1 1 1 1 1 0 1 1 1 1\n",
      " 1 0 1 0 1 1 1 1 1 1 0 1 1 1 1 0 0 1 1 1 1 1 1 1 0 1 1 0 0 1 1 0 0 1 1 0 1\n",
      " 1 0 0 0 0 1 1 1 0 1 1 1 0 1 0 1 1 1 1 1 1 0 1 1 1 1 1 1 1 0 1 1 1 1 1 1 1\n",
      " 1 0 1 1 1 1 1 0 1 1 1 1 1 0 1 0 0 1 1 0 1 0 1 0 0 1 1 0 1 0 1 1 0 1 0 1 0\n",
      " 1 1 1 1 1 1 0 1 1 1 1 1 1 1 1 1 1 1 1 0 1 1 1 1 1 1 1 1 1 0 1 1 1 1 1 1 1\n",
      " 1 1 1 0 1 1 1 1 0 1 0 0 1 1 1 0 1 1 0 0 0 1 1 1 1 1 1 1 0 1 1 0 1 0 1 0 1\n",
      " 0 1 1 0 1 1 0 1 1 1 1 1 1 1 0 1 0 1 1 1 0 1 1 1 1 1 1 1 1 0 1 1 0 1 0 1 0\n",
      " 1 1 0 1 0 1 0 0 1 0 1 0 1 1 0 1 0 0 1 0 1 0 0 1 1 1 1 1 1 1 0 1 1 1 0 1 1\n",
      " 1 0 1 0 1 1 1 1 1 1 1 0 1 1 0 1 1 1 0 1 1 1 1 1 1 1 1 0 1 1 1 0 1 1 1 0 1\n",
      " 0 1 1 1 0 1 1 1 1 1 0 0 1 1 1 1 0 0 1 0 1 1 0 1 1 1 1 1 1 1 0 1 0 1 0 1 1\n",
      " 1 1 1 1 1 0 0 0 1 0 1 1 1 1 0 0 1 0 1 1 0 0 0 0 0 0 1 1 1 1 1 1 1 1 0 1 1\n",
      " 1 0 1 1 1 1 1 0 1 1 0 1 0 1 1 1 0 1 1 0 0 0 1 0 0 0 0 1 1 1 1 1 1 1 1 1 0\n",
      " 1 0 1 0 1 1 1 1 1 0 1 1 1 1 1 0 1 1 1 1 0 1 1 1 0 1 1 0 1 1 1 1 1 1 1 1 1\n",
      " 1 1 1 0 0 1 1 1 1 1 1 1 1 0 1 1 1 0 1 1 0 1 1 0 0 1 0 1 1 0 1 0 1 1 1 1 0\n",
      " 1 1 0 1 1 0 0 1 1 1 1 0 1 1 1 0 1 0 1 1 0 1 0 0 1 0 0 1 1 1 0 1 1 1 0 0 1\n",
      " 1 1 0 1 1 1 1 1 0 0 1 1 1 0 1 0 1 0 0 1 0 1 1 0 1 1 1 1 1 1 1 1 1 1 1 1 1\n",
      " 1 1 1 1 1 1 1 1 0 1 1 1 0 1 0 1 1 1 1 1 1 1 1 1 0 1 1 1 0 0 1 1 0 1 1 1 1\n",
      " 0 0 1 1 1 1 1 0 1 0 1 1 1 0 1 1 1 1 1 1 1 1 1 1 0 1 0 1 0 1 1 1 1 1 1 0 0\n",
      " 1 1 1 1 1 1 1 1 1 0 0 1 1 1 1 1 0 0 1 0 1 0 1 0 1 1 1 1 1 1 1 1 1 1 1 1 1\n",
      " 1 1 1 1 1 1 0 1 1 1 0 1 0 0 1 1 1 1 0 0 0 0 0 0 1 0 0 1 1 1 1 0 1 0 1 0 1\n",
      " 1 0 1 1 1 0 1 1 1 1 0 0 1 0 0 0 1 1 1 0 1 0 1 1 1 1 1 1 1 1 1 1 0 0 0 1 1\n",
      " 1 0 1 1 1 0 1 1 1 0 1 1 1 0 1 1 0 1 1 1 1 0 0 0 1 0 0 1 1 1 1 0 1 0 1 1 1\n",
      " 0 0 0 1 1 0 1 1 0 1 0 0 1 1 0 0 1 0 1 1 1 1 1 0 1 1 0 0 0 0 1 0 1 0 1 1 1\n",
      " 1 1 1 1 1 1 1 0 1 1 0 1 0 0 1 0 1 1 0 1 1 1 1 1 1 1 1 1 1 1 1 1 1 1 1 1 1\n",
      " 1 0 0 0 0 1 1 0 1 0 1 0 1 1 1 1 1 0 0 1 0 0 1 1 1 1 0 1 1 0 1 1 1 0 1 0 1\n",
      " 1 1 0 1 1 1 1 1 1 1 1 1 1 1 0 1 0 1 1 1 1 1 1 1 1 1 1 1 0 0 1 1 0 1 1 1 1\n",
      " 1 1 1 1 0 0 1 1 0 0 0 1 1 1 1 0 1 1 0 0 1 0 1 0 1 0 1 1 0 0 1 0 1 1 1 1 0\n",
      " 1 1 1 0 1 0 1 1 1 1 1 1 1 0 1 1 1 1 1 0 1 0 0 1 1 1 0 1 1 1 1 0 1 0 1 1 1\n",
      " 0 0 0 0 1 1 1 1 1 1 1 0 1 1 1 1 1 1 1 1 1 1 1 1 1 1 0 1 1 0 0 1 0 1 1 1 1\n",
      " 1 1 0 1 0 1 1 1 0 1 1 1 1 1 1 1 1 0 1 1 1 1 1 1 1 1 1 0 0 1 1 0 1 1 1 0 1\n",
      " 1 1 1 1 1 0 0 1 0 1 1 1 0 1 1 1 1 1 1 1 0 0 0 0 1 0 1 0 0 1 0 0 1 1 1 1 1\n",
      " 1 1 1 1 1 0 0 1 1 1 1 0 0 1 1 1 1 1 1 0 1 1 1 1 1 1 0 1 1 1 1 0 0 0 1 1 1\n",
      " 1 1 1 1 1 1 1 0 0 0 0 1 1 0 1 0 1 1 0 1 1 1 0 1 0 0 1 0 0 1 1 0 1 1 1 1 1\n",
      " 1 1 1 1 0 1 0 1 1 0 1 1 1 1 1 1 1 0 1 1 1 0 0 1 1 1 1 1 1 1 1 0 0 1 1 1 0\n",
      " 0 0 1 1 1 1 1 1 1 1 0 0 1 1 1 0 1 1 1 1 1 1 1 1 1 1 1 1 1 1 1 1 0 1 0 1 0\n",
      " 1 1 0 1 1 0 1 1 1 1 0 1 1 0 1 1 1 0 1 0 0 0 1 1 1 1 1 0 1 1 1 0 0 1 1 1 1\n",
      " 1 1 1 1 1 1 1 1 1 0 1 0 0 1 0 1 1 0 1 1 1 1 1 1 1 1 1 1 1 0 1 0 0 1 1 1 1\n",
      " 0 1 0 1 0 1 1 1 1 0 0 1 1 1 1 0 0 0 1 0 1 1 1 1 1 1 1 1 1 1 1 1 1 1 1 1 0\n",
      " 1 0 1 0 1 0 1 1 1 0 1 1 0 1 1 1 1 1 1 0 1 0 0 1 1 1 1 0 1 1 1 1 1 0 0 0 1\n",
      " 1 1 1 0 1 0 0 0 1 0 1 1 0 0 1 1 1 1 0 1 1 1 1 1 1 1 1 1 1 1 0 1 1 1 1 1 1\n",
      " 0 1 1 1 1 0 1 1 1 1 1 0 1 1 0 0 1 1 1 1 1 1 1 1 0 0 1 0 1 0 1 0 1 1 1 1 1\n",
      " 1 0 1 0 0 1 1 1 1 1 0 1 1 0 0 0 1 1 0 1 1 0 1 1 1 0 1 1 1 1 1 1 0 1 0 1 0\n",
      " 1 1 1 1 1 1 1 1 1 0 1 1 1 1 0 1 1 1 1 1 1 0 1 1 1 1 1 1 0 0 1 0 1 1 1 1 0\n",
      " 1 1 1 1 1 1 1 1 1 1 1 0 1 1 0 1 1 0 1 0 1 0 1 1 1 1 1 1 1 1 0 0 1 1 1 0 1\n",
      " 1 1 1 1 1 0 1 0 1 0 1 1 1 0 1 0 0 0 1 1 1 1 1 0 1 0 1 1 0 1 1 0 0 1 1 1 1\n",
      " 1 0 1 1 1 1 1 0 0 1 0 1 1 0 0 0 0 1 1 1 1 1 0 1 0 1 1 1 1 0 1 1 1 1 1 0 1\n",
      " 1 1 1 1 1 0 1 0 1 1 1 1 0 1 0 0 1 1 1 1 1 1 1 1 0 0 1 1 0 1 1 1 0 1 1 1 1\n",
      " 1 0 1 1 1 1 1 1 1 0 0 1 1 1 1 1 1 1 0 1 0 1 1 1 1 1 0 1 1 1 1 1 1 1 1 1 1\n",
      " 0 1 1 1 1 1 1 0 1 1 1 1 1 1 1 1 1 1 1 0 0 1 0 1 1 1 1 0 1 1 1 1 1 0 1 0 1\n",
      " 0 0 1 1 0 0 1 1 1 1 0 1 0 1 1 0 1 1 0 1 0 1 1 1 1 1 1 1 0 1 0 1 1 1 1 1 0\n",
      " 1 0 0 1 1 1 1 1 1 1 0 1 1 1 1 1 1 0 0 0 1 1 1 1 1 1 1 1 1 1 1 1 0 1 0 0 1\n",
      " 1 1 1 0 1 0 1 1 1 1 1 0 0 1 1 0 0 1 1 0 1 0 1 1 1 0 1 1 0 1 1 0 1 1 1 1 1\n",
      " 0 1 1 1 1 1 0 1 0 0 1 1 0 1 0 1 1 1 1 0 0 1 0 0 1 1 1 1 1 1 1 1 1 1 1 1 1\n",
      " 1 1 1 1 0 1 1 1 1 0 1 1 1 0 1 1 1 0 1 1 1 1 1 0 1 0 0 1 0 0 1 1 1 0 1 1 1\n",
      " 1 1 1 0 1 1 1 1 0 0 1 1 1 1 1 1 0 1 1 0 0 0 1 1 1 1 1 1 1 1 1 0 0 1 1 0 1\n",
      " 0 1 1 1 0 1 0 1 1 1 0 1 0 0 0 1 1 1 1 0 1 0 0 1 0 1 1 1 1 1 1 1 1 0 0 0 1\n",
      " 1 1 1 1 0 0 1 1 0 1 1 1 1 1 1 1 1 1 1 1 0 1 0 0 1 1 1 0 0 0 1 0 1 1 1 1 1\n",
      " 1 0 1 1 0 1 1 1 1 1 1 1 1 1 1 1 1 1 0 1 1 1 1 1 1 0 1 1 1 1 1 1 1 1 0 1 0\n",
      " 1 0 1 1 1 1 1 1 1 1 1 0 1 1 0 0 0 0 1 1 0 1 1 1 1 0 1 1 1 1 1 1 1 1 1 1 1\n",
      " 1 0 1 1 1 1 1 1 1 1 1 1 1 0 1 1 0 1 0 1 0 0 1 1 1 1 1 0 1 1 0 1 1 1 1 1 1\n",
      " 1 1 1 0 0 1 1 1 0 0 1 1 0 0 0 0 0 1 1 1 0 1 1 0 1 0 1 0 1 1 1 1 1 0 0 1 1\n",
      " 0 1 1 1 1 0 1 1 0 1 1 1 1 1 1 1 1 1 1 0 1 1 1 1 0 1 1 1 0 0 1 0 1 0 1 1 0\n",
      " 1 1 1 1 1 1 1 1 1 1 0 1 1 1 1 1 1 0 1 1 0 1 1 1 1 0 1 1 0 1 1 0 1 1 1 1 1\n",
      " 1 1 1 1 1 0 1 0 0 1 1 1 1 1 0 0 0 1 1 0 1 1 1 1 1 1 0 1 1 1 0 1 1 1 1 1 1\n",
      " 1 1 0 1 1 1 1 1 1 0 1 1 1 0 1 1 1 1 1 1 1 0 1 1 0 1 0 1 0 0 1 0 1 0 1 1 1\n",
      " 1 0 1 1 1 1 1 1 1 1 1 1 0 1 1 0 1 1 0 1 1 1 1 0 1 1 0 1 0 0 1 1 1 0 1 1 0\n",
      " 1 1 1 0 1 1 1 0 1 1 1 1 0 0 1 0 1 1 0 1 1 1 1 1 1 1 0 1 1 0 1 1 0 1 0 1 0\n",
      " 1 0 1 0 0 1 1 0 0 0 0 0 1 0 1 1 1 1 1 1 1 1 1 1 1 0 1 1 0 1 0 1 1 1 1 0 1\n",
      " 0 1 1 1 1 1 0 1 1 0 1 1 1 0 1 0 0 1 1 1 1 0 0 0 1 1 1 1 1 0 1 1 1 1 0 1 0\n",
      " 0 0 1 1 1 1 1 1 0 0 1 1 0 1 0 1 0 1 1 1 0 0 0 1 0 1 1 1 1 0 1 1 1 0 1 1 1\n",
      " 1 1 0 1 1 1 1 1 1 0 1 1 1 1 0 1 1 1 1 1 0 0 1 1 1 1 0 0 1 1 1 1 1 1 0 0 1\n",
      " 1 1 1 1 1 1 1 0 1 1 0 1 1 0 1 1 0 1 0 0 0 0 1 1 0 0 0 0 0 0 1 0 0 1 1 1 1\n",
      " 1 1 1 0 1 1 1 1 1 1 1 1 1 1 1 1 1 1 1 1 1 1 1 1 1 1 1 1 0 1 1 1 1 0 1 1 1\n",
      " 1 1 1 0 1 1 1 1 1 1 1 1 1 0 1 0 1 1 1 1 0 1 1 1 1 1 0 1 1 1 1 0 1 1 1 1 1\n",
      " 1 1 1 0 1 1 1 1 0 1 1 1 1 0 1 1 0 1 1 1 1 1 0 1 0 1 1 0 1 1 1 1 1 1 1 1 1\n",
      " 0 1 0 0 1 1 1 1 1 1 0 1 0 1 1 1 1 1 0 0 1 1 0 1 1 1 0 1 0 1 1 1 1 1 1 0 1\n",
      " 1 0 1 1 1 0 1 1 1 1 1 1 1 1 0 1 1 0 1 1 1 0 0 1 1 0 1 1 1 1 1 1 1 0 1 1 1\n",
      " 1 1 0 0 1 1 1 1 1 0 1 0 0 1 1 1 1 1 1 0 1 1 1 1 1 1 1 0 1 1 0 1 1 1 1 1 0\n",
      " 1 0 0 1 1 0 1 1 0 0 0 1 1 1 1 1 1 1 1 1 0 1 1 1 1 1 1 1 0 1 1 0 1 1 1 1 1\n",
      " 1 0 1 1 1 0 1 1 1 1 1 1 1 1 0 0 1 1 0 1 1 1 0 0 1 1 0 1 1 1 1 1 0 1 0 1 0\n",
      " 0 1 1 1 1 1 1 0 1 0 1 0 1 1 1 0 0 0 1 1 0 1 1 1 1 1 0 1 0 1 1 1 1 1 0 1 1\n",
      " 1 1 1 1 1 1 1 1 0 1 1 1 0 1 1 0 0 1 1 0 1 0 1 0 0 1 1 0 0 1 0 1 0 1 0 1 1\n",
      " 1 0 0 1 0 1 1 1 1 1 1 1 1 1 1 0 0 0 1 0 1 1 1 1 1 1 1 1 0 1 1 1 1 0 1 1 1\n",
      " 0 1 1 1 1 1 0 1 1 1 1 1 1 1 1 1 1 1 1 1 1 1 1 0 1 1 1 1 1 1 0 1 0 0 0 0 1\n",
      " 1 1 1 0 1 1 1 0 1 1 0 0 1 0 1 1 0 1 1 1 1 1 0 1 1 0 0 1 1 0 1 0 1 1 1 0 0\n",
      " 1 0 0 1 1 1 1 1 1 1 1 1 1 0 1 1 1 0 1 0 1 1 1 1 1 1 1 0 1 1 0 1 1 0 1 0 1\n",
      " 1 0 0 1 1 1 1 1 1 1 1 0 1 0 1 1 1 1 0 1 0 1 1 0 1 1 0 1 1 0 1 0 0 0 1 1 1\n",
      " 0 1 1 1 0 1 1 1 0 0 1 1 0 0 1 0 1 1 0 1 0 0 0 0 1 1 1 1 1 1 1 0 1 0 0 1 0\n",
      " 1 0 0 1 1 1 1 1 1 0 1 1 1 1 1 1 1 1 1 1 0 1 1 1 0 1 0 1 0 1 1 1 1 1 1 1 1\n",
      " 1 0 0 1 1 0 1 0 0 0 1 0 1 1 1 0 1 1 1 1 1 1 1 1 1 0 1 1 1 1 1 0 1 1 1 0 1\n",
      " 1 1 1 0 1 1 0 1 1 1 0 1 0 1 1 1 1 1 1 1 1 1 0 1 0 1 1 0 1 0 1 0 1 1 1 1 1\n",
      " 0 1 1 0 0 0 1 1 1 1 0 1 0 1 1 0 0 1 0 1 1 1 1 1 1 0 1 0 0 1 1 1 1 1 1 1 1\n",
      " 0 1 0 1 1 1 0 0 0 0 1 1 1 0 1 1 1 1 1 0 1 1 1 1 1 1 0 0 1 1 0 1 0 1 0 0 0\n",
      " 1 1 0 1 1 0 1 1 0 0 0 0 1 0 1 1 1 1 1 0 1 1 0 0 1 1 0 1 1 0 1 1 0 1 0 1 0\n",
      " 1 1 1 1 0 1 1 1 1 0 0 1 0 1 1 0 0 1 0 0 1 1 1 1 0 0 1 1 1 0 0 1 1 1 1 1 1\n",
      " 0 0 1 0 1 1 1 1 1 1 0 1 1 1 1 0 0 1 1 1 0 1 1 1 1 0 1 1 1 1 1 0 1 0 1 0 1\n",
      " 1 1 1 0 1 1 1 1 1 0 1 0 1 1 1 1 1 0 1 0 0 0 0 1 1 1 1 1 1 1 1 1 0 1 0 1 1\n",
      " 0 0 1 1 1 1 1 0 1 1 1 1 1 1 1 1 0 1 1 1 1 1 1 0 1 0 0 1 0 0 1 0 1 1 1 0 1\n",
      " 0 1 1 0 0 1 0 1 1]\n",
      "[[   9.    1.   60. ...    0.  800.  846.]\n",
      " [  17.    1.   60. ...    0. 1000. 1658.]\n",
      " [  10.    0.   36. ...    0. 2000. 2985.]\n",
      " ...\n",
      " [   0.    0.   24. ...    0.  500.  963.]\n",
      " [   0.    1.   48. ...    0.  550.  550.]\n",
      " [   5.    0.   60. ... 1000. 1350. 1650.]]\n"
     ]
    }
   ],
   "source": [
    "labels = data.iloc[:,13].values\n",
    "X = data.iloc[:,:13].values\n",
    "print(labels)\n",
    "print(X)"
   ]
  },
  {
   "cell_type": "markdown",
   "id": "cb6cd45b",
   "metadata": {},
   "source": [
    "#### Séparer les données en 2 parties"
   ]
  },
  {
   "cell_type": "code",
   "execution_count": 109,
   "id": "fb042930",
   "metadata": {},
   "outputs": [],
   "source": [
    "from sklearn.model_selection import train_test_split\n",
    "X_train, X_test, Y_train, Y_test = train_test_split(X,labels,test_size=0.5, random_state=1)"
   ]
  },
  {
   "cell_type": "code",
   "execution_count": 11,
   "id": "90b041ae",
   "metadata": {
    "scrolled": true
   },
   "outputs": [
    {
     "name": "stdout",
     "output_type": "stream",
     "text": [
      "(2188, 13)\n",
      "(2187, 13)\n",
      "(2188,)\n",
      "(2187,)\n"
     ]
    }
   ],
   "source": [
    "print(X_test.shape)\n",
    "\n",
    "print(X_train.shape)\n",
    "\n",
    "print(Y_test.shape)\n",
    "\n",
    "print(Y_train.shape)"
   ]
  },
  {
   "cell_type": "markdown",
   "id": "45f874b0",
   "metadata": {},
   "source": [
    "### 2) Apprentissage et évaluation des modèles"
   ]
  },
  {
   "cell_type": "markdown",
   "id": "4f5a80f8",
   "metadata": {},
   "source": [
    "#### Arbre CART"
   ]
  },
  {
   "cell_type": "code",
   "execution_count": 12,
   "id": "01a81356",
   "metadata": {},
   "outputs": [
    {
     "name": "stdout",
     "output_type": "stream",
     "text": [
      "[[ 325  279]\n",
      " [ 318 1266]]\n",
      "Accuracy: 0.7271480804387569\n",
      "Recall:  0.7992424242424242\n",
      "Precision:  0.8194174757281554\n"
     ]
    },
    {
     "data": {
      "image/png": "[encoded data removed]",
      "text/plain": [
       "<Figure size 432x288 with 2 Axes>"
      ]
     },
     "metadata": {
      "needs_background": "light"
     },
     "output_type": "display_data"
    }
   ],
   "source": [
    "from sklearn.tree import DecisionTreeClassifier\n",
    "from sklearn.metrics import accuracy_score\n",
    "from sklearn.metrics import recall_score\n",
    "from sklearn.metrics import precision_score\n",
    "from sklearn.metrics import confusion_matrix\n",
    "from sklearn.metrics import ConfusionMatrixDisplay\n",
    "classifier = DecisionTreeClassifier(criterion='gini', random_state=1)\n",
    "classifier = classifier.fit(X_train,Y_train)\n",
    "Y_pred = classifier.predict(X_test)\n",
    "print(confusion_matrix(Y_test,Y_pred))\n",
    "ConfusionMatrixDisplay(confusion_matrix(Y_test,Y_pred)).plot()\n",
    "acc1Tree = accuracy_score(Y_test, Y_pred)\n",
    "print(\"Accuracy:\", acc1Tree)\n",
    "rec1Tree = recall_score(Y_test, Y_pred)\n",
    "print(\"Recall: \",rec1Tree)\n",
    "pre1Tree = precision_score(Y_test, Y_pred)\n",
    "print(\"Precision: \",pre1Tree)"
   ]
  },
  {
   "cell_type": "markdown",
   "id": "85eba1ab",
   "metadata": {},
   "source": [
    "#### K plus proches voisins"
   ]
  },
  {
   "cell_type": "code",
   "execution_count": 13,
   "id": "4d86152a",
   "metadata": {
    "scrolled": false
   },
   "outputs": [
    {
     "name": "stdout",
     "output_type": "stream",
     "text": [
      "[[ 189  415]\n",
      " [ 187 1397]]\n",
      "Accuracy: 0.7248628884826326\n",
      "Recall:  0.8819444444444444\n",
      "Precision:  0.7709713024282561\n"
     ]
    },
    {
     "data": {
      "image/png": "[encoded data removed]",
      "text/plain": [
       "<Figure size 432x288 with 2 Axes>"
      ]
     },
     "metadata": {
      "needs_background": "light"
     },
     "output_type": "display_data"
    }
   ],
   "source": [
    "from sklearn.neighbors import KNeighborsClassifier\n",
    "from sklearn.metrics import accuracy_score\n",
    "from sklearn.metrics import recall_score\n",
    "from sklearn.metrics import precision_score\n",
    "from sklearn.metrics import confusion_matrix\n",
    "from sklearn.metrics import ConfusionMatrixDisplay\n",
    "classifier = KNeighborsClassifier(n_neighbors = 5)\n",
    "classifier = classifier.fit(X_train,Y_train)\n",
    "Y_pred = classifier.predict(X_test)\n",
    "print(confusion_matrix(Y_test,Y_pred))\n",
    "ConfusionMatrixDisplay(confusion_matrix(Y_test,Y_pred)).plot()\n",
    "acc1KNN = accuracy_score(Y_test, Y_pred)\n",
    "print(\"Accuracy:\", acc1KNN)\n",
    "rec1KNN = recall_score(Y_test, Y_pred)\n",
    "print(\"Recall: \",rec1KNN)\n",
    "pre1KNN = precision_score(Y_test, Y_pred)\n",
    "print(\"Precision: \",pre1KNN)"
   ]
  },
  {
   "cell_type": "markdown",
   "id": "6e6f616e",
   "metadata": {},
   "source": [
    "#### MultilayerPerceptron"
   ]
  },
  {
   "cell_type": "code",
   "execution_count": 14,
   "id": "1fc7d190",
   "metadata": {},
   "outputs": [
    {
     "name": "stdout",
     "output_type": "stream",
     "text": [
      "[[ 167  437]\n",
      " [ 222 1362]]\n",
      "Accuracy: 0.6988117001828154\n",
      "Recall:  0.8598484848484849\n",
      "Precision:  0.7570872707059477\n"
     ]
    },
    {
     "data": {
      "image/png": "[encoded data removed]",
      "text/plain": [
       "<Figure size 432x288 with 2 Axes>"
      ]
     },
     "metadata": {
      "needs_background": "light"
     },
     "output_type": "display_data"
    }
   ],
   "source": [
    "from sklearn.neural_network import MLPClassifier\n",
    "from sklearn.metrics import accuracy_score\n",
    "from sklearn.metrics import recall_score\n",
    "from sklearn.metrics import precision_score\n",
    "from sklearn.metrics import confusion_matrix\n",
    "from sklearn.metrics import ConfusionMatrixDisplay\n",
    "classifier = MLPClassifier(hidden_layer_sizes=(40,20), random_state = 1)\n",
    "classifier = classifier.fit(X_train,Y_train)\n",
    "Y_pred = classifier.predict(X_test)\n",
    "print(confusion_matrix(Y_test,Y_pred))\n",
    "ConfusionMatrixDisplay(confusion_matrix(Y_test,Y_pred)).plot()\n",
    "acc1MLP = accuracy_score(Y_test, Y_pred)\n",
    "print(\"Accuracy:\", acc1MLP)\n",
    "rec1MLP = recall_score(Y_test, Y_pred)\n",
    "print(\"Recall: \",rec1MLP)\n",
    "pre1MLP = precision_score(Y_test, Y_pred)\n",
    "print(\"Precision: \",pre1MLP)"
   ]
  },
  {
   "cell_type": "markdown",
   "id": "5c3f3171",
   "metadata": {},
   "source": [
    "### 3) Normalisation des variables continues"
   ]
  },
  {
   "cell_type": "code",
   "execution_count": 15,
   "id": "1a69f3eb",
   "metadata": {},
   "outputs": [],
   "source": [
    "from sklearn.preprocessing import StandardScaler\n",
    "from sklearn.model_selection import train_test_split\n",
    "X = data.values\n",
    "labels = data.iloc[:,13].values\n",
    "X = data.iloc[:,:13].values\n",
    "autoscale = StandardScaler()\n",
    "X = autoscale.fit_transform(X)\n",
    "X_train, X_test, Y_train, Y_test = train_test_split(X,labels,test_size=0.5, random_state=1)"
   ]
  },
  {
   "cell_type": "markdown",
   "id": "db2f2f5d",
   "metadata": {},
   "source": [
    "#### Pour l'arbre"
   ]
  },
  {
   "cell_type": "code",
   "execution_count": 16,
   "id": "ad23c5df",
   "metadata": {},
   "outputs": [
    {
     "name": "stdout",
     "output_type": "stream",
     "text": [
      "[[ 326  278]\n",
      " [ 322 1262]]\n",
      "Accuracy: 0.7257769652650823\n",
      "Recall:  0.7967171717171717\n",
      "Precision:  0.8194805194805195\n",
      "[[0.72714808 0.72577697]\n",
      " [0.79924242 0.79671717]\n",
      " [0.81941748 0.81948052]]\n"
     ]
    },
    {
     "data": {
      "image/png": "[encoded data removed]",
      "text/plain": [
       "<Figure size 432x288 with 3 Axes>"
      ]
     },
     "metadata": {
      "needs_background": "light"
     },
     "output_type": "display_data"
    }
   ],
   "source": [
    "from sklearn.tree import DecisionTreeClassifier\n",
    "from sklearn.metrics import accuracy_score\n",
    "from sklearn.metrics import recall_score\n",
    "from sklearn.metrics import precision_score\n",
    "from sklearn.metrics import confusion_matrix\n",
    "from sklearn.metrics import ConfusionMatrixDisplay\n",
    "classifier = DecisionTreeClassifier(criterion='gini', random_state=1)\n",
    "classifier = classifier.fit(X_train,Y_train)\n",
    "Y_pred = classifier.predict(X_test)\n",
    "print(confusion_matrix(Y_test,Y_pred))\n",
    "#ConfusionMatrixDisplay(confusion_matrix(Y_test,Y_pred)).plot()\n",
    "acc2Tree = accuracy_score(Y_test, Y_pred)\n",
    "print(\"Accuracy:\", acc2Tree)\n",
    "rec2Tree = recall_score(Y_test, Y_pred)\n",
    "print(\"Recall: \",rec2Tree)\n",
    "pre2Tree = precision_score(Y_test, Y_pred)\n",
    "print(\"Precision: \",pre2Tree)\n",
    "\n",
    "ComparisonArray = np.array([[acc1Tree,acc2Tree],[rec1Tree,rec2Tree],[pre1Tree,pre2Tree]])\n",
    "print(ComparisonArray)\n",
    "fig, ax = plt.subplots(1,3)\n",
    "fig.suptitle('Avec / Sans normalisation Arbre')\n",
    "fig.tight_layout(pad=3.0)\n",
    "ax[0].bar([\"Sans\",\"Avec\"],ComparisonArray[0]*100)\n",
    "ax[0].title.set_text(\"Accuracy\")\n",
    "ax[1].bar([\"Sans\",\"Avec\"],ComparisonArray[1]*100)\n",
    "ax[1].title.set_text(\"Recall\")\n",
    "ax[2].bar([\"Sans\",\"Avec\"],ComparisonArray[2]*100)\n",
    "ax[2].title.set_text(\"Precision\")"
   ]
  },
  {
   "cell_type": "markdown",
   "id": "cba94c64",
   "metadata": {},
   "source": [
    "#### Pour le KNN"
   ]
  },
  {
   "cell_type": "code",
   "execution_count": 17,
   "id": "52052704",
   "metadata": {},
   "outputs": [
    {
     "name": "stdout",
     "output_type": "stream",
     "text": [
      "[[ 282  322]\n",
      " [ 216 1368]]\n",
      "Accuracy: 0.7541133455210237\n",
      "Recall:  0.8636363636363636\n",
      "Precision:  0.8094674556213017\n",
      "[[0.72486289 0.75411335]\n",
      " [0.88194444 0.86363636]\n",
      " [0.81941748 0.80946746]]\n"
     ]
    },
    {
     "data": {
      "image/png": "[encoded data removed]",
      "text/plain": [
       "<Figure size 432x288 with 2 Axes>"
      ]
     },
     "metadata": {
      "needs_background": "light"
     },
     "output_type": "display_data"
    },
    {
     "data": {
      "image/png": "[encoded data removed]",
      "text/plain": [
       "<Figure size 432x288 with 3 Axes>"
      ]
     },
     "metadata": {
      "needs_background": "light"
     },
     "output_type": "display_data"
    }
   ],
   "source": [
    "from sklearn.neighbors import KNeighborsClassifier\n",
    "from sklearn.metrics import accuracy_score\n",
    "from sklearn.metrics import recall_score\n",
    "from sklearn.metrics import precision_score\n",
    "from sklearn.metrics import confusion_matrix\n",
    "from sklearn.metrics import ConfusionMatrixDisplay\n",
    "classifier = KNeighborsClassifier(n_neighbors = 5)\n",
    "classifier = classifier.fit(X_train,Y_train)\n",
    "Y_pred = classifier.predict(X_test)\n",
    "print(confusion_matrix(Y_test,Y_pred))\n",
    "ConfusionMatrixDisplay(confusion_matrix(Y_test,Y_pred)).plot()\n",
    "acc2KNN = accuracy_score(Y_test, Y_pred)\n",
    "print(\"Accuracy:\", acc2KNN)\n",
    "rec2KNN = recall_score(Y_test, Y_pred)\n",
    "print(\"Recall: \",rec2KNN)\n",
    "pre2KNN = precision_score(Y_test, Y_pred)\n",
    "print(\"Precision: \",pre2KNN)\n",
    "\n",
    "ComparisonArray = np.array([[acc1KNN,acc2KNN],[rec1KNN,rec2KNN],[pre1Tree,pre2KNN]])\n",
    "print(ComparisonArray)\n",
    "fig, (ax1, ax2, ax3) = plt.subplots(1,3)\n",
    "fig.tight_layout(pad=3.0)\n",
    "fig.suptitle('Avec / Sans normalisation KNN')\n",
    "ax1.bar([\"Sans\",\"Avec\"],ComparisonArray[0]*100)\n",
    "ax1.title.set_text(\"Accuracy\")\n",
    "ax2.bar([\"Sans\",\"Avec\"],ComparisonArray[1]*100)\n",
    "ax2.title.set_text(\"Recall\")\n",
    "ax3.bar([\"Sans\",\"Avec\"],ComparisonArray[2]*100)\n",
    "ax3.title.set_text(\"Precision\")"
   ]
  },
  {
   "cell_type": "markdown",
   "id": "89e8d964",
   "metadata": {},
   "source": [
    "#### Pour le MLP"
   ]
  },
  {
   "cell_type": "code",
   "execution_count": 18,
   "id": "645d82b5",
   "metadata": {},
   "outputs": [
    {
     "name": "stdout",
     "output_type": "stream",
     "text": [
      "[[ 334  270]\n",
      " [ 225 1359]]\n",
      "Accuracy: 0.7737659963436929\n",
      "Recall:  0.8579545454545454\n",
      "Precision:  0.8342541436464088\n",
      "[[0.6988117  0.773766  ]\n",
      " [0.85984848 0.85795455]\n",
      " [0.81941748 0.83425414]]\n"
     ]
    },
    {
     "data": {
      "image/png": "[encoded data removed]",
      "text/plain": [
       "<Figure size 432x288 with 2 Axes>"
      ]
     },
     "metadata": {
      "needs_background": "light"
     },
     "output_type": "display_data"
    },
    {
     "data": {
      "image/png": "[encoded data removed]",
      "text/plain": [
       "<Figure size 432x288 with 3 Axes>"
      ]
     },
     "metadata": {
      "needs_background": "light"
     },
     "output_type": "display_data"
    }
   ],
   "source": [
    "from sklearn.neural_network import MLPClassifier\n",
    "from sklearn.metrics import accuracy_score\n",
    "from sklearn.metrics import recall_score\n",
    "from sklearn.metrics import precision_score\n",
    "from sklearn.metrics import confusion_matrix\n",
    "from sklearn.metrics import ConfusionMatrixDisplay\n",
    "classifier = MLPClassifier(hidden_layer_sizes=(40,20), random_state = 1)\n",
    "classifier = classifier.fit(X_train,Y_train)\n",
    "Y_pred = classifier.predict(X_test)\n",
    "print(confusion_matrix(Y_test,Y_pred))\n",
    "ConfusionMatrixDisplay(confusion_matrix(Y_test,Y_pred)).plot()\n",
    "acc2MLP = accuracy_score(Y_test, Y_pred)\n",
    "print(\"Accuracy:\", acc2MLP)\n",
    "rec2MLP = recall_score(Y_test, Y_pred)\n",
    "print(\"Recall: \",rec2MLP)\n",
    "pre2MLP = precision_score(Y_test, Y_pred)\n",
    "print(\"Precision: \",pre2MLP)\n",
    "\n",
    "ComparisonArray = np.array([[acc1MLP,acc2MLP],[rec1MLP,rec2MLP],[pre1Tree,pre2MLP]])\n",
    "print(ComparisonArray)\n",
    "fig, (ax1, ax2, ax3) = plt.subplots(1,3)\n",
    "fig.tight_layout(pad=3.0)\n",
    "fig.suptitle('Avec / Sans normalisation MLP')\n",
    "ax1.bar([\"Sans\",\"Avec\"],ComparisonArray[0]*100)\n",
    "ax1.title.set_text(\"Accuracy\")\n",
    "ax2.bar([\"Sans\",\"Avec\"],ComparisonArray[1]*100)\n",
    "ax2.title.set_text(\"Recall\")\n",
    "ax3.bar([\"Sans\",\"Avec\"],ComparisonArray[2]*100)\n",
    "ax3.title.set_text(\"Precision\")"
   ]
  },
  {
   "cell_type": "markdown",
   "id": "e736a1c3",
   "metadata": {},
   "source": [
    "#### Utilisation du MinMaxScaler"
   ]
  },
  {
   "cell_type": "code",
   "execution_count": 19,
   "id": "b52dd282",
   "metadata": {},
   "outputs": [],
   "source": [
    "\n",
    "from sklearn.preprocessing import MinMaxScaler\n",
    "from sklearn.model_selection import train_test_split\n",
    "X = data.values\n",
    "labels = data.iloc[:,13].values\n",
    "X = data.iloc[:,:13].values\n",
    "autoscale = MinMaxScaler()\n",
    "X = autoscale.fit_transform(X)\n",
    "X_train, X_test, Y_train, Y_test = train_test_split(X,labels,test_size=0.5, random_state=1)"
   ]
  },
  {
   "cell_type": "markdown",
   "id": "e6e925b6",
   "metadata": {},
   "source": [
    "#### Sur les différents sets de données"
   ]
  },
  {
   "cell_type": "code",
   "execution_count": 20,
   "id": "ae3f143d",
   "metadata": {},
   "outputs": [
    {
     "name": "stdout",
     "output_type": "stream",
     "text": [
      "[[ 325  279]\n",
      " [ 313 1271]]\n",
      "Accuracy: 0.7294332723948812\n",
      "Recall:  0.80239898989899\n",
      "Precision:  0.82\n",
      "[[0.72714808 0.72577697 0.72943327]\n",
      " [0.79924242 0.79671717 0.80239899]\n",
      " [0.81941748 0.81948052 0.82      ]]\n"
     ]
    },
    {
     "data": {
      "image/png": "[encoded data removed]",
      "text/plain": [
       "<Figure size 432x288 with 3 Axes>"
      ]
     },
     "metadata": {
      "needs_background": "light"
     },
     "output_type": "display_data"
    }
   ],
   "source": [
    "from sklearn.tree import DecisionTreeClassifier\n",
    "from sklearn.metrics import accuracy_score\n",
    "from sklearn.metrics import recall_score\n",
    "from sklearn.metrics import precision_score\n",
    "from sklearn.metrics import confusion_matrix\n",
    "from sklearn.metrics import ConfusionMatrixDisplay\n",
    "classifier = DecisionTreeClassifier(criterion='gini', random_state=1)\n",
    "classifier = classifier.fit(X_train,Y_train)\n",
    "Y_pred = classifier.predict(X_test)\n",
    "print(confusion_matrix(Y_test,Y_pred))\n",
    "#ConfusionMatrixDisplay(confusion_matrix(Y_test,Y_pred)).plot()\n",
    "acc3Tree = accuracy_score(Y_test, Y_pred)\n",
    "print(\"Accuracy:\", acc3Tree)\n",
    "rec3Tree = recall_score(Y_test, Y_pred)\n",
    "print(\"Recall: \",rec3Tree)\n",
    "pre3Tree = precision_score(Y_test, Y_pred)\n",
    "print(\"Precision: \",pre3Tree)\n",
    "\n",
    "ComparisonArray = np.array([[acc1Tree,acc2Tree,acc3Tree],[rec1Tree,rec2Tree,rec3Tree],[pre1Tree,pre2Tree,pre3Tree]])\n",
    "print(ComparisonArray)\n",
    "fig, ax = plt.subplots(1,3)\n",
    "fig.suptitle('Avec / Sans normalisation Arbre')\n",
    "fig.tight_layout(pad=3.0)\n",
    "ax[0].bar([\"Sans\",\"Std\",\"-+\"],ComparisonArray[0]*100)\n",
    "ax[0].title.set_text(\"Accuracy\")\n",
    "ax[1].bar([\"Sans\",\"Std\",\"-+\"],ComparisonArray[1]*100)\n",
    "ax[1].title.set_text(\"Recall\")\n",
    "ax[2].bar([\"Sans\",\"Std\",\"-+\"],ComparisonArray[2]*100)\n",
    "ax[2].title.set_text(\"Precision\")"
   ]
  },
  {
   "cell_type": "code",
   "execution_count": 21,
   "id": "632643ec",
   "metadata": {},
   "outputs": [
    {
     "name": "stdout",
     "output_type": "stream",
     "text": [
      "[[ 292  312]\n",
      " [ 239 1345]]\n",
      "Accuracy: 0.7481718464351006\n",
      "Recall:  0.8491161616161617\n",
      "Precision:  0.8117079058539529\n",
      "[[0.72486289 0.75411335 0.74817185]\n",
      " [0.88194444 0.86363636 0.84911616]\n",
      " [0.81941748 0.80946746 0.81170791]]\n"
     ]
    },
    {
     "data": {
      "image/png": "[encoded data removed]",
      "text/plain": [
       "<Figure size 432x288 with 2 Axes>"
      ]
     },
     "metadata": {
      "needs_background": "light"
     },
     "output_type": "display_data"
    },
    {
     "data": {
      "image/png": "[encoded data removed]",
      "text/plain": [
       "<Figure size 432x288 with 3 Axes>"
      ]
     },
     "metadata": {
      "needs_background": "light"
     },
     "output_type": "display_data"
    }
   ],
   "source": [
    "from sklearn.neighbors import KNeighborsClassifier\n",
    "from sklearn.metrics import accuracy_score\n",
    "from sklearn.metrics import recall_score\n",
    "from sklearn.metrics import precision_score\n",
    "from sklearn.metrics import confusion_matrix\n",
    "from sklearn.metrics import ConfusionMatrixDisplay\n",
    "classifier = KNeighborsClassifier(n_neighbors = 5)\n",
    "classifier = classifier.fit(X_train,Y_train)\n",
    "Y_pred = classifier.predict(X_test)\n",
    "print(confusion_matrix(Y_test,Y_pred))\n",
    "ConfusionMatrixDisplay(confusion_matrix(Y_test,Y_pred)).plot()\n",
    "acc3KNN = accuracy_score(Y_test, Y_pred)\n",
    "print(\"Accuracy:\", acc3KNN)\n",
    "rec3KNN = recall_score(Y_test, Y_pred)\n",
    "print(\"Recall: \",rec3KNN)\n",
    "pre3KNN = precision_score(Y_test, Y_pred)\n",
    "print(\"Precision: \",pre3KNN)\n",
    "\n",
    "ComparisonArray = np.array([[acc1KNN,acc2KNN,acc3KNN],[rec1KNN,rec2KNN,rec3KNN],[pre1Tree,pre2KNN,pre3KNN]])\n",
    "print(ComparisonArray)\n",
    "fig, (ax1, ax2, ax3) = plt.subplots(1,3)\n",
    "fig.tight_layout(pad=3.0)\n",
    "fig.suptitle('Avec / Sans normalisation KNN')\n",
    "ax1.bar([\"Sans\",\"Std\",\"-+\"],ComparisonArray[0]*100)\n",
    "ax1.title.set_text(\"Accuracy\")\n",
    "ax2.bar([\"Sans\",\"Std\",\"-+\"],ComparisonArray[1]*100)\n",
    "ax2.title.set_text(\"Recall\")\n",
    "ax3.bar([\"Sans\",\"Std\",\"-+\"],ComparisonArray[2]*100)\n",
    "ax3.title.set_text(\"Precision\")"
   ]
  },
  {
   "cell_type": "code",
   "execution_count": 22,
   "id": "ecf751ce",
   "metadata": {},
   "outputs": [
    {
     "name": "stdout",
     "output_type": "stream",
     "text": [
      "[[ 334  270]\n",
      " [ 186 1398]]\n",
      "Accuracy: 0.7915904936014625\n",
      "Recall:  0.8825757575757576\n",
      "Precision:  0.8381294964028777\n",
      "[[0.6988117  0.773766   0.79159049]\n",
      " [0.85984848 0.85795455 0.88257576]\n",
      " [0.81941748 0.83425414 0.8381295 ]]\n"
     ]
    },
    {
     "data": {
      "image/png": "[encoded data removed]",
      "text/plain": [
       "<Figure size 432x288 with 2 Axes>"
      ]
     },
     "metadata": {
      "needs_background": "light"
     },
     "output_type": "display_data"
    },
    {
     "data": {
      "image/png": "[encoded data removed]",
      "text/plain": [
       "<Figure size 432x288 with 3 Axes>"
      ]
     },
     "metadata": {
      "needs_background": "light"
     },
     "output_type": "display_data"
    }
   ],
   "source": [
    "from sklearn.neural_network import MLPClassifier\n",
    "from sklearn.metrics import accuracy_score\n",
    "from sklearn.metrics import recall_score\n",
    "from sklearn.metrics import precision_score\n",
    "from sklearn.metrics import confusion_matrix\n",
    "from sklearn.metrics import ConfusionMatrixDisplay\n",
    "classifier = MLPClassifier(hidden_layer_sizes=(40,20), random_state = 1)\n",
    "classifier = classifier.fit(X_train,Y_train)\n",
    "Y_pred = classifier.predict(X_test)\n",
    "print(confusion_matrix(Y_test,Y_pred))\n",
    "ConfusionMatrixDisplay(confusion_matrix(Y_test,Y_pred)).plot()\n",
    "acc3MLP = accuracy_score(Y_test, Y_pred)\n",
    "print(\"Accuracy:\", acc3MLP)\n",
    "rec3MLP = recall_score(Y_test, Y_pred)\n",
    "print(\"Recall: \",rec3MLP)\n",
    "pre3MLP = precision_score(Y_test, Y_pred)\n",
    "print(\"Precision: \",pre3MLP)\n",
    "\n",
    "ComparisonArray = np.array([[acc1MLP,acc2MLP,acc3MLP],[rec1MLP,rec2MLP,rec3MLP],[pre1Tree,pre2MLP,pre3MLP]])\n",
    "print(ComparisonArray)\n",
    "fig, (ax1, ax2, ax3) = plt.subplots(1,3)\n",
    "fig.tight_layout(pad=3.0)\n",
    "fig.suptitle('Avec / Sans normalisation MLP')\n",
    "ax1.bar([\"Sans\",\"Std\",\"-+\"],ComparisonArray[0]*100)\n",
    "ax1.title.set_text(\"Accuracy\")\n",
    "ax2.bar([\"Sans\",\"Std\",\"-+\"],ComparisonArray[1]*100)\n",
    "ax2.title.set_text(\"Recall\")\n",
    "ax3.bar([\"Sans\",\"Std\",\"-+\"],ComparisonArray[2]*100)\n",
    "ax3.title.set_text(\"Precision\")"
   ]
  },
  {
   "cell_type": "markdown",
   "id": "b7541872",
   "metadata": {},
   "source": [
    "### 4. Création de nouvelles variables caractéristiques par combinaisons linéaires des variables initiales"
   ]
  },
  {
   "cell_type": "code",
   "execution_count": 23,
   "id": "a1926e6c",
   "metadata": {},
   "outputs": [
    {
     "ename": "NameError",
     "evalue": "name 'X_components' is not defined",
     "output_type": "error",
     "traceback": [
      "\u001b[1;31m---------------------------------------------------------------------------\u001b[0m",
      "\u001b[1;31mNameError\u001b[0m                                 Traceback (most recent call last)",
      "\u001b[1;32m~\\AppData\\Local\\Temp/ipykernel_42904/1642079445.py\u001b[0m in \u001b[0;36m<module>\u001b[1;34m\u001b[0m\n\u001b[0;32m     36\u001b[0m \u001b[0mXtrain_pca\u001b[0m\u001b[1;33m=\u001b[0m\u001b[0mnp\u001b[0m\u001b[1;33m.\u001b[0m\u001b[0mconcatenate\u001b[0m\u001b[1;33m(\u001b[0m\u001b[1;33m(\u001b[0m\u001b[0mX_train\u001b[0m\u001b[1;33m,\u001b[0m\u001b[0mpca\u001b[0m\u001b[1;33m.\u001b[0m\u001b[0mtransform\u001b[0m\u001b[1;33m(\u001b[0m\u001b[0mX_train\u001b[0m\u001b[1;33m)\u001b[0m\u001b[1;33m)\u001b[0m\u001b[1;33m,\u001b[0m\u001b[0maxis\u001b[0m\u001b[1;33m=\u001b[0m\u001b[1;36m1\u001b[0m\u001b[1;33m)\u001b[0m\u001b[1;33m\u001b[0m\u001b[1;33m\u001b[0m\u001b[0m\n\u001b[0;32m     37\u001b[0m \u001b[0mXtest_pca\u001b[0m\u001b[1;33m=\u001b[0m\u001b[0mnp\u001b[0m\u001b[1;33m.\u001b[0m\u001b[0mconcatenate\u001b[0m\u001b[1;33m(\u001b[0m\u001b[1;33m(\u001b[0m\u001b[0mX_test\u001b[0m\u001b[1;33m,\u001b[0m\u001b[0mpca\u001b[0m\u001b[1;33m.\u001b[0m\u001b[0mtransform\u001b[0m\u001b[1;33m(\u001b[0m\u001b[0mX_test\u001b[0m\u001b[1;33m)\u001b[0m\u001b[1;33m)\u001b[0m\u001b[1;33m,\u001b[0m\u001b[0maxis\u001b[0m\u001b[1;33m=\u001b[0m\u001b[1;36m1\u001b[0m\u001b[1;33m)\u001b[0m\u001b[1;33m\u001b[0m\u001b[1;33m\u001b[0m\u001b[0m\n\u001b[1;32m---> 38\u001b[1;33m \u001b[0mprint\u001b[0m\u001b[1;33m(\u001b[0m\u001b[1;33m[\u001b[0m\u001b[0mX_components\u001b[0m\u001b[1;33m]\u001b[0m\u001b[1;33m)\u001b[0m\u001b[1;33m\u001b[0m\u001b[1;33m\u001b[0m\u001b[0m\n\u001b[0m\u001b[0;32m     39\u001b[0m \u001b[0mprint\u001b[0m\u001b[1;33m(\u001b[0m\u001b[0mX\u001b[0m\u001b[1;33m.\u001b[0m\u001b[0mshape\u001b[0m\u001b[1;33m)\u001b[0m\u001b[1;33m\u001b[0m\u001b[1;33m\u001b[0m\u001b[0m\n\u001b[0;32m     40\u001b[0m \u001b[1;33m\u001b[0m\u001b[0m\n",
      "\u001b[1;31mNameError\u001b[0m: name 'X_components' is not defined"
     ]
    }
   ],
   "source": [
    "from sklearn.preprocessing import MinMaxScaler\n",
    "from sklearn.model_selection import train_test_split\n",
    "from sklearn.decomposition import PCA\n",
    "\n",
    "#pca=PCA(n_components=3)\n",
    "#pca.fit(X_train)\n",
    "#Xtrain_pca=np.concatenate((X_train,pca.transform(X_train)),axis=1)\n",
    "#Xtest_pca=np.concatenate((X_test,pca.transform(X_test)),axis=1)\n",
    "\n",
    "#classifieurs(X_train,X_test,Y_train,Y_test)\n",
    "\n",
    "\"\"\"X = data.values\n",
    "labels = data.iloc[:,13].values\n",
    "X = data.iloc[:,:13].values\n",
    "autoscale = MinMaxScaler()\n",
    "X = autoscale.fit_transform(X)\n",
    "_nbComponents = 13\n",
    "\n",
    "pca = PCA(n_components=_nbComponents)\n",
    "X_pca = pca.fit_transform(X)\n",
    "X_components = pca.components_[:3]\n",
    "print([X_components])\n",
    "print(X.shape)\n",
    "print(X[0])\n",
    "X = np.append(X,X_components,axis=0) \n",
    "print(X.shape)\n",
    "#X_train, X_test, Y_train, Y_test = train_test_split(X,labels,test_size=0.5, random_state=1)\n",
    "\"\"\"\n",
    "#pca=PCA(n_components = 3)\n",
    "#X_pca=pca.fit_transform(XNorm)\n",
    "\n",
    " #sum(pca.explained_variance_ratio_[:2])\n",
    "    \n",
    "pca = PCA(n_components = 3)\n",
    "X_pca = pca.fit_transform(X_train)\n",
    "Xtrain_pca=np.concatenate((X_train,pca.transform(X_train)),axis=1)\n",
    "Xtest_pca=np.concatenate((X_test,pca.transform(X_test)),axis=1)\n",
    "print([X_components])\n",
    "print(X.shape)\n",
    "\n",
    "#Reutiliser les classifieurs sur ces données.\n"
   ]
  },
  {
   "cell_type": "markdown",
   "id": "66408035",
   "metadata": {},
   "source": [
    "### 5) Sélection de variables"
   ]
  },
  {
   "cell_type": "markdown",
   "id": "92db9468",
   "metadata": {},
   "source": [
    "#### Histogramme de l'importance des variables"
   ]
  },
  {
   "cell_type": "code",
   "execution_count": 24,
   "id": "b9da623e",
   "metadata": {},
   "outputs": [
    {
     "name": "stdout",
     "output_type": "stream",
     "text": [
      "Index(['Income', 'Seniority', 'Price', 'Amount', 'Age', 'Assets', 'Expenses',\n",
      "       'Records', 'Time', 'Job', 'Debt', 'Home', 'Marital'],\n",
      "      dtype='object')\n"
     ]
    },
    {
     "data": {
      "image/png": "[encoded data removed]",
      "text/plain": [
       "<Figure size 432x288 with 1 Axes>"
      ]
     },
     "metadata": {
      "needs_background": "light"
     },
     "output_type": "display_data"
    }
   ],
   "source": [
    "from sklearn.ensemble import RandomForestClassifier \n",
    "clf = RandomForestClassifier(n_estimators=100) \n",
    "clf.fit(X_train, Y_train) \n",
    "importances=clf.feature_importances_ \n",
    "std = np.std([tree.feature_importances_ for tree in clf.estimators_],axis=0) \n",
    "nom_cols = data.columns\n",
    "\n",
    "sorted_idx = np.argsort(importances)[::-1] \n",
    "\n",
    "features = nom_cols\n",
    "print(features[sorted_idx]) \n",
    " \n",
    "padding = np.arange(X_train.size/len(X_train)) + 0.5  \n",
    "plt.barh(padding, importances[sorted_idx],xerr=std[sorted_idx], align='center')  \n",
    "plt.yticks(padding, features[sorted_idx])  \n",
    "plt.xlabel(\"Relative Importance\") \n",
    "plt.title(\"Variable Importance\")  \n",
    "plt.show()"
   ]
  },
  {
   "cell_type": "code",
   "execution_count": 25,
   "id": "263b0ebb",
   "metadata": {},
   "outputs": [
    {
     "data": {
      "image/png": "[encoded data removed]",
      "text/plain": [
       "<Figure size 432x288 with 1 Axes>"
      ]
     },
     "metadata": {
      "needs_background": "light"
     },
     "output_type": "display_data"
    }
   ],
   "source": [
    "KNN=KNeighborsClassifier(n_neighbors=5) \n",
    "scores=np.zeros(X_train.shape[1]+1) \n",
    "for f in np.arange(0, X_train.shape[1]+1): \n",
    "    X1_f = X_train[:,sorted_idx[:f+1]] \n",
    "    X2_f = X_test[:,sorted_idx[:f+1]] \n",
    "    KNN.fit(X1_f,Y_train) \n",
    "    YKNN=KNN.predict(X2_f) \n",
    "    scores[f]=np.round(accuracy_score(Y_test,YKNN),3)  \n",
    "plt.plot(scores) \n",
    "plt.xlabel(\"Nombre de Variables\") \n",
    "plt.ylabel(\"Accuracy\") \n",
    "plt.title(\"Evolution de l'accuracy en fonction des variables\") \n",
    " \n",
    " \n",
    "plt.show() "
   ]
  },
  {
   "cell_type": "markdown",
   "id": "7f412447",
   "metadata": {},
   "source": [
    "### 6) Paramétrage des classifieurs:"
   ]
  },
  {
   "cell_type": "markdown",
   "id": "b7569671",
   "metadata": {},
   "source": [
    "#### Pour l'arbre"
   ]
  },
  {
   "cell_type": "code",
   "execution_count": 26,
   "id": "bcdf35f4",
   "metadata": {},
   "outputs": [
    {
     "name": "stdout",
     "output_type": "stream",
     "text": [
      "Fitting 3 folds for each of 294 candidates, totalling 882 fits\n"
     ]
    },
    {
     "data": {
      "text/plain": [
       "GridSearchCV(cv=3, estimator=DecisionTreeClassifier(random_state=1),\n",
       "             param_grid={'max_leaf_nodes': [2, 3, 4, 5, 6, 7, 8, 9, 10, 11, 12,\n",
       "                                            13, 14, 15, 16, 17, 18, 19, 20, 21,\n",
       "                                            22, 23, 24, 25, 26, 27, 28, 29, 30,\n",
       "                                            31, ...],\n",
       "                         'min_samples_split': [2, 3, 4]},\n",
       "             verbose=1)"
      ]
     },
     "execution_count": 26,
     "metadata": {},
     "output_type": "execute_result"
    }
   ],
   "source": [
    "#Utilisation de gridSearchCV\n",
    "from sklearn.model_selection import GridSearchCV\n",
    "from sklearn.model_selection import train_test_split\n",
    "\n",
    "params = {'max_leaf_nodes': list(range(2, 100)), 'min_samples_split': [2, 3, 4]}\n",
    "\n",
    "#Arbre de décision:\n",
    "classifier = DecisionTreeClassifier(criterion='gini', random_state=1)\n",
    "clf = GridSearchCV(classifier,params, verbose=1, cv=3)\n",
    "clf.fit(X_train,Y_train)\n",
    "\n",
    "\n"
   ]
  },
  {
   "cell_type": "code",
   "execution_count": 27,
   "id": "67053eb4",
   "metadata": {},
   "outputs": [
    {
     "data": {
      "text/plain": [
       "DecisionTreeClassifier(max_leaf_nodes=14, random_state=1)"
      ]
     },
     "execution_count": 27,
     "metadata": {},
     "output_type": "execute_result"
    }
   ],
   "source": [
    "clf.best_estimator_   #Meilleure combinaison de paramètres"
   ]
  },
  {
   "cell_type": "code",
   "execution_count": 28,
   "id": "d5c4deba",
   "metadata": {},
   "outputs": [
    {
     "data": {
      "text/plain": [
       "0.7590306355738453"
      ]
     },
     "execution_count": 28,
     "metadata": {},
     "output_type": "execute_result"
    }
   ],
   "source": [
    "clf.best_score_ #Score Moyen"
   ]
  },
  {
   "cell_type": "code",
   "execution_count": 29,
   "id": "7af0dad4",
   "metadata": {},
   "outputs": [
    {
     "data": {
      "text/plain": [
       "{'max_leaf_nodes': 14, 'min_samples_split': 2}"
      ]
     },
     "execution_count": 29,
     "metadata": {},
     "output_type": "execute_result"
    }
   ],
   "source": [
    "clf.best_params_"
   ]
  },
  {
   "cell_type": "markdown",
   "id": "15b63b35",
   "metadata": {},
   "source": [
    "#### Pour MLP"
   ]
  },
  {
   "cell_type": "code",
   "execution_count": 30,
   "id": "87a6f11d",
   "metadata": {},
   "outputs": [
    {
     "data": {
      "text/plain": [
       "GridSearchCV(cv=3,\n",
       "             estimator=MLPClassifier(hidden_layer_sizes=(40, 20),\n",
       "                                     random_state=1),\n",
       "             n_jobs=-1,\n",
       "             param_grid={'activation': ['tanh', 'relu'],\n",
       "                         'alpha': [0.0001, 0.05],\n",
       "                         'hidden_layer_sizes': [(10, 30, 10), (20,)],\n",
       "                         'learning_rate': ['constant', 'adaptive'],\n",
       "                         'solver': ['sgd', 'adam']})"
      ]
     },
     "execution_count": 30,
     "metadata": {},
     "output_type": "execute_result"
    }
   ],
   "source": [
    "params = {\n",
    "    'hidden_layer_sizes': [(10,30,10),(20,)],\n",
    "    'activation': ['tanh', 'relu'],\n",
    "    'solver': ['sgd', 'adam'],\n",
    "    'alpha': [0.0001, 0.05],\n",
    "    'learning_rate': ['constant','adaptive'],\n",
    "}\n",
    "#MLP\n",
    "classifier = MLPClassifier(hidden_layer_sizes=(40,20), random_state = 1)\n",
    "clf = GridSearchCV(classifier, params, n_jobs=-1, cv=3)\n",
    "clf.fit(X_train,Y_train)"
   ]
  },
  {
   "cell_type": "code",
   "execution_count": 31,
   "id": "7c2325be",
   "metadata": {},
   "outputs": [
    {
     "data": {
      "text/plain": [
       "MLPClassifier(activation='tanh', hidden_layer_sizes=(10, 30, 10),\n",
       "              random_state=1)"
      ]
     },
     "execution_count": 31,
     "metadata": {},
     "output_type": "execute_result"
    }
   ],
   "source": [
    "clf.best_estimator_   #Meilleure combinaison de paramètres"
   ]
  },
  {
   "cell_type": "code",
   "execution_count": 32,
   "id": "79fc030e",
   "metadata": {},
   "outputs": [
    {
     "data": {
      "text/plain": [
       "0.7892089620484682"
      ]
     },
     "execution_count": 32,
     "metadata": {},
     "output_type": "execute_result"
    }
   ],
   "source": [
    "clf.best_score_ #Score Moyen"
   ]
  },
  {
   "cell_type": "code",
   "execution_count": 33,
   "id": "be884eb1",
   "metadata": {},
   "outputs": [
    {
     "data": {
      "text/plain": [
       "{'activation': 'tanh',\n",
       " 'alpha': 0.0001,\n",
       " 'hidden_layer_sizes': (10, 30, 10),\n",
       " 'learning_rate': 'constant',\n",
       " 'solver': 'adam'}"
      ]
     },
     "execution_count": 33,
     "metadata": {},
     "output_type": "execute_result"
    }
   ],
   "source": [
    "clf.best_params_"
   ]
  },
  {
   "cell_type": "markdown",
   "id": "1ba63092",
   "metadata": {},
   "source": [
    "#### Pour KNN"
   ]
  },
  {
   "cell_type": "code",
   "execution_count": 34,
   "id": "9d56f90a",
   "metadata": {},
   "outputs": [
    {
     "data": {
      "text/plain": [
       "GridSearchCV(cv=10, estimator=KNeighborsClassifier(),\n",
       "             param_grid={'n_neighbors': [1, 2, 3, 4, 5, 6, 7, 8, 9, 10, 11, 12,\n",
       "                                         13, 14, 15, 16, 17, 18, 19, 20, 21, 22,\n",
       "                                         23, 24, 25, 26, 27, 28, 29, 30]},\n",
       "             scoring='accuracy')"
      ]
     },
     "execution_count": 34,
     "metadata": {},
     "output_type": "execute_result"
    }
   ],
   "source": [
    "k_range = list(range(1, 31))\n",
    "param_grid = dict(n_neighbors=k_range)\n",
    "\n",
    "#KNN\n",
    "classifier = KNeighborsClassifier(n_neighbors = 5)\n",
    "clf = GridSearchCV(classifier, param_grid, cv=10, scoring='accuracy')\n",
    "clf.fit(X_train,Y_train)"
   ]
  },
  {
   "cell_type": "code",
   "execution_count": 35,
   "id": "9c51f665",
   "metadata": {},
   "outputs": [
    {
     "data": {
      "text/plain": [
       "KNeighborsClassifier(n_neighbors=14)"
      ]
     },
     "execution_count": 35,
     "metadata": {},
     "output_type": "execute_result"
    }
   ],
   "source": [
    "clf.best_estimator_   #Meilleure combinaison de paramètres"
   ]
  },
  {
   "cell_type": "code",
   "execution_count": 36,
   "id": "d2dad620",
   "metadata": {},
   "outputs": [
    {
     "data": {
      "text/plain": [
       "0.7663420049432366"
      ]
     },
     "execution_count": 36,
     "metadata": {},
     "output_type": "execute_result"
    }
   ],
   "source": [
    "clf.best_score_ #Score Moyen"
   ]
  },
  {
   "cell_type": "code",
   "execution_count": 37,
   "id": "91f96042",
   "metadata": {},
   "outputs": [
    {
     "data": {
      "text/plain": [
       "{'n_neighbors': 14}"
      ]
     },
     "execution_count": 37,
     "metadata": {},
     "output_type": "execute_result"
    }
   ],
   "source": [
    "clf.best_params_"
   ]
  },
  {
   "cell_type": "markdown",
   "id": "51e301bb",
   "metadata": {},
   "source": [
    "### 7) Création d'un pipeline"
   ]
  },
  {
   "cell_type": "markdown",
   "id": "2878606e",
   "metadata": {},
   "source": [
    "#### Pour l'arbre"
   ]
  },
  {
   "cell_type": "code",
   "execution_count": 38,
   "id": "8f57bf50",
   "metadata": {},
   "outputs": [
    {
     "data": {
      "text/plain": [
       "Pipeline(steps=[('norm', StandardScaler()), ('pca', PCA(n_components=3)),\n",
       "                ('classifier', DecisionTreeClassifier(random_state=1))])"
      ]
     },
     "execution_count": 38,
     "metadata": {},
     "output_type": "execute_result"
    }
   ],
   "source": [
    "from sklearn.pipeline import Pipeline\n",
    "\n",
    "\n",
    "\n",
    "TreePipeline= Pipeline(steps=[('norm', StandardScaler()),\n",
    "                      ('pca', PCA(n_components = 3)),    \n",
    "                      ('classifier', DecisionTreeClassifier(criterion='gini', random_state=1))])\n",
    "\n",
    "TreePipeline.fit(X_train,Y_train)"
   ]
  },
  {
   "cell_type": "code",
   "execution_count": 39,
   "id": "771e3e4f",
   "metadata": {},
   "outputs": [],
   "source": [
    "import pickle\n",
    "with open('model_pickle_TreePipeline','wb') as f:\n",
    "    pickle.dump(TreePipeline,f)"
   ]
  },
  {
   "cell_type": "markdown",
   "id": "bd3c6383",
   "metadata": {},
   "source": [
    "#### Pour MLP"
   ]
  },
  {
   "cell_type": "code",
   "execution_count": 40,
   "id": "ccc78192",
   "metadata": {},
   "outputs": [
    {
     "data": {
      "text/plain": [
       "Pipeline(steps=[('norm', StandardScaler()), ('pca', PCA(n_components=3)),\n",
       "                ('classifier',\n",
       "                 MLPClassifier(hidden_layer_sizes=(40, 20), random_state=1))])"
      ]
     },
     "execution_count": 40,
     "metadata": {},
     "output_type": "execute_result"
    }
   ],
   "source": [
    "MLPPipeline= Pipeline(steps=[('norm', StandardScaler()),\n",
    "                      ('pca', PCA(n_components = 3)),    \n",
    "                      ('classifier', MLPClassifier(hidden_layer_sizes=(40,20), random_state = 1))])\n",
    "\n",
    "MLPPipeline.fit(X_train,Y_train)"
   ]
  },
  {
   "cell_type": "code",
   "execution_count": 41,
   "id": "9cfcea9d",
   "metadata": {},
   "outputs": [],
   "source": [
    "import pickle\n",
    "with open('model_pickle_MLPPipeline','wb') as f:\n",
    "    pickle.dump(MLPPipeline,f)"
   ]
  },
  {
   "cell_type": "markdown",
   "id": "8aec1f38",
   "metadata": {},
   "source": [
    "#### Pour KNN"
   ]
  },
  {
   "cell_type": "code",
   "execution_count": 42,
   "id": "d0b4ddb0",
   "metadata": {},
   "outputs": [
    {
     "data": {
      "text/plain": [
       "Pipeline(steps=[('norm', StandardScaler()), ('pca', PCA(n_components=3)),\n",
       "                ('classifier', KNeighborsClassifier())])"
      ]
     },
     "execution_count": 42,
     "metadata": {},
     "output_type": "execute_result"
    }
   ],
   "source": [
    "KNNPipeline= Pipeline(steps=[('norm', StandardScaler()),\n",
    "                      ('pca', PCA(n_components = 3)),    \n",
    "                      ('classifier', KNeighborsClassifier(n_neighbors = 5))])\n",
    "\n",
    "KNNPipeline.fit(X_train,Y_train)"
   ]
  },
  {
   "cell_type": "code",
   "execution_count": 43,
   "id": "b780332c",
   "metadata": {},
   "outputs": [],
   "source": [
    "import pickle\n",
    "with open('model_pickle_KNNPipeline','wb') as f:\n",
    "    pickle.dump(KNNPipeline,f)"
   ]
  },
  {
   "cell_type": "markdown",
   "id": "7e50ce4c",
   "metadata": {},
   "source": [
    "### 8) Comparaison de plusieurs algorithmes d'apprentissage"
   ]
  },
  {
   "cell_type": "code",
   "execution_count": 169,
   "id": "daa42316",
   "metadata": {},
   "outputs": [
    {
     "name": "stdout",
     "output_type": "stream",
     "text": [
      "Accuracy for RF is: nan +/- nan\n",
      "Area for RF under ROC Curve is: nan +/- nan\n",
      "Recall for RF is: nan +/- nan\n",
      "Precision for RF is: nan +/- nan\n",
      "Execution time for RF is: 0.014011621475219727\n",
      "Accuracy for KNN5 is: nan +/- nan\n",
      "Area for KNN5 under ROC Curve is: nan +/- nan\n",
      "Recall for KNN5 is: nan +/- nan\n",
      "Precision for KNN5 is: nan +/- nan\n",
      "Execution time for KNN5 is: 0.010008096694946289\n",
      "Accuracy for KNN10 is: nan +/- nan\n",
      "Area for KNN10 under ROC Curve is: nan +/- nan\n",
      "Recall for KNN10 is: nan +/- nan\n",
      "Precision for KNN10 is: nan +/- nan\n",
      "Execution time for KNN10 is: 0.010009288787841797\n",
      "Accuracy for gnb is: nan +/- nan\n",
      "Area for gnb under ROC Curve is: nan +/- nan\n",
      "Recall for gnb is: nan +/- nan\n",
      "Precision for gnb is: nan +/- nan\n",
      "Execution time for gnb is: 0.014014005661010742\n",
      "Accuracy for CART is: nan +/- nan\n",
      "Area for CART under ROC Curve is: nan +/- nan\n",
      "Recall for CART is: nan +/- nan\n",
      "Precision for CART is: nan +/- nan\n",
      "Execution time for CART is: 0.014010906219482422\n",
      "Accuracy for id3 is: nan +/- nan\n",
      "Area for id3 under ROC Curve is: nan +/- nan\n",
      "Recall for id3 is: nan +/- nan\n",
      "Precision for id3 is: nan +/- nan\n",
      "Execution time for id3 is: 0.009007453918457031\n",
      "Accuracy for MLP40,20 is: nan +/- nan\n",
      "Area for MLP40,20 under ROC Curve is: nan +/- nan\n",
      "Recall for MLP40,20 is: nan +/- nan\n",
      "Precision for MLP40,20 is: nan +/- nan\n",
      "Execution time for MLP40,20 is: 0.011008977890014648\n",
      "Accuracy for MLP20,10 is: nan +/- nan\n",
      "Area for MLP20,10 under ROC Curve is: nan +/- nan\n",
      "Recall for MLP20,10 is: nan +/- nan\n",
      "Precision for MLP20,10 is: nan +/- nan\n",
      "Execution time for MLP20,10 is: 0.011009693145751953\n",
      "Accuracy for Random Forest 20 is: nan +/- nan\n",
      "Area for Random Forest 20 under ROC Curve is: nan +/- nan\n",
      "Recall for Random Forest 20 is: nan +/- nan\n",
      "Precision for Random Forest 20 is: nan +/- nan\n",
      "Execution time for Random Forest 20 is: 0.010009050369262695\n",
      "Accuracy for Random Forest 50 is: nan +/- nan\n",
      "Area for Random Forest 50 under ROC Curve is: nan +/- nan\n",
      "Recall for Random Forest 50 is: nan +/- nan\n",
      "Precision for Random Forest 50 is: nan +/- nan\n",
      "Execution time for Random Forest 50 is: 0.010009050369262695\n",
      "Accuracy for AdaBoost20 is: nan +/- nan\n",
      "Area for AdaBoost20 under ROC Curve is: nan +/- nan\n",
      "Recall for AdaBoost20 is: nan +/- nan\n",
      "Precision for AdaBoost20 is: nan +/- nan\n",
      "Execution time for AdaBoost20 is: 0.023021221160888672\n",
      "Accuracy for AdaBoost50 is: nan +/- nan\n",
      "Area for AdaBoost50 under ROC Curve is: nan +/- nan\n",
      "Recall for AdaBoost50 is: nan +/- nan\n",
      "Precision for AdaBoost50 is: nan +/- nan\n",
      "Execution time for AdaBoost50 is: 0.02201986312866211\n",
      "Accuracy for Bagging20 is: nan +/- nan\n",
      "Area for Bagging20 under ROC Curve is: nan +/- nan\n",
      "Recall for Bagging20 is: nan +/- nan\n",
      "Precision for Bagging20 is: nan +/- nan\n",
      "Execution time for Bagging20 is: 0.014012575149536133\n",
      "Accuracy for Bagging50 is: nan +/- nan\n",
      "Area for Bagging50 under ROC Curve is: nan +/- nan\n",
      "Recall for Bagging50 is: nan +/- nan\n",
      "Precision for Bagging50 is: nan +/- nan\n",
      "Execution time for Bagging50 is: 0.01501321792602539\n",
      "Accuracy for Stump is: nan +/- nan\n",
      "Area for Stump under ROC Curve is: nan +/- nan\n",
      "Recall for Stump is: nan +/- nan\n",
      "Precision for Stump is: nan +/- nan\n",
      "Execution time for Stump is: 0.009008646011352539\n"
     ]
    }
   ],
   "source": [
    "from sklearn.model_selection import KFold\n",
    "from sklearn.model_selection import cross_val_score\n",
    "from sklearn.naive_bayes import GaussianNB\n",
    "from sklearn import tree\n",
    "from sklearn.ensemble import AdaBoostClassifier\n",
    "from sklearn.ensemble import BaggingClassifier\n",
    "from sklearn.svm import SVC\n",
    "import time\n",
    "\n",
    "#Plusieurs Decisions Stump\n",
    "\n",
    "clfs = { \n",
    "   'RF': RandomForestClassifier(n_estimators=50, random_state=1),\n",
    "   'KNN5': KNeighborsClassifier(n_neighbors=5), \n",
    "   'KNN10': KNeighborsClassifier(n_neighbors=10),\n",
    "   'gnb': GaussianNB(),\n",
    "   'CART': DecisionTreeClassifier(criterion='gini', random_state=1),\n",
    "   'id3': tree.DecisionTreeClassifier(criterion='entropy',max_depth=8,splitter='best'),\n",
    "   'MLP40,20': MLPClassifier(hidden_layer_sizes=(40,20), random_state = 1),\n",
    "   'MLP20,10': MLPClassifier(hidden_layer_sizes=(20,10), random_state = 1),\n",
    "   'Random Forest 20': RandomForestClassifier(max_depth=20, random_state=0),\n",
    "   'Random Forest 50': RandomForestClassifier(max_depth=50, random_state=0),\n",
    "   'AdaBoost20': AdaBoostClassifier(n_estimators=20, random_state=0),\n",
    "   'AdaBoost50': AdaBoostClassifier(n_estimators=50, random_state=0),\n",
    "   'Bagging20': BaggingClassifier(base_estimator=SVC(), n_estimators=20, random_state=0),\n",
    "   'Bagging50': BaggingClassifier(base_estimator=SVC(), n_estimators=50, random_state=0),\n",
    "   'Stump':DecisionTreeClassifier(max_depth=1, min_samples_leaf=1),\n",
    "}\n",
    "\n",
    "kf = KFold(n_splits=10, shuffle=True, random_state=0)\n",
    "\n",
    "#Pour 10\n",
    "for i in clfs:\n",
    "    clf = clfs[i]\n",
    "    start_time = time.time()\n",
    "    cv_acc = cross_val_score(clf, X_train, Y_train, cv=kf)\n",
    "    cv_roc = cross_val_score(clf, X_train, Y_train, cv=3, scoring='roc_auc')\n",
    "    cv_recall = cross_val_score(clf, X_train, Y_train, cv=3, scoring='recall')\n",
    "    cv_precision = cross_val_score(clf, X_train, Y_train, cv=3, scoring='precision')\n",
    "    end_time = time.time()\n",
    "    exec_time = end_time - start_time\n",
    "    print(\"Accuracy for {0} is: {1:.3f} +/- {2:.3f}\".format(i, np.mean(cv_acc), np.std(cv_acc)))\n",
    "    print(\"Area for {0} under ROC Curve is: {1:.3f} +/- {2:.3f}\".format(i, np.mean(cv_roc), np.std(cv_roc)))\n",
    "    print(\"Recall for {0} is: {1:.3f} +/- {2:.3f}\".format(i, np.mean(cv_recall), np.std(cv_recall)))\n",
    "    print(\"Precision for {0} is: {1:.3f} +/- {2:.3f}\".format(i, np.mean(cv_precision), np.std(cv_precision)))\n",
    "    print(\"Execution time for {0} is: {1}\".format(i,exec_time))\n",
    "    \n",
    "    "
   ]
  },
  {
   "cell_type": "code",
   "execution_count": 10,
   "id": "ac92d7f1",
   "metadata": {},
   "outputs": [],
   "source": [
    "from sklearn.model_selection import KFold\n",
    "from sklearn.model_selection import cross_val_score\n",
    "from sklearn.naive_bayes import GaussianNB\n",
    "from sklearn import tree\n",
    "from sklearn.ensemble import AdaBoostClassifier\n",
    "from sklearn.ensemble import BaggingClassifier\n",
    "from sklearn.svm import SVC\n",
    "import time\n",
    "\n",
    "#Plusieurs Decisions Stump\n",
    "def run_classifiers(clfs,X,Y):\n",
    "    stats = {}\n",
    "    kf = KFold(n_splits=10, shuffle=True, random_state=0)\n",
    "\n",
    "    #Pour 10\n",
    "    for i in clfs:\n",
    "        clf = clfs[i]\n",
    "        start_time = time.time()\n",
    "        cv_acc = cross_val_score(clf, X, Y, cv=kf)\n",
    "        cv_roc = cross_val_score(clf, X, Y, cv=3, scoring='roc_auc')\n",
    "        cv_recall = cross_val_score(clf, X, Y, cv=3, scoring='recall')\n",
    "        cv_precision = cross_val_score(clf, X, Y, cv=3, scoring='precision')\n",
    "        end_time = time.time()\n",
    "        exec_time = end_time - start_time\n",
    "        print(\"Accuracy for {0} is: {1:.3f} +/- {2:.3f}\".format(i, np.mean(cv_acc), np.std(cv_acc)))\n",
    "        print(\"Area for {0} under ROC Curve is: {1:.3f} +/- {2:.3f}\".format(i, np.mean(cv_roc), np.std(cv_roc)))\n",
    "        print(\"Recall for {0} is: {1:.3f} +/- {2:.3f}\".format(i, np.mean(cv_recall), np.std(cv_recall)))\n",
    "        print(\"Precision for {0} is: {1:.3f} +/- {2:.3f}\".format(i, np.mean(cv_precision), np.std(cv_precision)))\n",
    "        print(\"Execution time for {0} is: {1}\".format(i,exec_time))\n",
    "        stats[i]={\"Accuracy\":cv_acc , \"AUC\":cv_roc , \"Recall\":cv_recall, \"Precision\":cv_precision}\n",
    "    return stats\n",
    "    \n",
    "    "
   ]
  },
  {
   "cell_type": "code",
   "execution_count": 111,
   "id": "f7ef3254",
   "metadata": {},
   "outputs": [
    {
     "name": "stdout",
     "output_type": "stream",
     "text": [
      "Accuracy for RF is: 0.765 +/- 0.018\n",
      "Area for RF under ROC Curve is: 0.807 +/- 0.018\n",
      "Recall for RF is: 0.883 +/- 0.009\n",
      "Precision for RF is: 0.800 +/- 0.005\n",
      "Execution time for RF is: 1.8036644458770752\n",
      "Accuracy for KNN5 is: 0.710 +/- 0.039\n",
      "Area for KNN5 under ROC Curve is: 0.641 +/- 0.006\n",
      "Recall for KNN5 is: 0.862 +/- 0.026\n",
      "Precision for KNN5 is: 0.760 +/- 0.002\n",
      "Execution time for KNN5 is: 0.22666311264038086\n",
      "Accuracy for KNN10 is: 0.715 +/- 0.030\n",
      "Area for KNN10 under ROC Curve is: 0.670 +/- 0.012\n",
      "Recall for KNN10 is: 0.866 +/- 0.025\n",
      "Precision for KNN10 is: 0.766 +/- 0.000\n",
      "Execution time for KNN10 is: 0.2352132797241211\n",
      "Accuracy for gnb is: 0.766 +/- 0.022\n",
      "Area for gnb under ROC Curve is: 0.781 +/- 0.018\n",
      "Recall for gnb is: 0.888 +/- 0.024\n",
      "Precision for gnb is: 0.799 +/- 0.030\n",
      "Execution time for gnb is: 0.02602386474609375\n",
      "Accuracy for CART is: 0.706 +/- 0.031\n",
      "Area for CART under ROC Curve is: 0.650 +/- 0.005\n",
      "Recall for CART is: 0.801 +/- 0.010\n",
      "Precision for CART is: 0.804 +/- 0.004\n",
      "Execution time for CART is: 0.13011813163757324\n",
      "Accuracy for id3 is: 0.726 +/- 0.027\n",
      "Area for id3 under ROC Curve is: 0.708 +/- 0.020\n",
      "Recall for id3 is: 0.807 +/- 0.026\n",
      "Precision for id3 is: 0.814 +/- 0.009\n",
      "Execution time for id3 is: 0.12111043930053711\n",
      "Accuracy for MLP40,20 is: 0.712 +/- 0.041\n",
      "Area for MLP40,20 under ROC Curve is: 0.651 +/- 0.039\n",
      "Recall for MLP40,20 is: 0.826 +/- 0.041\n",
      "Precision for MLP40,20 is: 0.777 +/- 0.014\n",
      "Execution time for MLP40,20 is: 3.301502227783203\n",
      "Accuracy for MLP20,10 is: 0.730 +/- 0.032\n",
      "Area for MLP20,10 under ROC Curve is: 0.663 +/- 0.036\n",
      "Recall for MLP20,10 is: 0.642 +/- 0.325\n",
      "Precision for MLP20,10 is: 0.794 +/- 0.045\n",
      "Execution time for MLP20,10 is: 3.9175829887390137\n",
      "Accuracy for Random Forest 20 is: 0.770 +/- 0.023\n",
      "Area for Random Forest 20 under ROC Curve is: 0.820 +/- 0.020\n",
      "Recall for Random Forest 20 is: 0.905 +/- 0.017\n",
      "Precision for Random Forest 20 is: 0.804 +/- 0.010\n",
      "Execution time for Random Forest 20 is: 3.5774712562561035\n",
      "Accuracy for Random Forest 50 is: 0.771 +/- 0.024\n",
      "Area for Random Forest 50 under ROC Curve is: 0.821 +/- 0.020\n",
      "Recall for Random Forest 50 is: 0.909 +/- 0.016\n",
      "Precision for Random Forest 50 is: 0.805 +/- 0.011\n",
      "Execution time for Random Forest 50 is: 3.5540030002593994\n",
      "Accuracy for AdaBoost20 is: 0.780 +/- 0.027\n",
      "Area for AdaBoost20 under ROC Curve is: 0.823 +/- 0.019\n",
      "Recall for AdaBoost20 is: 0.898 +/- 0.013\n",
      "Precision for AdaBoost20 is: 0.818 +/- 0.005\n",
      "Execution time for AdaBoost20 is: 0.6202316284179688\n",
      "Accuracy for AdaBoost50 is: 0.777 +/- 0.031\n",
      "Area for AdaBoost50 under ROC Curve is: 0.822 +/- 0.013\n",
      "Recall for AdaBoost50 is: 0.892 +/- 0.016\n",
      "Precision for AdaBoost50 is: 0.822 +/- 0.012\n",
      "Execution time for AdaBoost50 is: 1.487114667892456\n",
      "Accuracy for Bagging20 is: 0.720 +/- 0.033\n",
      "Area for Bagging20 under ROC Curve is: 0.733 +/- 0.008\n",
      "Recall for Bagging20 is: 0.999 +/- 0.001\n",
      "Precision for Bagging20 is: 0.720 +/- 0.000\n",
      "Execution time for Bagging20 is: 22.070361852645874\n",
      "Accuracy for Bagging50 is: 0.720 +/- 0.033\n",
      "Area for Bagging50 under ROC Curve is: 0.732 +/- 0.009\n",
      "Recall for Bagging50 is: 1.000 +/- 0.000\n",
      "Precision for Bagging50 is: 0.720 +/- 0.000\n",
      "Execution time for Bagging50 is: 55.325642347335815\n",
      "Accuracy for Stump is: 0.721 +/- 0.028\n",
      "Area for Stump under ROC Curve is: 0.646 +/- 0.010\n",
      "Recall for Stump is: 1.000 +/- 0.000\n",
      "Precision for Stump is: 0.720 +/- 0.000\n",
      "Execution time for Stump is: 0.03102898597717285\n"
     ]
    }
   ],
   "source": [
    "clfs = { \n",
    "   'RF': RandomForestClassifier(n_estimators=50, random_state=1),\n",
    "   'KNN5': KNeighborsClassifier(n_neighbors=5), \n",
    "   'KNN10': KNeighborsClassifier(n_neighbors=10),\n",
    "   'gnb': GaussianNB(),\n",
    "   'CART': DecisionTreeClassifier(criterion='gini', random_state=1),\n",
    "   'id3': tree.DecisionTreeClassifier(criterion='entropy',max_depth=8,splitter='best'),\n",
    "   'MLP40,20': MLPClassifier(hidden_layer_sizes=(40,20), random_state = 1),\n",
    "   'MLP20,10': MLPClassifier(hidden_layer_sizes=(20,10), random_state = 1),\n",
    "   'Random Forest 20': RandomForestClassifier(max_depth=20, random_state=0),\n",
    "   'Random Forest 50': RandomForestClassifier(max_depth=50, random_state=0),\n",
    "   'AdaBoost20': AdaBoostClassifier(n_estimators=20, random_state=0),\n",
    "   'AdaBoost50': AdaBoostClassifier(n_estimators=50, random_state=0),\n",
    "   'Bagging20': BaggingClassifier(base_estimator=SVC(), n_estimators=20, random_state=0),\n",
    "   'Bagging50': BaggingClassifier(base_estimator=SVC(), n_estimators=50, random_state=0),\n",
    "   'Stump':DecisionTreeClassifier(max_depth=1, min_samples_leaf=1),\n",
    "}\n",
    "\n",
    "run_classifiers(clfs, X_train, Y_train)\n",
    "\n"
   ]
  },
  {
   "cell_type": "markdown",
   "id": "787e9be3",
   "metadata": {},
   "source": [
    "## II. Apprentissage supervisé : Données hétérogènes"
   ]
  },
  {
   "cell_type": "code",
   "execution_count": 2,
   "id": "f990326a",
   "metadata": {},
   "outputs": [],
   "source": [
    "import numpy as np\n",
    "np.set_printoptions(threshold=10000,suppress=True)\n",
    "import pandas as pd\n",
    "import warnings\n",
    "import matplotlib.pyplot as plt\n",
    "warnings.filterwarnings('ignore')"
   ]
  },
  {
   "cell_type": "code",
   "execution_count": 3,
   "id": "bd7b825f",
   "metadata": {},
   "outputs": [
    {
     "name": "stdout",
     "output_type": "stream",
     "text": [
      "  0      1     2  3  4  5  6     7  8  9   10 11 12   13   14 15\n",
      "0  b  30.83  0.00  u  g  w  v  1.25  t  t   1  f  g  202    0  +\n",
      "1  a  58.67  4.46  u  g  q  h  3.04  t  t   6  f  g   43  560  +\n",
      "2  a  24.50  0.50  u  g  q  h  1.50  t  f   0  f  g  280  824  +\n",
      "3  b  27.83  1.54  u  g  w  v  3.75  t  t   5  t  g  100    3  +\n",
      "X :  [['b' '30.83' 0.0 ... '202' 0 '+']\n",
      " ['a' '58.67' 4.46 ... '43' 560 '+']\n",
      " ['a' '24.50' 0.5 ... '280' 824 '+']\n",
      " ...\n",
      " ['a' '25.25' 13.5 ... '200' 1 '-']\n",
      " ['b' '17.92' 0.205 ... '280' 750 '-']\n",
      " ['b' '35.00' 3.375 ... '0' 0 '-']]\n"
     ]
    }
   ],
   "source": [
    "data = pd.read_csv('./credit.data', sep='\\t', header=None)\n",
    "print(data.head(4))\n",
    "X = data.values\n",
    "print(\"X : \",X)"
   ]
  },
  {
   "cell_type": "code",
   "execution_count": 4,
   "id": "fe6df116",
   "metadata": {},
   "outputs": [],
   "source": [
    "X_split = [[],[]]\n",
    "\n",
    "for x in X:\n",
    "    if x[15] == '+' :\n",
    "        X_split[0].append(x)\n",
    "    elif x[15] == '-' :\n",
    "        X_split[1].append(x)\n",
    "X_split[0]=np.array(X_split[0])\n",
    "X_split[1]=np.array(X_split[1])\n",
    "X_split=np.array(X_split)\n",
    "\n",
    "\n",
    "indexes = [1,2,7,10,13,14] #indices des cathegories numeriques\n",
    "X2_split = [[],[]]\n",
    "for i in range(0,2):\n",
    "    for ligne in X_split[i]:\n",
    "        X2_split[i].append(np.take(ligne,indexes))\n",
    "\n",
    "for i in range (0,2):\n",
    "    for indexLigne in range (0,len(X2_split[i])):\n",
    "        for index in range (0, len(X2_split[i][indexLigne])):\n",
    "            if X2_split[i][indexLigne][index] == '?' : \n",
    "                X2_split[i][indexLigne][index] = np.nan\n",
    "            X2_split[i][indexLigne][index] = float(X2_split[i][indexLigne][index])\n",
    "                \n",
    "\n",
    "X3_split = [[],[]]\n",
    "\n",
    "for i in range(0,2):\n",
    "    for ligne in X2_split[i]:\n",
    "        if not np.isnan(np.sum(np.array(ligne))):\n",
    "            tmp = ligne\n",
    "            lbl = 1-i\n",
    "            tmp = np.append(tmp,lbl)\n",
    "            X3_split[i].append(tmp)\n",
    "            "
   ]
  },
  {
   "cell_type": "code",
   "execution_count": 5,
   "id": "ecfdf9f1",
   "metadata": {},
   "outputs": [
    {
     "name": "stdout",
     "output_type": "stream",
     "text": [
      "nombre d'exemples positifs, en comptant les nan :  305\n",
      "nombre d'exemples positifs, en excluant les nan :  299\n",
      "nombre d'exemples negatifs, en comptant les nan :  383\n",
      "nombre d'exemples negatifs, en excluant les nan :  367\n",
      "nombre d'elements de notre echantillon :  688\n",
      "nombre d'elements de notre echantillon, sans les nan :  666\n"
     ]
    }
   ],
   "source": [
    "print(\"nombre d'exemples positifs, en comptant les nan : \",np.array(X2_split[0]).shape[0])\n",
    "print(\"nombre d'exemples positifs, en excluant les nan : \",np.array(X3_split[0]).shape[0])\n",
    "print(\"nombre d'exemples negatifs, en comptant les nan : \",np.array(X2_split[1]).shape[0])\n",
    "print(\"nombre d'exemples negatifs, en excluant les nan : \",np.array(X3_split[1]).shape[0])\n",
    "print(\"nombre d'elements de notre echantillon : \", X.shape[0])\n",
    "print(\"nombre d'elements de notre echantillon, sans les nan : \", np.array(X3_split[0]).shape[0] + np.array(X3_split[1]).shape[0])"
   ]
  },
  {
   "cell_type": "code",
   "execution_count": 6,
   "id": "f66f548d",
   "metadata": {},
   "outputs": [
    {
     "name": "stdout",
     "output_type": "stream",
     "text": [
      "[[32.33 7.5 1.585 0.0 420.0 0.0]\n",
      " [48.75 8.5 12.5 9.0 181.0 1655.0]\n",
      " [20.5 2.415 2.0 11.0 200.0 3000.0]\n",
      " [28.25 5.04 1.5 8.0 144.0 7.0]\n",
      " [32.33 3.5 0.5 0.0 232.0 0.0]\n",
      " [26.08 8.665 1.415 0.0 160.0 150.0]\n",
      " [20.83 8.5 0.165 0.0 0.0 351.0]\n",
      " [33.25 3.0 2.0 0.0 180.0 0.0]\n",
      " [74.83 19.0 0.04 2.0 0.0 351.0]\n",
      " [17.33 9.5 1.75 10.0 0.0 10.0]\n",
      " [63.33 0.54 0.585 3.0 180.0 0.0]\n",
      " [54.33 6.75 2.625 11.0 0.0 284.0]\n",
      " [19.17 0.0 0.0 0.0 500.0 1.0]\n",
      " [23.58 11.5 3.0 0.0 20.0 16.0]\n",
      " [41.92 0.42 0.21 6.0 220.0 948.0]\n",
      " [62.75 7.0 0.0 0.0 0.0 12.0]\n",
      " [23.58 0.585 0.125 0.0 120.0 87.0]\n",
      " [41.17 1.25 0.25 0.0 0.0 195.0]\n",
      " [22.58 1.5 0.54 0.0 120.0 67.0]\n",
      " [21.17 0.0 0.5 0.0 0.0 0.0]\n",
      " [28.08 15.0 0.0 0.0 0.0 13212.0]\n",
      " [22.75 6.165 0.165 0.0 220.0 1000.0]\n",
      " [21.08 10.085 1.25 0.0 260.0 0.0]\n",
      " [48.08 6.04 0.04 0.0 0.0 2690.0]\n",
      " [39.33 5.875 10.0 14.0 399.0 0.0]\n",
      " [34.75 2.5 0.5 0.0 348.0 0.0]\n",
      " [34.42 1.335 0.125 0.0 440.0 4500.0]\n",
      " [24.5 12.75 4.75 2.0 73.0 444.0]\n",
      " [31.25 1.125 0.0 1.0 96.0 19.0]\n",
      " [47.67 2.5 2.5 12.0 410.0 2510.0]\n",
      " [19.42 7.25 0.04 1.0 100.0 1.0]\n",
      " [48.58 0.205 0.25 11.0 380.0 2732.0]\n",
      " [23.25 12.625 0.125 2.0 0.0 5552.0]\n",
      " [35.0 3.375 8.29 0.0 0.0 0.0]\n",
      " [30.67 12.0 2.0 1.0 220.0 19.0]\n",
      " [34.67 1.08 1.165 0.0 28.0 0.0]\n",
      " [36.67 4.415 0.25 10.0 320.0 0.0]\n",
      " [15.75 0.375 1.0 0.0 120.0 18.0]\n",
      " [32.0 1.75 0.04 0.0 393.0 0.0]\n",
      " [32.17 1.46 1.085 16.0 120.0 2079.0]\n",
      " [35.25 16.5 4.0 0.0 80.0 0.0]\n",
      " [20.17 9.25 1.665 3.0 40.0 28.0]\n",
      " [23.92 0.665 0.165 0.0 100.0 0.0]\n",
      " [34.83 2.5 3.0 0.0 200.0 0.0]\n",
      " [23.42 0.79 1.5 2.0 80.0 400.0]\n",
      " [20.08 0.125 1.0 1.0 240.0 768.0]\n",
      " [25.67 2.21 4.0 0.0 188.0 0.0]\n",
      " [30.58 2.71 0.125 0.0 80.0 0.0]\n",
      " [19.33 9.5 1.0 0.0 60.0 400.0]\n",
      " [44.17 6.665 7.375 3.0 0.0 0.0]\n",
      " [65.17 14.0 0.0 11.0 0.0 1400.0]\n",
      " [54.42 0.5 3.96 0.0 180.0 314.0]\n",
      " [31.92 3.125 3.04 2.0 200.0 4.0]\n",
      " [35.75 0.915 0.75 4.0 0.0 1583.0]\n",
      " [20.08 0.25 0.125 0.0 200.0 0.0]\n",
      " [37.33 2.5 0.21 0.0 260.0 246.0]\n",
      " [20.67 0.415 0.125 0.0 0.0 44.0]\n",
      " [22.67 0.79 0.085 0.0 144.0 0.0]\n",
      " [35.17 3.75 0.0 6.0 0.0 200.0]\n",
      " [22.5 0.125 0.125 0.0 200.0 70.0]\n",
      " [34.08 2.5 1.0 0.0 460.0 16.0]\n",
      " [40.83 3.5 0.5 0.0 1160.0 0.0]\n",
      " [32.25 14.0 0.0 2.0 160.0 1.0]\n",
      " [22.5 8.46 2.46 0.0 164.0 0.0]\n",
      " [22.75 11.5 0.415 0.0 0.0 0.0]\n",
      " [26.75 1.125 1.25 0.0 0.0 5298.0]\n",
      " [22.25 0.46 0.125 0.0 280.0 55.0]\n",
      " [19.17 0.585 0.585 0.0 160.0 0.0]\n",
      " [25.17 3.0 1.25 1.0 0.0 22.0]\n",
      " [16.08 0.75 1.75 5.0 352.0 690.0]\n",
      " [27.17 1.25 0.0 1.0 92.0 300.0]\n",
      " [20.67 1.25 1.375 3.0 140.0 210.0]\n",
      " [31.33 19.5 7.0 16.0 0.0 5000.0]\n",
      " [40.58 5.0 5.0 7.0 0.0 3065.0]\n",
      " [37.75 7.0 11.5 7.0 300.0 5.0]\n",
      " [36.75 5.125 5.0 0.0 0.0 4000.0]\n",
      " [23.08 2.5 0.085 0.0 100.0 4208.0]\n",
      " [24.5 13.335 0.04 0.0 120.0 475.0]\n",
      " [30.17 0.5 1.75 11.0 32.0 540.0]\n",
      " [33.0 2.5 7.0 0.0 280.0 0.0]\n",
      " [36.42 0.75 0.585 0.0 240.0 3.0]\n",
      " [27.42 12.5 0.25 0.0 720.0 0.0]\n",
      " [30.75 1.585 0.585 0.0 0.0 0.0]\n",
      " [18.08 0.375 10.0 0.0 300.0 0.0]\n",
      " [39.58 13.915 8.625 6.0 70.0 0.0]\n",
      " [19.58 0.665 1.0 1.0 2000.0 2.0]\n",
      " [18.0 0.165 0.21 0.0 200.0 40.0]\n",
      " [30.25 5.5 5.5 0.0 100.0 0.0]\n",
      " [27.83 1.5 2.25 1.0 100.0 3.0]\n",
      " [46.67 0.46 0.415 11.0 440.0 6.0]\n",
      " [22.83 3.0 1.29 1.0 260.0 800.0]\n",
      " [20.42 7.0 1.625 3.0 200.0 1391.0]\n",
      " [25.5 0.375 0.25 3.0 260.0 15108.0]\n",
      " [25.08 1.71 1.665 1.0 395.0 20.0]\n",
      " [48.17 1.335 0.335 0.0 0.0 120.0]\n",
      " [42.17 5.04 12.75 0.0 92.0 0.0]\n",
      " [24.08 9.0 0.25 0.0 0.0 0.0]\n",
      " [25.67 0.29 1.5 0.0 160.0 0.0]\n",
      " [19.58 0.585 0.0 3.0 350.0 769.0]\n",
      " [28.92 15.0 5.335 11.0 0.0 2283.0]\n",
      " [26.75 2.0 0.75 0.0 80.0 0.0]\n",
      " [21.92 0.5 0.125 0.0 360.0 0.0]\n",
      " [22.67 0.335 0.75 0.0 160.0 0.0]\n",
      " [41.33 0.0 15.0 0.0 0.0 0.0]\n",
      " [22.67 1.585 3.085 6.0 80.0 0.0]\n",
      " [38.67 0.21 0.085 0.0 280.0 0.0]\n",
      " [18.83 0.0 0.665 0.0 160.0 1.0]\n",
      " [55.92 11.5 5.0 5.0 0.0 8851.0]\n",
      " [38.42 0.705 0.375 2.0 225.0 500.0]\n",
      " [27.67 2.0 1.0 4.0 140.0 7544.0]\n",
      " [38.17 10.125 2.5 6.0 520.0 196.0]\n",
      " [21.5 9.75 0.25 0.0 140.0 0.0]\n",
      " [56.58 18.5 15.0 17.0 0.0 0.0]\n",
      " [39.0 5.0 3.5 10.0 0.0 0.0]\n",
      " [22.67 0.75 2.0 2.0 200.0 394.0]\n",
      " [35.17 4.5 5.75 0.0 711.0 0.0]\n",
      " [48.17 3.5 3.5 0.0 230.0 0.0]\n",
      " [26.92 2.25 0.5 0.0 640.0 4000.0]\n",
      " [34.0 5.5 1.5 0.0 60.0 0.0]\n",
      " [41.33 1.0 2.25 0.0 0.0 300.0]\n",
      " [23.0 1.835 0.0 1.0 200.0 53.0]\n",
      " [21.5 11.5 0.5 0.0 100.0 68.0]\n",
      " [18.17 10.0 0.165 0.0 340.0 0.0]\n",
      " [19.17 8.585 0.75 7.0 96.0 0.0]\n",
      " [39.08 4.0 3.0 0.0 480.0 0.0]\n",
      " [42.83 4.625 4.58 0.0 0.0 0.0]\n",
      " [38.25 10.125 0.125 0.0 160.0 0.0]\n",
      " [52.5 7.0 3.0 0.0 0.0 0.0]\n",
      " [16.33 2.75 0.665 1.0 80.0 21.0]\n",
      " [25.67 12.5 1.21 67.0 140.0 258.0]\n",
      " [35.42 12.0 14.0 8.0 0.0 6590.0]\n",
      " [48.5 4.25 0.125 0.0 225.0 0.0]\n",
      " [25.0 11.25 2.5 17.0 200.0 1208.0]\n",
      " [22.08 11.0 0.665 0.0 100.0 0.0]\n",
      " [46.08 3.0 2.375 8.0 396.0 4159.0]\n",
      " [22.83 2.29 2.29 7.0 140.0 2384.0]\n",
      " [20.42 7.5 1.5 1.0 160.0 234.0]\n",
      " [29.25 14.79 5.04 5.0 168.0 0.0]\n",
      " [36.58 0.29 0.0 10.0 200.0 18.0]\n",
      " [30.83 0.0 1.25 1.0 202.0 0.0]\n",
      " [41.17 1.335 0.165 0.0 168.0 0.0]\n",
      " [21.08 5.0 0.0 0.0 0.0 0.0]\n",
      " [20.33 10.0 1.0 4.0 50.0 1465.0]\n",
      " [27.0 1.5 0.375 0.0 260.0 1065.0]\n",
      " [43.0 0.29 1.75 8.0 100.0 375.0]\n",
      " [26.92 13.5 5.0 2.0 0.0 5000.0]\n",
      " [43.17 5.0 2.25 0.0 141.0 0.0]\n",
      " [32.67 9.0 5.25 0.0 154.0 0.0]\n",
      " [34.17 9.17 4.5 12.0 0.0 221.0]\n",
      " [42.0 0.205 5.125 0.0 400.0 0.0]\n",
      " [21.17 0.25 0.25 0.0 280.0 204.0]\n",
      " [76.75 22.29 12.75 1.0 0.0 109.0]\n",
      " [21.5 6.0 2.5 3.0 80.0 918.0]\n",
      " [31.75 3.0 0.0 0.0 160.0 20.0]\n",
      " [43.17 2.25 0.75 0.0 560.0 0.0]\n",
      " [18.58 5.71 0.54 0.0 120.0 0.0]\n",
      " [51.33 10.0 0.0 11.0 0.0 1249.0]\n",
      " [23.58 0.83 0.415 1.0 200.0 11.0]\n",
      " [56.0 12.5 8.0 0.0 24.0 2028.0]\n",
      " [29.5 1.085 1.0 0.0 280.0 13.0]\n",
      " [18.17 10.25 1.085 0.0 320.0 13.0]\n",
      " [16.0 0.165 1.0 2.0 320.0 1.0]\n",
      " [27.83 1.0 3.0 0.0 176.0 537.0]\n",
      " [39.08 6.0 1.29 5.0 108.0 1097.0]\n",
      " [80.25 5.5 0.54 0.0 0.0 340.0]\n",
      " [35.17 25.125 1.625 1.0 515.0 500.0]\n",
      " [22.17 2.25 0.125 0.0 160.0 10.0]\n",
      " [36.67 3.25 9.0 0.0 102.0 639.0]\n",
      " [26.58 2.54 0.0 0.0 180.0 60.0]\n",
      " [19.17 5.415 0.29 0.0 80.0 484.0]\n",
      " [56.42 28.0 28.5 40.0 0.0 15.0]\n",
      " [32.83 2.5 2.75 6.0 160.0 2072.0]\n",
      " [20.5 10.0 2.5 0.0 40.0 0.0]\n",
      " [40.83 10.0 1.75 0.0 29.0 837.0]\n",
      " [43.25 3.0 6.0 11.0 80.0 0.0]\n",
      " [41.58 1.04 0.665 0.0 240.0 237.0]\n",
      " [15.92 2.875 0.085 0.0 120.0 0.0]\n",
      " [43.25 25.21 0.21 1.0 760.0 90.0]\n",
      " [19.0 1.75 2.335 0.0 112.0 6.0]\n",
      " [25.92 0.875 0.375 2.0 174.0 3.0]\n",
      " [28.92 0.375 0.29 0.0 220.0 140.0]\n",
      " [20.67 3.0 0.165 3.0 100.0 6.0]\n",
      " [27.83 1.5 2.0 11.0 434.0 35.0]\n",
      " [33.25 2.5 2.5 0.0 0.0 2.0]\n",
      " [27.67 13.75 5.75 0.0 487.0 500.0]\n",
      " [28.67 9.335 5.665 6.0 381.0 168.0]\n",
      " [24.08 0.5 1.25 1.0 0.0 678.0]\n",
      " [19.17 4.0 1.0 0.0 360.0 1000.0]\n",
      " [45.0 4.585 1.0 0.0 240.0 0.0]\n",
      " [22.17 0.585 0.0 0.0 100.0 0.0]\n",
      " [31.25 2.835 0.0 5.0 176.0 146.0]\n",
      " [28.25 5.125 4.75 2.0 420.0 7.0]\n",
      " [47.42 8.0 6.5 6.0 375.0 51100.0]\n",
      " [23.58 0.46 2.625 6.0 208.0 347.0]\n",
      " [21.67 11.5 0.0 11.0 0.0 0.0]\n",
      " [25.0 0.875 1.04 0.0 160.0 5860.0]\n",
      " [30.58 10.665 0.085 12.0 129.0 3.0]\n",
      " [34.17 2.75 2.5 0.0 232.0 200.0]\n",
      " [31.92 4.46 6.04 3.0 311.0 300.0]\n",
      " [35.25 3.165 3.75 0.0 680.0 0.0]\n",
      " [54.58 9.415 14.415 11.0 30.0 300.0]\n",
      " [33.17 3.165 3.165 3.0 380.0 0.0]\n",
      " [44.33 0.5 5.0 0.0 320.0 0.0]\n",
      " [28.0 2.0 4.165 2.0 181.0 0.0]\n",
      " [21.58 0.79 0.665 0.0 160.0 0.0]\n",
      " [23.25 1.0 0.835 0.0 300.0 0.0]\n",
      " [21.25 2.335 0.5 4.0 80.0 0.0]\n",
      " [18.67 5.0 0.375 2.0 0.0 38.0]\n",
      " [34.5 4.04 8.5 7.0 195.0 0.0]\n",
      " [20.0 7.0 0.5 0.0 0.0 0.0]\n",
      " [56.5 16.0 0.0 15.0 0.0 247.0]\n",
      " [30.42 1.375 0.04 3.0 0.0 33.0]\n",
      " [48.17 7.625 15.5 12.0 0.0 790.0]\n",
      " [19.5 0.29 0.29 0.0 280.0 364.0]\n",
      " [36.75 0.125 1.5 0.0 232.0 113.0]\n",
      " [16.92 0.5 0.165 6.0 240.0 35.0]\n",
      " [23.08 2.5 1.085 11.0 60.0 2184.0]\n",
      " [64.08 20.0 17.5 9.0 0.0 1000.0]\n",
      " [21.08 4.125 0.04 0.0 140.0 100.0]\n",
      " [29.58 1.75 1.25 0.0 280.0 0.0]\n",
      " [33.75 0.75 1.0 3.0 212.0 0.0]\n",
      " [33.67 0.375 0.375 0.0 300.0 44.0]\n",
      " [59.67 1.54 0.125 0.0 260.0 0.0]\n",
      " [33.17 1.0 0.75 7.0 340.0 4071.0]\n",
      " [23.5 2.75 4.5 0.0 160.0 25.0]\n",
      " [22.25 9.0 0.085 0.0 0.0 0.0]\n",
      " [26.5 2.71 0.085 0.0 80.0 0.0]\n",
      " [62.5 12.75 5.0 0.0 112.0 0.0]\n",
      " [18.25 0.165 0.25 0.0 280.0 0.0]\n",
      " [50.75 0.585 0.0 0.0 145.0 0.0]\n",
      " [51.92 6.5 3.085 0.0 73.0 0.0]\n",
      " [16.17 0.04 0.04 0.0 0.0 0.0]\n",
      " [24.42 2.0 0.165 2.0 320.0 1300.0]\n",
      " [32.92 2.5 1.75 2.0 720.0 0.0]\n",
      " [28.67 1.04 2.5 5.0 300.0 1430.0]\n",
      " [40.92 0.835 0.0 0.0 130.0 1.0]\n",
      " [51.58 15.0 8.5 9.0 0.0 0.0]\n",
      " [32.33 0.54 0.04 0.0 440.0 11177.0]\n",
      " [42.08 1.04 5.0 6.0 500.0 10000.0]\n",
      " [57.58 2.0 6.5 1.0 0.0 10.0]\n",
      " [18.92 9.25 1.0 4.0 80.0 500.0]\n",
      " [23.33 1.5 1.415 0.0 422.0 200.0]\n",
      " [33.67 1.25 1.165 0.0 120.0 0.0]\n",
      " [23.08 11.5 2.125 11.0 290.0 284.0]\n",
      " [33.08 4.625 1.625 2.0 0.0 0.0]\n",
      " [28.58 1.665 2.415 0.0 440.0 0.0]\n",
      " [33.58 2.75 4.25 6.0 204.0 0.0]\n",
      " [39.92 6.21 0.04 1.0 200.0 300.0]\n",
      " [18.58 10.0 0.415 0.0 80.0 42.0]\n",
      " [20.17 8.17 1.96 14.0 60.0 158.0]\n",
      " [17.67 4.46 0.25 0.0 80.0 0.0]\n",
      " [41.5 1.54 3.5 0.0 216.0 0.0]\n",
      " [44.0 2.0 1.75 2.0 0.0 15.0]\n",
      " [34.92 5.0 7.5 6.0 0.0 1000.0]\n",
      " [36.25 5.0 2.5 6.0 0.0 367.0]\n",
      " [24.33 6.625 5.5 0.0 100.0 0.0]\n",
      " [17.92 0.54 1.75 1.0 80.0 5.0]\n",
      " [21.83 1.54 0.085 0.0 356.0 0.0]\n",
      " [27.67 0.75 0.165 0.0 220.0 251.0]\n",
      " [48.08 3.75 1.0 0.0 100.0 2.0]\n",
      " [34.08 6.5 0.125 0.0 443.0 0.0]\n",
      " [27.25 1.585 1.835 12.0 583.0 713.0]\n",
      " [64.08 0.165 0.0 1.0 232.0 100.0]\n",
      " [57.42 8.5 7.0 3.0 0.0 0.0]\n",
      " [29.5 0.58 0.29 1.0 340.0 2803.0]\n",
      " [31.08 1.5 0.04 0.0 160.0 0.0]\n",
      " [41.0 2.04 0.125 23.0 455.0 1236.0]\n",
      " [28.58 3.625 0.25 0.0 100.0 0.0]\n",
      " [28.67 14.5 0.125 0.0 0.0 286.0]\n",
      " [31.0 2.085 0.085 0.0 300.0 0.0]\n",
      " [33.67 2.165 1.5 0.0 120.0 0.0]\n",
      " [22.92 1.25 0.25 0.0 120.0 809.0]\n",
      " [32.0 6.0 1.25 0.0 272.0 0.0]\n",
      " [33.17 1.04 6.5 0.0 164.0 31285.0]\n",
      " [53.92 9.625 8.665 5.0 0.0 0.0]\n",
      " [19.0 0.0 0.0 4.0 45.0 1.0]\n",
      " [23.25 5.875 3.17 10.0 120.0 245.0]\n",
      " [37.75 5.5 0.125 0.0 228.0 0.0]\n",
      " [37.17 4.0 5.0 0.0 280.0 0.0]\n",
      " [16.33 4.085 0.415 0.0 120.0 0.0]\n",
      " [18.42 10.415 0.125 0.0 120.0 375.0]\n",
      " [36.67 2.0 0.25 0.0 221.0 0.0]\n",
      " [27.25 0.29 0.125 1.0 272.0 108.0]\n",
      " [17.08 0.085 0.04 0.0 140.0 722.0]\n",
      " [17.92 10.21 0.0 0.0 0.0 50.0]\n",
      " [21.75 11.75 0.25 0.0 180.0 0.0]\n",
      " [28.25 0.875 0.96 3.0 396.0 0.0]\n",
      " [26.33 13.0 0.0 0.0 140.0 1110.0]\n",
      " [17.83 11.0 1.0 11.0 0.0 3000.0]\n",
      " [36.0 1.0 2.0 11.0 0.0 456.0]\n",
      " [19.67 10.0 0.835 0.0 140.0 0.0]\n",
      " [40.58 1.5 0.0 0.0 300.0 0.0]\n",
      " [26.67 1.75 1.0 5.0 160.0 5777.0]\n",
      " [21.0 4.79 2.25 1.0 80.0 300.0]\n",
      " [44.25 11.0 1.5 0.0 0.0 0.0]\n",
      " [18.33 1.21 0.0 0.0 100.0 0.0]\n",
      " [22.08 11.46 1.585 0.0 100.0 1212.0]\n",
      " [20.0 1.25 0.125 0.0 140.0 4.0]\n",
      " [28.75 1.5 1.5 0.0 0.0 225.0]\n",
      " [51.83 2.04 1.5 0.0 120.0 1.0]\n",
      " [28.17 0.375 0.585 4.0 80.0 0.0]\n",
      " [22.75 11.0 2.5 7.0 100.0 809.0]\n",
      " [20.0 11.045 2.0 0.0 136.0 0.0]\n",
      " [21.75 1.75 0.0 0.0 160.0 0.0]\n",
      " [58.67 4.46 3.04 6.0 43.0 560.0]\n",
      " [18.17 2.46 0.96 2.0 160.0 587.0]\n",
      " [40.33 7.54 8.0 14.0 0.0 2300.0]\n",
      " [22.5 0.415 0.335 0.0 144.0 0.0]\n",
      " [35.75 2.415 0.125 2.0 220.0 1.0]\n",
      " [27.67 1.5 2.0 0.0 368.0 0.0]\n",
      " [16.5 0.125 0.165 0.0 132.0 0.0]\n",
      " [29.75 0.665 0.25 0.0 300.0 0.0]\n",
      " [65.42 11.0 20.0 7.0 22.0 0.0]\n",
      " [22.92 3.165 0.165 0.0 160.0 1058.0]\n",
      " [24.92 1.25 0.0 0.0 80.0 0.0]\n",
      " [39.5 4.25 6.5 16.0 117.0 1210.0]\n",
      " [40.92 2.25 10.0 0.0 176.0 0.0]\n",
      " [41.17 4.04 7.0 8.0 320.0 0.0]\n",
      " [29.5 0.46 0.54 4.0 380.0 500.0]\n",
      " [18.83 3.54 0.0 0.0 180.0 1.0]\n",
      " [30.5 6.5 4.0 7.0 0.0 3065.0]\n",
      " [47.42 3.0 13.875 2.0 519.0 1704.0]\n",
      " [19.75 0.75 0.795 5.0 140.0 5.0]\n",
      " [18.83 9.5 1.625 6.0 40.0 600.0]\n",
      " [15.83 7.625 0.125 1.0 0.0 160.0]\n",
      " [16.25 0.835 0.085 0.0 200.0 0.0]\n",
      " [24.75 3.0 1.835 19.0 0.0 500.0]\n",
      " [18.92 9.0 0.75 2.0 88.0 591.0]\n",
      " [18.83 4.415 3.0 0.0 240.0 0.0]\n",
      " [24.42 12.335 1.585 0.0 120.0 0.0]\n",
      " [47.25 0.75 2.75 1.0 333.0 892.0]\n",
      " [33.5 1.75 4.5 4.0 253.0 857.0]\n",
      " [38.33 4.415 0.125 0.0 160.0 0.0]\n",
      " [34.92 2.5 0.0 0.0 239.0 200.0]\n",
      " [50.08 12.54 2.29 3.0 156.0 0.0]\n",
      " [26.25 1.54 0.125 0.0 100.0 0.0]\n",
      " [22.58 10.04 0.04 9.0 60.0 396.0]\n",
      " [19.17 9.5 1.5 0.0 120.0 2206.0]\n",
      " [23.5 1.5 0.875 0.0 160.0 0.0]\n",
      " [31.67 0.83 1.335 8.0 303.0 3290.0]\n",
      " [38.75 1.5 0.0 0.0 76.0 0.0]\n",
      " [48.75 26.335 0.0 0.0 0.0 0.0]\n",
      " [40.92 0.5 0.5 0.0 130.0 0.0]\n",
      " [44.25 0.5 10.75 0.0 400.0 0.0]\n",
      " [25.0 12.5 3.0 0.0 20.0 0.0]\n",
      " [29.83 2.04 0.04 0.0 128.0 1.0]\n",
      " [17.58 10.0 0.165 1.0 120.0 1.0]\n",
      " [40.58 3.29 3.5 0.0 400.0 0.0]\n",
      " [29.83 1.25 0.25 0.0 224.0 0.0]\n",
      " [39.5 1.625 1.5 0.0 0.0 316.0]\n",
      " [24.17 0.875 4.625 2.0 520.0 2000.0]\n",
      " [49.17 2.29 0.29 0.0 200.0 3.0]\n",
      " [34.17 5.25 0.085 0.0 290.0 6.0]\n",
      " [23.42 0.585 0.085 0.0 180.0 0.0]\n",
      " [23.75 12.0 2.085 0.0 80.0 0.0]\n",
      " [22.17 12.125 3.335 2.0 180.0 173.0]\n",
      " [17.5 22.0 0.0 0.0 450.0 100000.0]\n",
      " [69.17 9.0 4.0 1.0 70.0 6.0]\n",
      " [31.58 0.75 3.5 0.0 320.0 0.0]\n",
      " [28.17 0.125 0.085 0.0 216.0 2100.0]\n",
      " [26.67 4.25 4.29 1.0 120.0 0.0]\n",
      " [36.5 4.25 3.5 0.0 454.0 50.0]\n",
      " [33.58 0.335 0.085 0.0 180.0 0.0]\n",
      " [35.58 0.75 1.5 0.0 231.0 0.0]\n",
      " [30.17 1.085 0.04 0.0 170.0 179.0]\n",
      " [38.58 3.335 4.0 14.0 383.0 1344.0]\n",
      " [23.92 1.5 1.875 6.0 200.0 327.0]\n",
      " [24.33 2.5 4.5 0.0 200.0 456.0]\n",
      " [22.5 8.5 1.75 10.0 80.0 990.0]\n",
      " [24.5 0.5 1.5 0.0 280.0 824.0]\n",
      " [28.58 3.54 0.5 0.0 171.0 0.0]\n",
      " [21.42 0.75 0.75 0.0 132.0 2.0]\n",
      " [25.42 1.125 1.29 2.0 200.0 0.0]\n",
      " [20.25 9.96 0.0 0.0 0.0 0.0]\n",
      " [22.42 5.665 2.585 7.0 129.0 3257.0]\n",
      " [23.08 0.0 1.0 11.0 0.0 0.0]\n",
      " [25.17 2.875 0.875 0.0 360.0 0.0]\n",
      " [17.08 3.29 0.335 0.0 140.0 2.0]\n",
      " [25.58 0.335 3.5 0.0 340.0 0.0]\n",
      " [32.25 0.165 3.25 1.0 432.0 8000.0]\n",
      " [20.0 0.0 0.5 0.0 144.0 0.0]\n",
      " [23.33 11.625 0.835 0.0 160.0 300.0]\n",
      " [29.42 1.25 1.75 0.0 200.0 0.0]\n",
      " [20.75 5.085 0.29 0.0 140.0 184.0]\n",
      " [28.33 5.0 11.0 0.0 70.0 0.0]\n",
      " [27.67 2.04 0.25 0.0 180.0 50.0]\n",
      " [26.17 0.835 1.165 0.0 100.0 0.0]\n",
      " [50.25 0.835 0.5 0.0 240.0 117.0]\n",
      " [39.42 1.71 0.165 0.0 400.0 0.0]\n",
      " [15.17 7.0 1.0 0.0 600.0 0.0]\n",
      " [34.42 4.25 3.25 2.0 274.0 610.0]\n",
      " [32.67 5.5 5.5 12.0 408.0 1000.0]\n",
      " [39.58 5.0 0.0 2.0 17.0 1.0]\n",
      " [25.25 12.5 1.0 0.0 180.0 1062.0]\n",
      " [27.33 1.665 0.0 0.0 340.0 1.0]\n",
      " [45.0 8.5 14.0 1.0 88.0 2000.0]\n",
      " [48.33 12.0 16.0 0.0 110.0 0.0]\n",
      " [29.58 4.5 7.5 2.0 330.0 0.0]\n",
      " [22.08 0.83 2.165 0.0 128.0 0.0]\n",
      " [41.75 0.96 2.5 0.0 510.0 600.0]\n",
      " [20.17 5.625 1.71 0.0 120.0 0.0]\n",
      " [32.33 2.5 1.25 0.0 280.0 0.0]\n",
      " [20.67 1.835 2.085 5.0 220.0 2503.0]\n",
      " [51.83 3.0 1.5 0.0 180.0 4.0]\n",
      " [24.75 13.665 1.5 0.0 280.0 1.0]\n",
      " [30.08 1.04 0.5 10.0 132.0 28.0]\n",
      " [20.75 10.335 0.335 1.0 80.0 50.0]\n",
      " [24.08 0.875 0.085 4.0 254.0 1950.0]\n",
      " [23.25 1.5 2.375 3.0 0.0 582.0]\n",
      " [26.75 4.5 2.5 0.0 200.0 1210.0]\n",
      " [17.42 6.5 0.125 0.0 60.0 100.0]\n",
      " [21.25 1.5 1.5 0.0 150.0 8.0]\n",
      " [38.92 1.665 0.25 0.0 0.0 390.0]\n",
      " [42.75 3.0 1.0 0.0 0.0 200.0]\n",
      " [31.67 16.165 3.0 9.0 250.0 730.0]\n",
      " [22.67 0.75 1.585 1.0 400.0 9.0]\n",
      " [34.75 15.0 5.375 9.0 0.0 134.0]\n",
      " [25.33 0.58 0.29 7.0 96.0 5124.0]\n",
      " [40.0 6.5 3.5 1.0 0.0 500.0]\n",
      " [32.25 1.5 0.25 0.0 372.0 122.0]\n",
      " [34.25 1.75 0.25 0.0 163.0 0.0]\n",
      " [18.25 10.0 1.0 1.0 120.0 1.0]\n",
      " [31.83 2.5 7.5 0.0 523.0 0.0]\n",
      " [22.0 0.79 0.29 1.0 420.0 283.0]\n",
      " [19.67 0.21 0.29 11.0 80.0 99.0]\n",
      " [29.67 1.415 0.75 1.0 240.0 100.0]\n",
      " [23.25 4.0 0.25 0.0 160.0 0.0]\n",
      " [21.17 0.875 0.25 0.0 280.0 204.0]\n",
      " [20.67 0.835 2.0 0.0 240.0 0.0]\n",
      " [26.83 0.54 0.0 0.0 100.0 0.0]\n",
      " [25.25 1.0 0.5 0.0 200.0 0.0]\n",
      " [58.58 2.71 2.415 0.0 320.0 0.0]\n",
      " [20.75 9.54 0.04 0.0 200.0 1000.0]\n",
      " [26.0 1.0 1.75 0.0 280.0 0.0]\n",
      " [36.75 4.71 0.0 0.0 160.0 0.0]\n",
      " [33.58 0.25 4.0 0.0 420.0 0.0]\n",
      " [28.75 1.165 0.5 0.0 280.0 0.0]\n",
      " [28.0 3.0 0.75 0.0 300.0 67.0]\n",
      " [68.67 15.0 0.0 14.0 0.0 3376.0]\n",
      " [39.17 1.71 0.125 5.0 480.0 0.0]\n",
      " [22.92 11.585 0.04 0.0 80.0 1349.0]\n",
      " [42.0 9.79 7.96 8.0 0.0 0.0]\n",
      " [52.5 6.5 6.29 15.0 0.0 11202.0]\n",
      " [34.17 1.54 1.54 1.0 520.0 50000.0]\n",
      " [19.67 0.375 2.0 2.0 80.0 0.0]\n",
      " [52.17 0.0 0.0 0.0 0.0 0.0]\n",
      " [46.0 4.0 0.0 0.0 100.0 960.0]\n",
      " [47.67 0.29 15.0 20.0 0.0 15000.0]\n",
      " [19.5 0.165 0.04 0.0 380.0 0.0]\n",
      " [29.25 13.0 0.5 0.0 228.0 0.0]\n",
      " [25.0 12.0 2.25 2.0 120.0 5.0]\n",
      " [41.58 1.75 0.21 0.0 160.0 0.0]\n",
      " [42.25 1.75 0.0 0.0 150.0 1.0]\n",
      " [45.17 1.5 2.5 0.0 140.0 0.0]\n",
      " [60.58 16.5 11.0 0.0 21.0 10561.0]\n",
      " [29.58 4.75 2.0 1.0 460.0 68.0]\n",
      " [39.92 0.54 0.5 3.0 200.0 1000.0]\n",
      " [23.42 1.0 0.5 0.0 280.0 0.0]\n",
      " [28.58 3.75 0.25 1.0 40.0 154.0]\n",
      " [27.58 3.25 5.085 2.0 369.0 1.0]\n",
      " [30.33 0.5 0.085 0.0 252.0 0.0]\n",
      " [44.83 7.0 1.625 0.0 160.0 2.0]\n",
      " [35.17 2.5 4.5 7.0 150.0 1270.0]\n",
      " [18.42 9.25 1.21 4.0 60.0 540.0]\n",
      " [34.08 0.08 0.04 1.0 280.0 2000.0]\n",
      " [49.58 19.0 0.0 1.0 94.0 0.0]\n",
      " [30.0 5.29 2.25 5.0 99.0 500.0]\n",
      " [20.83 3.0 0.04 0.0 100.0 0.0]\n",
      " [37.5 0.835 0.04 0.0 120.0 5.0]\n",
      " [25.25 13.5 2.0 1.0 200.0 1.0]\n",
      " [38.58 5.0 13.5 0.0 980.0 0.0]\n",
      " [25.0 11.0 4.5 0.0 120.0 0.0]\n",
      " [39.17 2.5 10.0 0.0 200.0 0.0]\n",
      " [34.83 1.25 0.5 0.0 160.0 0.0]\n",
      " [22.5 11.0 3.0 0.0 268.0 0.0]\n",
      " [20.42 1.835 2.25 1.0 100.0 150.0]\n",
      " [40.25 21.5 20.0 11.0 0.0 1200.0]\n",
      " [32.75 2.335 5.75 0.0 292.0 0.0]\n",
      " [23.0 0.75 0.5 0.0 320.0 0.0]\n",
      " [25.17 6.0 1.0 3.0 0.0 0.0]\n",
      " [27.83 4.0 5.75 2.0 75.0 0.0]\n",
      " [27.25 0.625 0.455 0.0 200.0 0.0]\n",
      " [39.92 5.0 0.21 0.0 550.0 0.0]\n",
      " [23.0 0.75 0.5 0.0 320.0 0.0]\n",
      " [17.25 3.0 0.04 0.0 160.0 40.0]\n",
      " [29.92 1.835 4.335 0.0 260.0 200.0]\n",
      " [23.92 0.585 0.125 0.0 240.0 1.0]\n",
      " [32.75 1.5 5.5 3.0 0.0 0.0]\n",
      " [24.75 12.5 1.5 12.0 120.0 567.0]\n",
      " [26.17 2.0 0.0 0.0 276.0 1.0]\n",
      " [24.75 0.54 1.0 0.0 120.0 1.0]\n",
      " [25.0 12.33 3.5 6.0 400.0 458.0]\n",
      " [19.42 1.5 2.0 0.0 100.0 20.0]\n",
      " [45.83 10.5 5.0 7.0 0.0 0.0]\n",
      " [21.92 11.665 0.085 0.0 320.0 5.0]\n",
      " [56.75 12.25 1.25 4.0 200.0 0.0]\n",
      " [22.42 11.25 0.75 4.0 0.0 321.0]\n",
      " [18.08 5.5 0.5 0.0 80.0 0.0]\n",
      " [22.67 10.5 1.335 0.0 100.0 0.0]\n",
      " [37.5 1.125 1.5 0.0 431.0 0.0]\n",
      " [37.33 6.5 4.25 12.0 93.0 0.0]\n",
      " [24.58 12.5 0.875 0.0 260.0 0.0]\n",
      " [16.33 0.21 0.125 0.0 200.0 1.0]\n",
      " [43.08 0.375 0.375 8.0 300.0 162.0]\n",
      " [28.42 3.5 0.835 0.0 280.0 0.0]\n",
      " [57.08 0.335 1.0 0.0 252.0 2197.0]\n",
      " [25.08 2.54 0.25 0.0 370.0 0.0]\n",
      " [34.0 5.085 1.085 0.0 480.0 0.0]\n",
      " [25.75 0.75 0.25 0.0 349.0 23.0]\n",
      " [20.75 10.25 0.71 2.0 49.0 0.0]\n",
      " [29.67 0.75 0.04 0.0 240.0 0.0]\n",
      " [60.08 14.5 18.0 15.0 0.0 1000.0]\n",
      " [27.58 2.04 2.0 3.0 370.0 560.0]\n",
      " [31.42 15.5 0.5 0.0 120.0 0.0]\n",
      " [18.83 0.415 0.165 1.0 200.0 1.0]\n",
      " [26.17 12.5 1.25 0.0 0.0 17.0]\n",
      " [23.58 1.79 0.54 0.0 136.0 1.0]\n",
      " [52.33 1.375 9.46 0.0 200.0 100.0]\n",
      " [51.42 0.04 0.04 0.0 0.0 3000.0]\n",
      " [25.33 2.085 2.75 0.0 360.0 1.0]\n",
      " [25.67 3.25 2.29 1.0 416.0 21.0]\n",
      " [45.33 1.0 0.125 0.0 263.0 0.0]\n",
      " [54.83 15.5 0.0 20.0 152.0 130.0]\n",
      " [13.75 4.0 1.75 2.0 120.0 1000.0]\n",
      " [35.0 2.5 1.0 0.0 210.0 0.0]\n",
      " [52.42 1.5 3.75 0.0 0.0 350.0]\n",
      " [39.83 0.5 0.25 0.0 288.0 0.0]\n",
      " [32.42 2.165 0.0 0.0 120.0 0.0]\n",
      " [37.5 1.75 0.25 0.0 164.0 400.0]\n",
      " [34.0 4.5 1.0 0.0 240.0 0.0]\n",
      " [20.08 1.25 0.0 0.0 0.0 0.0]\n",
      " [34.25 3.0 7.415 0.0 0.0 0.0]\n",
      " [31.25 3.75 0.625 9.0 181.0 0.0]\n",
      " [20.42 1.085 1.5 0.0 108.0 7.0]\n",
      " [29.42 1.25 0.25 2.0 400.0 108.0]\n",
      " [39.17 1.625 1.5 10.0 186.0 4700.0]\n",
      " [22.67 7.0 0.165 0.0 160.0 0.0]\n",
      " [49.5 7.585 7.585 15.0 0.0 5000.0]\n",
      " [36.33 3.79 1.165 0.0 200.0 0.0]\n",
      " [29.5 2.0 2.0 0.0 256.0 17.0]\n",
      " [29.83 3.5 0.165 0.0 216.0 0.0]\n",
      " [47.83 4.165 0.085 0.0 520.0 0.0]\n",
      " [47.0 13.0 5.165 9.0 0.0 0.0]\n",
      " [36.08 2.54 0.0 0.0 0.0 1000.0]\n",
      " [25.83 12.835 0.5 0.0 0.0 2.0]\n",
      " [24.83 4.5 1.0 0.0 360.0 6.0]\n",
      " [26.17 0.25 0.0 0.0 0.0 0.0]\n",
      " [17.08 0.25 0.335 4.0 160.0 8.0]\n",
      " [22.25 1.25 3.25 0.0 280.0 0.0]\n",
      " [27.83 1.54 3.75 5.0 100.0 3.0]\n",
      " [17.58 9.0 1.375 0.0 0.0 0.0]\n",
      " [16.0 3.125 0.085 1.0 0.0 6.0]\n",
      " [42.83 1.25 13.875 1.0 352.0 112.0]\n",
      " [41.0 0.04 0.04 1.0 560.0 0.0]\n",
      " [67.75 5.5 13.0 1.0 0.0 0.0]\n",
      " [25.17 3.5 0.625 7.0 0.0 7059.0]\n",
      " [57.83 7.04 14.0 6.0 360.0 1332.0]\n",
      " [22.08 2.335 0.75 0.0 180.0 0.0]\n",
      " [38.92 1.75 0.5 0.0 300.0 2.0]\n",
      " [26.67 14.585 0.0 0.0 178.0 0.0]\n",
      " [58.42 21.0 10.0 13.0 0.0 6700.0]\n",
      " [52.83 15.0 5.5 14.0 0.0 2200.0]\n",
      " [26.67 2.71 5.25 1.0 211.0 0.0]\n",
      " [21.92 0.54 0.04 1.0 840.0 59.0]\n",
      " [32.08 4.0 2.5 0.0 360.0 0.0]\n",
      " [16.92 0.335 0.29 0.0 200.0 0.0]\n",
      " [17.92 0.205 0.04 0.0 280.0 750.0]\n",
      " [23.75 0.415 0.04 2.0 128.0 6.0]\n",
      " [28.5 3.04 2.54 1.0 70.0 0.0]\n",
      " [27.42 14.5 3.085 1.0 120.0 11.0]\n",
      " [31.08 3.085 2.5 2.0 160.0 41.0]\n",
      " [22.67 0.165 2.25 0.0 0.0 0.0]\n",
      " [28.5 1.0 1.0 2.0 167.0 500.0]\n",
      " [16.08 0.335 0.0 1.0 160.0 126.0]\n",
      " [27.75 0.585 0.25 2.0 260.0 500.0]\n",
      " [58.33 10.0 4.0 14.0 0.0 1602.0]\n",
      " [47.17 5.835 5.5 0.0 465.0 150.0]\n",
      " [19.42 6.5 1.46 7.0 80.0 2954.0]\n",
      " [24.5 1.04 0.5 3.0 180.0 147.0]\n",
      " [18.08 6.75 0.04 0.0 140.0 0.0]\n",
      " [24.58 0.67 1.75 0.0 400.0 0.0]\n",
      " [22.92 0.17 0.085 0.0 0.0 0.0]\n",
      " [20.67 5.29 0.375 1.0 160.0 0.0]\n",
      " [48.58 6.5 6.0 0.0 350.0 0.0]\n",
      " [31.83 0.04 0.04 0.0 0.0 0.0]\n",
      " [49.0 1.5 0.0 0.0 100.0 27.0]\n",
      " [44.33 0.0 2.5 0.0 0.0 0.0]\n",
      " [49.83 13.585 8.5 0.0 0.0 0.0]\n",
      " [33.17 3.04 2.04 1.0 180.0 18027.0]\n",
      " [20.42 10.5 0.0 0.0 154.0 32.0]\n",
      " [30.17 6.5 3.125 8.0 330.0 1200.0]\n",
      " [21.33 7.5 1.415 1.0 80.0 9800.0]\n",
      " [23.5 9.0 8.5 5.0 120.0 0.0]\n",
      " [36.17 18.125 0.085 0.0 320.0 3552.0]\n",
      " [18.5 2.0 1.5 2.0 120.0 300.0]\n",
      " [25.75 0.5 0.875 0.0 491.0 0.0]\n",
      " [60.92 5.0 4.0 4.0 0.0 99.0]\n",
      " [57.08 19.5 5.5 7.0 0.0 3000.0]\n",
      " [24.5 2.415 0.0 0.0 120.0 0.0]\n",
      " [21.83 0.25 0.665 0.0 0.0 0.0]\n",
      " [27.0 0.75 4.25 3.0 312.0 150.0]\n",
      " [36.17 0.42 0.29 0.0 309.0 2.0]\n",
      " [73.42 17.75 0.0 0.0 0.0 0.0]\n",
      " [38.25 6.0 1.0 0.0 0.0 0.0]\n",
      " [21.67 1.165 2.5 1.0 180.0 20.0]\n",
      " [27.75 1.29 0.25 0.0 140.0 0.0]\n",
      " [23.75 0.71 0.25 1.0 240.0 4.0]\n",
      " [48.25 25.085 1.75 3.0 120.0 14.0]\n",
      " [55.75 7.08 6.75 3.0 100.0 50.0]\n",
      " [47.33 6.5 1.0 0.0 0.0 228.0]\n",
      " [18.58 10.29 0.415 0.0 80.0 0.0]\n",
      " [19.5 9.585 0.79 0.0 80.0 350.0]\n",
      " [20.5 11.835 6.0 0.0 340.0 0.0]\n",
      " [53.33 0.165 0.0 0.0 62.0 27.0]\n",
      " [24.5 1.75 0.165 0.0 132.0 0.0]\n",
      " [20.83 0.5 1.0 0.0 260.0 0.0]\n",
      " [32.08 4.0 1.5 0.0 120.0 0.0]\n",
      " [28.17 0.585 0.04 0.0 260.0 1004.0]\n",
      " [23.17 0.0 0.085 0.0 0.0 0.0]\n",
      " [21.83 11.0 0.29 6.0 121.0 0.0]\n",
      " [29.17 3.5 3.5 3.0 329.0 0.0]\n",
      " [37.33 2.665 0.165 0.0 0.0 501.0]\n",
      " [33.92 1.585 0.0 0.0 320.0 0.0]\n",
      " [23.0 0.625 0.125 0.0 180.0 1.0]\n",
      " [17.67 0.0 0.0 0.0 86.0 0.0]\n",
      " [25.42 0.54 0.165 1.0 272.0 444.0]\n",
      " [27.58 3.0 2.79 1.0 280.0 10.0]\n",
      " [18.83 9.54 0.085 0.0 100.0 0.0]\n",
      " [33.08 1.625 0.54 0.0 0.0 0.0]\n",
      " [21.33 10.5 3.0 0.0 0.0 0.0]\n",
      " [23.0 11.75 0.5 2.0 300.0 551.0]\n",
      " [23.17 11.125 0.46 1.0 100.0 0.0]\n",
      " [41.17 6.5 0.5 3.0 145.0 0.0]\n",
      " [59.5 2.75 1.75 5.0 60.0 58.0]\n",
      " [24.58 1.25 0.25 0.0 110.0 0.0]\n",
      " [33.75 2.75 0.0 0.0 180.0 0.0]\n",
      " [22.67 2.54 2.585 0.0 0.0 0.0]\n",
      " [36.17 5.5 5.0 0.0 210.0 687.0]\n",
      " [56.83 4.25 5.0 0.0 0.0 4.0]\n",
      " [15.83 0.585 1.5 2.0 100.0 0.0]\n",
      " [16.5 1.25 0.25 1.0 108.0 98.0]\n",
      " [42.5 4.915 3.165 0.0 52.0 1442.0]\n",
      " [30.67 2.5 2.25 0.0 340.0 0.0]\n",
      " [19.58 0.665 1.665 0.0 220.0 5.0]\n",
      " [20.42 0.835 1.585 1.0 0.0 0.0]\n",
      " [22.5 11.5 1.5 0.0 0.0 4000.0]\n",
      " [39.25 9.5 6.5 14.0 240.0 4607.0]\n",
      " [22.33 11.0 2.0 1.0 80.0 278.0]\n",
      " [69.5 6.0 0.0 0.0 0.0 0.0]\n",
      " [23.08 11.5 3.5 9.0 56.0 742.0]\n",
      " [28.75 3.75 1.085 1.0 371.0 0.0]\n",
      " [33.17 2.25 3.5 0.0 200.0 141.0]\n",
      " [42.75 4.085 0.04 0.0 108.0 100.0]\n",
      " [47.75 8.0 7.875 6.0 0.0 1260.0]\n",
      " [23.5 3.165 0.415 1.0 280.0 80.0]\n",
      " [22.58 10.75 0.415 5.0 0.0 560.0]\n",
      " [41.42 5.0 5.0 6.0 470.0 0.0]\n",
      " [19.33 10.915 0.585 2.0 200.0 7.0]\n",
      " [21.0 3.0 1.085 8.0 160.0 1.0]\n",
      " [25.75 0.5 1.46 5.0 312.0 0.0]\n",
      " [36.33 2.125 0.085 1.0 50.0 1187.0]\n",
      " [16.25 0.0 0.25 0.0 60.0 0.0]\n",
      " [32.42 3.0 0.165 0.0 120.0 0.0]\n",
      " [27.25 1.665 5.085 9.0 399.0 827.0]\n",
      " [37.42 2.04 0.04 0.0 400.0 5800.0]\n",
      " [23.58 0.835 0.085 0.0 220.0 5.0]]\n",
      "[0 1 1 1 0 1 0 0 0 0 0 1 1 0 1 0 0 0 0 0 1 0 0 1 1 0 0 1 0 1 0 1 0 0 1 0 1\n",
      " 0 1 1 0 1 1 0 1 1 0 0 1 1 1 1 0 1 0 0 0 0 0 0 0 0 0 1 0 1 0 0 0 1 0 0 1 1\n",
      " 0 1 0 0 1 0 0 0 0 1 1 0 1 0 0 1 1 1 1 1 0 1 0 0 0 1 0 0 0 1 1 1 0 1 0 1 1\n",
      " 0 1 1 0 1 1 0 0 1 0 0 0 1 0 1 0 0 0 1 1 1 1 1 1 1 1 1 0 1 0 0 1 1 1 1 0 1\n",
      " 1 1 0 1 1 0 0 0 1 0 1 0 0 0 0 1 0 1 0 1 0 0 1 1 1 1 1 0 0 0 0 0 0 1 1 0 1\n",
      " 1 1 0 0 0 0 1 1 0 1 1 0 0 1 0 1 1 1 1 0 1 1 0 1 0 1 0 1 0 1 0 1 1 0 0 0 1\n",
      " 1 1 0 0 0 0 0 0 0 1 0 0 1 0 1 1 1 0 1 1 0 1 1 0 1 1 0 1 0 1 1 1 1 1 0 0 0\n",
      " 0 0 1 1 1 0 0 1 0 0 0 0 0 0 1 1 0 1 1 0 0 0 0 0 0 0 0 1 0 1 1 0 0 1 1 0 0\n",
      " 0 0 0 0 1 1 0 0 1 0 1 0 0 0 0 0 1 0 0 1 0 1 1 0 1 1 0 1 0 0 1 1 1 1 1 1 0\n",
      " 1 1 0 1 1 0 1 0 0 0 0 1 0 0 0 0 0 1 0 1 0 0 0 1 0 0 0 1 0 0 0 0 1 1 0 0 1\n",
      " 0 0 0 1 1 0 1 0 0 1 0 1 0 0 1 0 0 0 0 0 1 1 0 0 0 1 1 1 1 1 1 0 1 0 0 0 1\n",
      " 0 1 0 0 1 0 0 1 0 1 1 1 0 0 0 0 0 1 1 1 0 0 0 0 0 0 1 0 0 0 0 1 1 1 1 1 1\n",
      " 1 0 1 1 0 0 0 0 0 0 1 0 1 0 0 0 0 0 1 1 1 0 1 1 0 0 0 0 0 0 0 1 1 0 0 1 0\n",
      " 0 0 0 0 1 0 1 1 0 0 1 0 1 0 1 1 1 1 1 1 0 0 1 1 0 1 0 1 1 0 1 1 0 0 0 0 0\n",
      " 1 0 0 0 0 1 0 0 0 0 0 0 0 1 1 0 0 1 0 1 0 0 0 0 1 0 0 0 1 0 0 1 1 0 0 1 1\n",
      " 1 1 0 0 0 1 1 1 1 1 0 0 0 1 1 0 1 0 0 1 1 0 1 0 0 0 0 0 1 0 0 1 1 1 0 1 1\n",
      " 1 0 1 1 1 1 0 1 1 0 1 1 0 0 0 1 0 0 0 0 1 0 0 0 0 0 1 1 0 0 0 0 0 0 0 1 0\n",
      " 1 1 1 1 1 0 0 1 0 0 1 0 1 0 0 1 0 1 1 0 1 1 0 0 1 0 1 1 0 1 1 1 0 0 1 1 0]\n"
     ]
    }
   ],
   "source": [
    "inputs = np.append(X3_split[0],X3_split[1],axis= 0)\n",
    "np.random.shuffle(inputs)\n",
    "labels = inputs[:,6]\n",
    "labels = labels.astype('int')\n",
    "inputs = inputs[:,:6]\n",
    "print(inputs)\n",
    "print(labels)"
   ]
  },
  {
   "cell_type": "code",
   "execution_count": 11,
   "id": "2e0ddb47",
   "metadata": {},
   "outputs": [
    {
     "name": "stdout",
     "output_type": "stream",
     "text": [
      "Accuracy for RF is: 0.772 +/- 0.064\n",
      "Area for RF under ROC Curve is: 0.833 +/- 0.008\n",
      "Recall for RF is: 0.682 +/- 0.030\n",
      "Precision for RF is: 0.802 +/- 0.037\n",
      "Execution time for RF is: 1.0029101371765137\n",
      "Accuracy for KNN5 is: 0.697 +/- 0.056\n",
      "Area for KNN5 under ROC Curve is: 0.702 +/- 0.023\n",
      "Recall for KNN5 is: 0.528 +/- 0.027\n",
      "Precision for KNN5 is: 0.652 +/- 0.068\n",
      "Execution time for KNN5 is: 0.06505894660949707\n",
      "Accuracy for KNN10 is: 0.697 +/- 0.066\n",
      "Area for KNN10 under ROC Curve is: 0.707 +/- 0.022\n",
      "Recall for KNN10 is: 0.485 +/- 0.075\n",
      "Precision for KNN10 is: 0.705 +/- 0.074\n",
      "Execution time for KNN10 is: 0.0670614242553711\n",
      "Accuracy for gnb is: 0.721 +/- 0.044\n",
      "Area for gnb under ROC Curve is: 0.789 +/- 0.025\n",
      "Recall for gnb is: 0.479 +/- 0.073\n",
      "Precision for gnb is: 0.837 +/- 0.022\n",
      "Execution time for gnb is: 0.02202010154724121\n",
      "Accuracy for CART is: 0.710 +/- 0.051\n",
      "Area for CART under ROC Curve is: 0.695 +/- 0.008\n",
      "Recall for CART is: 0.632 +/- 0.009\n",
      "Precision for CART is: 0.681 +/- 0.018\n",
      "Execution time for CART is: 0.04103660583496094\n",
      "Accuracy for id3 is: 0.757 +/- 0.051\n",
      "Area for id3 under ROC Curve is: 0.760 +/- 0.022\n",
      "Recall for id3 is: 0.636 +/- 0.047\n",
      "Precision for id3 is: 0.755 +/- 0.028\n",
      "Execution time for id3 is: 0.043038368225097656\n",
      "Accuracy for MLP40,20 is: 0.724 +/- 0.030\n",
      "Area for MLP40,20 under ROC Curve is: 0.762 +/- 0.021\n",
      "Recall for MLP40,20 is: 0.632 +/- 0.107\n",
      "Precision for MLP40,20 is: 0.741 +/- 0.055\n",
      "Execution time for MLP40,20 is: 1.493354320526123\n",
      "Accuracy for MLP20,10 is: 0.674 +/- 0.075\n",
      "Area for MLP20,10 under ROC Curve is: 0.749 +/- 0.014\n",
      "Recall for MLP20,10 is: 0.733 +/- 0.090\n",
      "Precision for MLP20,10 is: 0.618 +/- 0.084\n",
      "Execution time for MLP20,10 is: 1.2041020393371582\n",
      "Accuracy for Random Forest 20 is: 0.769 +/- 0.062\n",
      "Area for Random Forest 20 under ROC Curve is: 0.833 +/- 0.004\n",
      "Recall for Random Forest 20 is: 0.676 +/- 0.019\n",
      "Precision for Random Forest 20 is: 0.759 +/- 0.040\n",
      "Execution time for Random Forest 20 is: 1.954773187637329\n",
      "Accuracy for Random Forest 50 is: 0.769 +/- 0.062\n",
      "Area for Random Forest 50 under ROC Curve is: 0.833 +/- 0.004\n",
      "Recall for Random Forest 50 is: 0.676 +/- 0.019\n",
      "Precision for Random Forest 50 is: 0.759 +/- 0.040\n",
      "Execution time for Random Forest 50 is: 1.9637722969055176\n",
      "Accuracy for AdaBoost20 is: 0.809 +/- 0.054\n",
      "Area for AdaBoost20 under ROC Curve is: 0.824 +/- 0.016\n",
      "Recall for AdaBoost20 is: 0.686 +/- 0.037\n",
      "Precision for AdaBoost20 is: 0.762 +/- 0.023\n",
      "Execution time for AdaBoost20 is: 0.43139147758483887\n",
      "Accuracy for AdaBoost50 is: 0.797 +/- 0.069\n",
      "Area for AdaBoost50 under ROC Curve is: 0.807 +/- 0.017\n",
      "Recall for AdaBoost50 is: 0.706 +/- 0.060\n",
      "Precision for AdaBoost50 is: 0.747 +/- 0.015\n",
      "Execution time for AdaBoost50 is: 1.052955150604248\n",
      "Accuracy for Bagging20 is: 0.658 +/- 0.038\n",
      "Area for Bagging20 under ROC Curve is: 0.696 +/- 0.026\n",
      "Recall for Bagging20 is: 0.298 +/- 0.034\n",
      "Precision for Bagging20 is: 0.820 +/- 0.058\n",
      "Execution time for Bagging20 is: 2.424208402633667\n",
      "Accuracy for Bagging50 is: 0.658 +/- 0.038\n",
      "Area for Bagging50 under ROC Curve is: 0.696 +/- 0.026\n",
      "Recall for Bagging50 is: 0.308 +/- 0.021\n",
      "Precision for Bagging50 is: 0.820 +/- 0.050\n",
      "Execution time for Bagging50 is: 5.974419832229614\n",
      "Accuracy for Stump is: 0.743 +/- 0.047\n",
      "Area for Stump under ROC Curve is: 0.722 +/- 0.010\n",
      "Recall for Stump is: 0.508 +/- 0.028\n",
      "Precision for Stump is: 0.868 +/- 0.046\n",
      "Execution time for Stump is: 0.02002239227294922\n"
     ]
    }
   ],
   "source": [
    "from sklearn.ensemble import RandomForestClassifier\n",
    "from sklearn.neighbors import KNeighborsClassifier\n",
    "from sklearn.naive_bayes import GaussianNB\n",
    "from sklearn.tree import DecisionTreeClassifier\n",
    "from sklearn.neural_network import MLPClassifier\n",
    "from sklearn.ensemble import AdaBoostClassifier\n",
    "from sklearn.ensemble import BaggingClassifier\n",
    "from sklearn.svm import SVC\n",
    "\n",
    "clfs = { \n",
    "   'RF': RandomForestClassifier(n_estimators=50, random_state=1),\n",
    "   'KNN5': KNeighborsClassifier(n_neighbors=5), \n",
    "   'KNN10': KNeighborsClassifier(n_neighbors=10),\n",
    "   'gnb': GaussianNB(),\n",
    "   'CART': DecisionTreeClassifier(criterion='gini', random_state=1),\n",
    "   'id3': DecisionTreeClassifier(criterion='entropy',max_depth=8,splitter='best'),\n",
    "   'MLP40,20': MLPClassifier(hidden_layer_sizes=(40,20), random_state = 1),\n",
    "   'MLP20,10': MLPClassifier(hidden_layer_sizes=(20,10), random_state = 1),\n",
    "   'Random Forest 20': RandomForestClassifier(max_depth=20, random_state=0),\n",
    "   'Random Forest 50': RandomForestClassifier(max_depth=50, random_state=0),\n",
    "   'AdaBoost20': AdaBoostClassifier(n_estimators=20, random_state=0),\n",
    "   'AdaBoost50': AdaBoostClassifier(n_estimators=50, random_state=0),\n",
    "   'Bagging20': BaggingClassifier(base_estimator=SVC(), n_estimators=20, random_state=0),\n",
    "   'Bagging50': BaggingClassifier(base_estimator=SVC(), n_estimators=50, random_state=0),\n",
    "   'Stump':DecisionTreeClassifier(max_depth=1, min_samples_leaf=1),\n",
    "}\n",
    "\n",
    "results = run_classifiers(clfs,inputs,labels)"
   ]
  },
  {
   "cell_type": "code",
   "execution_count": 12,
   "id": "58c91847",
   "metadata": {},
   "outputs": [
    {
     "name": "stdout",
     "output_type": "stream",
     "text": [
      "{'RF': {'Accuracy': array([0.79104478, 0.71641791, 0.73134328, 0.85074627, 0.86567164,\n",
      "       0.76119403, 0.71212121, 0.86363636, 0.68181818, 0.74242424]), 'AUC': array([0.82298596, 0.84356557, 0.83172131]), 'Recall': array([0.70707071, 0.7       , 0.64      ]), 'Precision': array([0.75268817, 0.84337349, 0.81012658])}, 'KNN5': {'Accuracy': array([0.71641791, 0.74626866, 0.7761194 , 0.70149254, 0.65671642,\n",
      "       0.70149254, 0.6969697 , 0.75757576, 0.59090909, 0.62121212]), 'AUC': array([0.71187485, 0.67016393, 0.72520492]), 'Recall': array([0.54545455, 0.55      , 0.49      ]), 'Precision': array([0.63529412, 0.57894737, 0.74242424])}, 'KNN10': {'Accuracy': array([0.74626866, 0.73134328, 0.74626866, 0.68656716, 0.70149254,\n",
      "       0.68656716, 0.71212121, 0.78787879, 0.54545455, 0.62121212]), 'AUC': array([0.69200131, 0.69245902, 0.73803279]), 'Recall': array([0.54545455, 0.53      , 0.38      ]), 'Precision': array([0.64285714, 0.6625    , 0.80851064])}, 'gnb': {'Accuracy': array([0.70149254, 0.7761194 , 0.79104478, 0.76119403, 0.71641791,\n",
      "       0.65671642, 0.65151515, 0.72727273, 0.71212121, 0.71212121]), 'AUC': array([0.81382935, 0.79868852, 0.75516393]), 'Recall': array([0.57575758, 0.46      , 0.4       ]), 'Precision': array([0.82608696, 0.86792453, 0.81632653])}, 'CART': {'Accuracy': array([0.73134328, 0.64179104, 0.65671642, 0.71641791, 0.74626866,\n",
      "       0.67164179, 0.77272727, 0.77272727, 0.63636364, 0.75757576]), 'AUC': array([0.6962306 , 0.70344262, 0.6847541 ]), 'Recall': array([0.63636364, 0.62      , 0.64      ]), 'Precision': array([0.67741935, 0.70454545, 0.65979381])}, 'id3': {'Accuracy': array([0.8358209 , 0.70149254, 0.68656716, 0.71641791, 0.79104478,\n",
      "       0.74626866, 0.77272727, 0.83333333, 0.71212121, 0.77272727]), 'AUC': array([0.7812269 , 0.76983607, 0.72909836]), 'Recall': array([0.67676768, 0.66      , 0.57      ]), 'Precision': array([0.77272727, 0.77647059, 0.71604938])}, 'MLP40,20': {'Accuracy': array([0.71641791, 0.70149254, 0.70149254, 0.73134328, 0.7761194 ,\n",
      "       0.76119403, 0.71212121, 0.66666667, 0.74242424, 0.72727273]), 'AUC': array([0.78582574, 0.76540984, 0.7345082 ]), 'Recall': array([0.74747475, 0.49      , 0.66      ]), 'Precision': array([0.7184466 , 0.81666667, 0.6875    ])}, 'MLP20,10': {'Accuracy': array([0.64179104, 0.52238806, 0.70149254, 0.71641791, 0.82089552,\n",
      "       0.62686567, 0.66666667, 0.72727273, 0.62121212, 0.6969697 ]), 'AUC': array([0.73121458, 0.76434426, 0.7502459 ]), 'Recall': array([0.84848485, 0.63      , 0.72      ]), 'Precision': array([0.53164557, 0.73255814, 0.59016393])}, 'Random Forest 20': {'Accuracy': array([0.7761194 , 0.71641791, 0.76119403, 0.8358209 , 0.85074627,\n",
      "       0.71641791, 0.72727273, 0.87878788, 0.68181818, 0.74242424]), 'AUC': array([0.8318962 , 0.83815574, 0.8295082 ]), 'Recall': array([0.6969697, 0.68     , 0.65     ]), 'Precision': array([0.71134021, 0.80952381, 0.75581395])}, 'Random Forest 50': {'Accuracy': array([0.7761194 , 0.71641791, 0.76119403, 0.8358209 , 0.85074627,\n",
      "       0.71641791, 0.72727273, 0.87878788, 0.68181818, 0.74242424]), 'AUC': array([0.8318962 , 0.83815574, 0.8295082 ]), 'Recall': array([0.6969697, 0.68     , 0.65     ]), 'Precision': array([0.71134021, 0.80952381, 0.75581395])}, 'AdaBoost20': {'Accuracy': array([0.86567164, 0.71641791, 0.80597015, 0.88059701, 0.8358209 ,\n",
      "       0.76119403, 0.75757576, 0.87878788, 0.77272727, 0.81818182]), 'AUC': array([0.83345652, 0.83565574, 0.80151639]), 'Recall': array([0.68686869, 0.73      , 0.64      ]), 'Precision': array([0.74725275, 0.79347826, 0.74418605])}, 'AdaBoost50': {'Accuracy': array([0.82089552, 0.73134328, 0.8358209 , 0.91044776, 0.82089552,\n",
      "       0.74626866, 0.68181818, 0.89393939, 0.75757576, 0.77272727]), 'AUC': array([0.80586351, 0.82840164, 0.78618852]), 'Recall': array([0.77777778, 0.71      , 0.63      ]), 'Precision': array([0.72641509, 0.76344086, 0.75      ])}, 'Bagging20': {'Accuracy': array([0.67164179, 0.62686567, 0.73134328, 0.68656716, 0.62686567,\n",
      "       0.68656716, 0.63636364, 0.66666667, 0.59090909, 0.65151515]), 'AUC': array([0.678328  , 0.73327869, 0.67655738]), 'Recall': array([0.31313131, 0.33      , 0.25      ]), 'Precision': array([0.81578947, 0.75      , 0.89285714])}, 'Bagging50': {'Accuracy': array([0.67164179, 0.62686567, 0.73134328, 0.68656716, 0.62686567,\n",
      "       0.67164179, 0.63636364, 0.68181818, 0.59090909, 0.65151515]), 'AUC': array([0.67799951, 0.73278689, 0.67762295]), 'Recall': array([0.31313131, 0.33      , 0.28      ]), 'Precision': array([0.86111111, 0.75      , 0.84848485])}, 'Stump': {'Accuracy': array([0.76119403, 0.74626866, 0.79104478, 0.80597015, 0.74626866,\n",
      "       0.65671642, 0.72727273, 0.8030303 , 0.6969697 , 0.6969697 ]), 'AUC': array([0.71483124, 0.73540984, 0.7145082 ]), 'Recall': array([0.53535354, 0.52      , 0.47      ]), 'Precision': array([0.8030303 , 0.89655172, 0.90384615])}}\n"
     ]
    }
   ],
   "source": [
    "print(results)"
   ]
  },
  {
   "cell_type": "code",
   "execution_count": 15,
   "id": "ec7a3d54",
   "metadata": {},
   "outputs": [
    {
     "name": "stdout",
     "output_type": "stream",
     "text": [
      "{'RF': 0.8327576141260667, 'KNN5': 0.7024145661600679, 'KNN10': 0.7074977057437407, 'gnb': 0.78922726981037, 'CART': 0.6948091066603662, 'id3': 0.7600537764692102, 'MLP40,20': 0.7619145899440448, 'MLP20,10': 0.7486015829358492, 'Random Forest 20': 0.833186710725362, 'Random Forest 50': 0.833186710725362, 'AdaBoost20': 0.8235428825102956, 'AdaBoost50': 0.8068178923716709, 'Bagging20': 0.6960546869916455, 'Bagging50': 0.6961364477777913, 'Stump': 0.7215830906694561}\n"
     ]
    }
   ],
   "source": [
    "auc = {}\n",
    "for key in results:\n",
    "    auc[key] = np.mean(results[key]['AUC'])\n",
    "print(auc)"
   ]
  },
  {
   "cell_type": "code",
   "execution_count": 18,
   "id": "11eea818",
   "metadata": {},
   "outputs": [
    {
     "name": "stdout",
     "output_type": "stream",
     "text": [
      "Random Forest 20  :  0.833186710725362\n"
     ]
    }
   ],
   "source": [
    "print(max(auc,key=auc.get), \" : \", auc[max(auc,key=auc.get)])"
   ]
  },
  {
   "cell_type": "code",
   "execution_count": null,
   "id": "150c0ac5",
   "metadata": {},
   "outputs": [],
   "source": []
  }
 ],
 "metadata": {
  "kernelspec": {
   "display_name": "Python 3 (ipykernel)",
   "language": "python",
   "name": "python3"
  },
  "language_info": {
   "codemirror_mode": {
    "name": "ipython",
    "version": 3
   },
   "file_extension": ".py",
   "mimetype": "text/x-python",
   "name": "python",
   "nbconvert_exporter": "python",
   "pygments_lexer": "ipython3",
   "version": "3.9.9"
  }
 },
 "nbformat": 4,
 "nbformat_minor": 5
}
